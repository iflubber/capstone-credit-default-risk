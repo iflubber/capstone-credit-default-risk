{
 "cells": [
  {
   "cell_type": "code",
   "execution_count": null,
   "metadata": {
    "_execution_state": "idle",
    "_uuid": "d992c275f08b8f89c82faa27643f9dbbb5e3e554"
   },
   "outputs": [],
   "source": [
    "## Importing packages\n",
    "\n",
    "# This R environment comes with all of CRAN and many other helpful packages preinstalled.\n",
    "# You can see which packages are installed by checking out the kaggle/rstats docker image: \n",
    "# https://github.com/kaggle/docker-rstats\n",
    "\n",
    "library(tidyverse) # metapackage with lots of helpful functions\n",
    "\n",
    "## Running code\n",
    "\n",
    "# In a notebook, you can run a single code cell by clicking in the cell and then hitting \n",
    "# the blue arrow to the left, or by clicking in the cell and pressing Shift+Enter. In a script, \n",
    "# you can run code by highlighting the code you want to run and then clicking the blue arrow\n",
    "# at the bottom of this window.\n",
    "\n",
    "## Reading in files\n",
    "\n",
    "# You can access files from datasets you've added to this kernel in the \"../input/\" directory.\n",
    "# You can see the files added to this kernel by running the code below. \n",
    "\n",
    "list.files(path = \"../input\")\n",
    "\n",
    "## Saving data\n",
    "\n",
    "# If you save any files or images, these will be put in the \"output\" directory. You \n",
    "# can see the output directory by committing and running your kernel (using the \n",
    "# Commit & Run button) and then checking out the compiled version of your kernel."
   ]
  },
  {
   "cell_type": "code",
   "execution_count": null,
   "metadata": {
    "_uuid": "a135e94d75b3876919219dd18b59ad4adc4b2ac9"
   },
   "outputs": [],
   "source": [
    "application_train <- read.csv('../input/application_train_clean_SMOTEd.csv',1)\n",
    "dim(application_train)"
   ]
  },
  {
   "cell_type": "code",
   "execution_count": null,
   "metadata": {
    "_uuid": "2e811faa4b3dfd6bc4fc78bf52f6bb17b678cfe3"
   },
   "outputs": [],
   "source": [
    "str(application_train)"
   ]
  },
  {
   "cell_type": "code",
   "execution_count": null,
   "metadata": {
    "_uuid": "4fe39a41cdbf7b13ed1bee5639987f9f51da25a1"
   },
   "outputs": [],
   "source": [
    "names(application_train)"
   ]
  },
  {
   "cell_type": "code",
   "execution_count": null,
   "metadata": {
    "_uuid": "4cc90f6bf1987b55e909e8296319b8f197b4d10a"
   },
   "outputs": [],
   "source": [
    "# convert categorical attributes to factor type\n",
    "data_cat <- application_train[,c(1:49)]\n",
    "data_num <- application_train[,-c(1:49)]\n",
    "data_cat <- data.frame(apply(data_cat, 2,function(x){as.factor(x)}))\n",
    "data_num <- data.frame(apply(data_num, 2,function(x){as.numeric(x)}))\n",
    "application_train <- cbind(data_cat,data_num)\n",
    "str(application_train)"
   ]
  },
  {
   "cell_type": "code",
   "execution_count": null,
   "metadata": {
    "_uuid": "889332bb754a814516ad7f4f029e15f184259f84"
   },
   "outputs": [],
   "source": [
    "application_train <- application_train[,-c(12)] # FLAG_MOBIL has got just 1 level"
   ]
  },
  {
   "cell_type": "code",
   "execution_count": null,
   "metadata": {
    "_uuid": "d044c8ebe4a7cd117a55456a9732856f4a2bc778"
   },
   "outputs": [],
   "source": [
    "# class distribution\n",
    "table(application_train$TARGET)"
   ]
  },
  {
   "cell_type": "code",
   "execution_count": null,
   "metadata": {
    "_uuid": "62ed47cf24e9877ca7b7615dcc53c24df5339585"
   },
   "outputs": [],
   "source": [
    "# Split Data into Train and test - 70:30\n",
    "library(caret)\n",
    "set.seed(7)\n",
    "train_test_split<-createDataPartition(application_train$TARGET, p=0.7, list = FALSE)\n",
    "train_data<-application_train[train_test_split,]\n",
    "test_data<-application_train[-train_test_split,]"
   ]
  },
  {
   "cell_type": "code",
   "execution_count": null,
   "metadata": {
    "_uuid": "b6abddc5e2c915dedbde8bcdb014086049436b67"
   },
   "outputs": [],
   "source": [
    "# train - class distribution\n",
    "table(train_data$TARGET)"
   ]
  },
  {
   "cell_type": "code",
   "execution_count": null,
   "metadata": {
    "_uuid": "3b139c3e1cf4c1131cc909d18e39bd3995b59720"
   },
   "outputs": [],
   "source": [
    "# test - class distribution\n",
    "table(test_data$TARGET)"
   ]
  },
  {
   "cell_type": "code",
   "execution_count": null,
   "metadata": {
    "_uuid": "7d6b25c90d73b38c73f49018686cd6b26bfa9965"
   },
   "outputs": [],
   "source": [
    "library(nnet)\n",
    "modelANN = nnet(TARGET ~ .,train_data[,-c(1)],size=100,MaxNWts = 30000,decay=5e-4,maxit=200) #try size=200\n",
    "modelANN"
   ]
  },
  {
   "cell_type": "code",
   "execution_count": null,
   "metadata": {
    "_uuid": "a816195c6dc9e4f0a3ddf05d02be994f99dcef9f"
   },
   "outputs": [],
   "source": [
    "# Predict the outcome - test\n",
    "predictions<-predict(modelANN,test_data[,-c(1,2)], type=\"class\")\n",
    "##Confusion Matrix\n",
    "table(test_data$TARGET,predictions)\n",
    "confusionMatrix(as.factor(predictions),test_data$TARGET)"
   ]
  },
  {
   "cell_type": "code",
   "execution_count": null,
   "metadata": {
    "_uuid": "2deaecf6303b921a4cdb991a5481e7c754e5f60c"
   },
   "outputs": [],
   "source": [
    "library(ROCR)\n",
    "# ROC - test data\n",
    "pred<-predict(modelANN,test_data[,-c(1,2)], type=\"raw\")\n",
    "pred<-prediction(pred, test_data$TARGET)\n",
    "roc<-performance(pred,\"tpr\", \"fpr\")\n",
    "plot(roc)\n",
    "auc<-performance(pred,\"auc\")\n",
    "auc\n",
    "auc<-unlist(slot(auc,\"y.values\"))\n",
    "auc"
   ]
  }
 ],
 "metadata": {
  "kernelspec": {
   "display_name": "R",
   "language": "R",
   "name": "ir"
  },
  "language_info": {
   "codemirror_mode": "r",
   "file_extension": ".r",
   "mimetype": "text/x-r-source",
   "name": "R",
   "pygments_lexer": "r",
   "version": "3.5.1"
  }
 },
 "nbformat": 4,
 "nbformat_minor": 1
}
