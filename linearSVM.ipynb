{
  "cells": [
    {
      "metadata": {
        "_uuid": "94f2de1c05ef14c9adbd56d26d72b10c77abf8d5",
        "_execution_state": "idle",
        "trusted": false
      },
      "cell_type": "code",
      "source": "## Importing packages\n\n# This R environment comes with all of CRAN and many other helpful packages preinstalled.\n# You can see which packages are installed by checking out the kaggle/rstats docker image: \n# https://github.com/kaggle/docker-rstats\n\nlibrary(tidyverse) # metapackage with lots of helpful functions\n\n## Running code\n\n# In a notebook, you can run a single code cell by clicking in the cell and then hitting \n# the blue arrow to the left, or by clicking in the cell and pressing Shift+Enter. In a script, \n# you can run code by highlighting the code you want to run and then clicking the blue arrow\n# at the bottom of this window.\n\n## Reading in files\n\n# You can access files from datasets you've added to this kernel in the \"../input/\" directory.\n# You can see the files added to this kernel by running the code below. \n\nlist.files(path = \"../input\")\n\n## Saving data\n\n# If you save any files or images, these will be put in the \"output\" directory. You \n# can see the output directory by committing and running your kernel (using the \n# Commit & Run button) and then checking out the compiled version of your kernel.",
      "execution_count": null,
      "outputs": []
    },
    {
      "metadata": {
        "trusted": true,
        "_uuid": "e117574ff7ec956e1f929ec13bc6ac4f19fa7453"
      },
      "cell_type": "code",
      "source": "application_train <- read.csv('../input/application_train_clean_SMOTEd.csv',1)\ndim(application_train)",
      "execution_count": null,
      "outputs": []
    },
    {
      "metadata": {
        "trusted": true,
        "_uuid": "b9ea26beb0ec0c2707122b829750f996dfc10f1d"
      },
      "cell_type": "code",
      "source": "str(application_train)",
      "execution_count": null,
      "outputs": []
    },
    {
      "metadata": {
        "trusted": true,
        "_uuid": "41181ca80c10a789d6b285537860deeca7d17812"
      },
      "cell_type": "code",
      "source": "names(application_train)",
      "execution_count": null,
      "outputs": []
    },
    {
      "metadata": {
        "trusted": true,
        "_uuid": "7f31ce2a72b331927c64268b802646a4b3a3f43b"
      },
      "cell_type": "code",
      "source": "# convert categorical attributes to factor type\ndata_cat <- application_train[,c(1:49)]\ndata_num <- application_train[,-c(1:49)]\ndata_cat <- data.frame(apply(data_cat, 2,function(x){as.factor(x)}))\ndata_num <- data.frame(apply(data_num, 2,function(x){as.numeric(x)}))\napplication_train <- cbind(data_cat,data_num)\nstr(application_train)",
      "execution_count": null,
      "outputs": []
    },
    {
      "metadata": {
        "trusted": true,
        "_uuid": "49bbc6927336617bc52d03f6e15b2240603bf779"
      },
      "cell_type": "code",
      "source": "application_train <- application_train[,-c(12)] # FLAG_MOBIL has got just 1 level",
      "execution_count": null,
      "outputs": []
    },
    {
      "metadata": {
        "trusted": true,
        "_uuid": "9c607d36834c5e0b2d693c2fcabab49f84c24385"
      },
      "cell_type": "code",
      "source": "application_train$TARGET<-ifelse(application_train$TARGET==\"1\",\"yes\",\"no\")\napplication_train$TARGET<-factor(application_train$TARGET)",
      "execution_count": null,
      "outputs": []
    },
    {
      "metadata": {
        "trusted": true,
        "_uuid": "563e991720ecf001f430b29ac17faa5dbbf4c12a"
      },
      "cell_type": "code",
      "source": "# class distribution\ntable(application_train$TARGET)",
      "execution_count": null,
      "outputs": []
    },
    {
      "metadata": {
        "trusted": true,
        "_uuid": "b905966484b63235a857797523cae2edfa3cd2f4"
      },
      "cell_type": "code",
      "source": "# Split Data into Train and test - 70:30\nlibrary(caret)\nset.seed(7)\ntrain_test_split<-createDataPartition(application_train$TARGET, p=0.7, list = FALSE)\ntrain_data<-application_train[train_test_split,]\ntest_data<-application_train[-train_test_split,]",
      "execution_count": null,
      "outputs": []
    },
    {
      "metadata": {
        "trusted": true,
        "_uuid": "f77b68a1bc03122b8418dd8f36180bc98cb48ce0"
      },
      "cell_type": "code",
      "source": "# train - class distribution\ntable(train_data$TARGET)",
      "execution_count": null,
      "outputs": []
    },
    {
      "metadata": {
        "trusted": true,
        "_uuid": "7f1d0bb0c60346cc57f50e0df0f45a7f53804adc"
      },
      "cell_type": "code",
      "source": "# test - class distribution\ntable(test_data$TARGET)",
      "execution_count": null,
      "outputs": []
    },
    {
      "metadata": {
        "trusted": true,
        "_uuid": "2a6326dbdb017d63818f20d61c1d71ef6e1bcae1"
      },
      "cell_type": "code",
      "source": "# Support Vector Machine using caret\n#trctrl <- trainControl(method = \"cv\", number = 5, summaryFunction=twoClassSummary, classProbs=TRUE)\n#set.seed(7)\n \n#svm_Linear <- train(TARGET ~., data = train_data[,-c(1)], method = \"svmLinear\",\n#                 trControl=trctrl,\n#                 preProcess = c(\"center\", \"scale\"),\n#                 metric=\"ROC\")\n#plot(svm_Linear)\n#svm_Linear",
      "execution_count": null,
      "outputs": []
    },
    {
      "metadata": {
        "trusted": true,
        "_uuid": "2899c36a716dd88f283a10edef12eef3f491b324"
      },
      "cell_type": "code",
      "source": "library(e1071)\n# create model\nsvm_Linear <- svm(TARGET~.,data=train_data[,-c(1)],kernel='linear',gamma=0.2,cost=100)",
      "execution_count": null,
      "outputs": []
    },
    {
      "metadata": {
        "trusted": true,
        "_uuid": "f20fae8cc3fca263c29c1a3f8103f065c8e8ac4f"
      },
      "cell_type": "code",
      "source": "# Predict on train data \npred_model_train <-predict(svm_Linear,newdata=train_data[,-c(1,2)])\nconfusionMatrix(pred_model_train, train_data$TARGET )",
      "execution_count": null,
      "outputs": []
    },
    {
      "metadata": {
        "trusted": true,
        "_uuid": "d661fab3351b10c39b329fc9334b173ed7de30d5"
      },
      "cell_type": "code",
      "source": "# Prediction and Calculate Performance Metrics\npredictions <- predict(svm_Linear,train_data[,-c(1,2)])\nroc_curve <- roc(train_data$TARGET,as.numeric(predictions),plot=TRUE)\nauc(roc_curve)",
      "execution_count": null,
      "outputs": []
    },
    {
      "metadata": {
        "trusted": true,
        "_uuid": "5bb3b754e9436673fb9faa390bbd308f4a748fb1"
      },
      "cell_type": "code",
      "source": "# Predict on test data \npred_model_test <-predict(svm_Linear,newdata=test_data[,-c(1,2)])\nconfusionMatrix(pred_model_test, test_data$TARGET )",
      "execution_count": null,
      "outputs": []
    },
    {
      "metadata": {
        "trusted": true,
        "_uuid": "d1f7a56e070a309b1479327ed4c893114c3a3f77"
      },
      "cell_type": "code",
      "source": "# Prediction and Calculate Performance Metrics\npredictions <- predict(svm_Linear,test_data[,-c(1,2)])\nroc_curve <- roc(test_data$TARGET,as.numeric(predictions),plot=TRUE)\nauc(roc_curve)",
      "execution_count": null,
      "outputs": []
    }
  ],
  "metadata": {
    "kernelspec": {
      "display_name": "R",
      "language": "R",
      "name": "ir"
    },
    "language_info": {
      "mimetype": "text/x-r-source",
      "name": "R",
      "pygments_lexer": "r",
      "version": "3.4.2",
      "file_extension": ".r",
      "codemirror_mode": "r"
    }
  },
  "nbformat": 4,
  "nbformat_minor": 1
}