{
  "cells": [
    {
      "metadata": {
        "_uuid": "1ca14c28cb07d0e334bb40094a5127b28e2dde23",
        "_execution_state": "idle",
        "trusted": true
      },
      "cell_type": "code",
      "source": "## Importing packages\n\n# This R environment comes with all of CRAN and many other helpful packages preinstalled.\n# You can see which packages are installed by checking out the kaggle/rstats docker image: \n# https://github.com/kaggle/docker-rstats\n\nlibrary(tidyverse) # metapackage with lots of helpful functions\n\n## Running code\n\n# In a notebook, you can run a single code cell by clicking in the cell and then hitting \n# the blue arrow to the left, or by clicking in the cell and pressing Shift+Enter. In a script, \n# you can run code by highlighting the code you want to run and then clicking the blue arrow\n# at the bottom of this window.\n\n## Reading in files\n\n# You can access files from datasets you've added to this kernel in the \"../input/\" directory.\n# You can see the files added to this kernel by running the code below. \n\nlist.files(path = \"../input\")\n\n## Saving data\n\n# If you save any files or images, these will be put in the \"output\" directory. You \n# can see the output directory by committing and running your kernel (using the \n# Commit & Run button) and then checking out the compiled version of your kernel.",
      "execution_count": null,
      "outputs": []
    },
    {
      "metadata": {
        "trusted": true,
        "_uuid": "a215d5a90747a235666d28eae3316627bd5dff16"
      },
      "cell_type": "code",
      "source": "application_train <- read.csv('../input/application_train_clean_SMOTEd.csv',1)\ndim(application_train)",
      "execution_count": null,
      "outputs": []
    },
    {
      "metadata": {
        "trusted": true,
        "_uuid": "311063187a37e9b1f005e44aa80179441a20d193"
      },
      "cell_type": "code",
      "source": "str(application_train)",
      "execution_count": null,
      "outputs": []
    },
    {
      "metadata": {
        "trusted": true,
        "_uuid": "11ec8f3206f30059fd4e73ea47749a14c97ff664"
      },
      "cell_type": "code",
      "source": "names(application_train)",
      "execution_count": null,
      "outputs": []
    },
    {
      "metadata": {
        "trusted": true,
        "_uuid": "8db412ff7ffd31480f59ce68f8fab00b26b8f6a1"
      },
      "cell_type": "code",
      "source": "# convert categorical attributes to factor type\ndata_cat <- application_train[,c(1:49)]\ndata_num <- application_train[,-c(1:49)]\ndata_cat <- data.frame(apply(data_cat, 2,function(x){as.factor(x)}))\ndata_num <- data.frame(apply(data_num, 2,function(x){as.numeric(x)}))\napplication_train <- cbind(data_cat,data_num)\nstr(application_train)",
      "execution_count": null,
      "outputs": []
    },
    {
      "metadata": {
        "trusted": true,
        "_uuid": "5fcb0a90ca7730987be6d6425a36e397861ecb52"
      },
      "cell_type": "code",
      "source": "application_train <- application_train[,-c(12)] # FLAG_MOBIL has got just 1 level",
      "execution_count": null,
      "outputs": []
    },
    {
      "metadata": {
        "trusted": true,
        "_uuid": "f7e0c71ae8e4bc36ec5697ab08d29ebda351c99a"
      },
      "cell_type": "code",
      "source": "# class distribution\ntable(application_train$TARGET)",
      "execution_count": null,
      "outputs": []
    },
    {
      "metadata": {
        "trusted": true,
        "_uuid": "33d81a3a523cd4c3dce0210b240da484bd4926cb"
      },
      "cell_type": "code",
      "source": "# Split Data into Train and test - 70:30\nlibrary(caret)\nset.seed(7)\ntrain_test_split<-createDataPartition(application_train$TARGET, p=0.7, list = FALSE)\ntrain_data<-application_train[train_test_split,]\ntest_data<-application_train[-train_test_split,]",
      "execution_count": null,
      "outputs": []
    },
    {
      "metadata": {
        "trusted": true,
        "_uuid": "90c6d652d4d1d0f405649140383e9097a2c4deb5"
      },
      "cell_type": "code",
      "source": "# train - class distribution\ntable(train_data$TARGET)",
      "execution_count": null,
      "outputs": []
    },
    {
      "metadata": {
        "trusted": true,
        "_uuid": "1cea21434b691ecfee52d449dca62aeb2aed01c5"
      },
      "cell_type": "code",
      "source": "# test - class distribution\ntable(test_data$TARGET)",
      "execution_count": null,
      "outputs": []
    },
    {
      "metadata": {
        "trusted": true,
        "_uuid": "e5fd2c456c6104c0921a3b51d78b23e7e294ab03"
      },
      "cell_type": "code",
      "source": "library(rpart)\n# Fully grown trees\n# Build the model\n#set.seed(123)\n#model1 <- rpart(TARGET ~., data = train_data[,-c(1)], method = \"class\")\n# Plot the trees\n#par(xpd = NA) # Avoid clipping the text in some device\n#plot(model1)\n#text(model1, digits = 3)\n# Make predictions on the test data\n#predicted.classes <- model1 %>% \n#  predict(test_data[,-c(1,2)], type = \"class\")\n#head(predicted.classes)\n# Compute model accuracy rate on test data\n#mean(predicted.classes == test_data$TARGET)",
      "execution_count": null,
      "outputs": []
    },
    {
      "metadata": {
        "trusted": true,
        "_uuid": "9b0a43d16dab3cf24508e1543c6955c9f4da4101"
      },
      "cell_type": "code",
      "source": "# Decision Tree (CART) with Pruning\n# Fit the model on the training set\nset.seed(7)\ndtCART <- train(\n  TARGET ~., data = train_data[,-c(1)], method = \"rpart\",\n  trControl = trainControl(\"cv\", number = 10),\n  tuneLength = 10\n  )\n# Plot model accuracy vs different values of cp (complexity parameter)\nplot(dtCART)\n# Print the results from all models\nprint(dtCART$results)\n# Print the best tuning parameter cp that maximizes the model accuracy\ndtCART$bestTune",
      "execution_count": null,
      "outputs": []
    },
    {
      "metadata": {
        "trusted": true,
        "_uuid": "66a2ca7ea3ad043b67c02977533098350de0e09a"
      },
      "cell_type": "code",
      "source": "# Decision rules in the model\ndtCART$finalModel",
      "execution_count": null,
      "outputs": []
    },
    {
      "metadata": {
        "trusted": true,
        "_uuid": "1de10c08df04bd77cad42dfbcea9fb3e09129c43"
      },
      "cell_type": "code",
      "source": "# feature importance\ndtCART$finalModel$variable.importance",
      "execution_count": null,
      "outputs": []
    },
    {
      "metadata": {
        "trusted": true,
        "_uuid": "fd0401413ffc81f5b5ae56ab189344bc1bb8c25b"
      },
      "cell_type": "code",
      "source": "# Predict on test data \npred_model_test <-predict(dtCART,test_data[,-c(1,2)])\nresult_test <- table(\"actual _values\"= test_data$TARGET,pred_model_test);result_test\n# Accuracy,Precision and Recall on train\ntest_accuracy <- sum(diag(result_test))/sum(result_test)*100;test_accuracy",
      "execution_count": null,
      "outputs": []
    },
    {
      "metadata": {
        "trusted": true,
        "_uuid": "227de5b6ff53e9c9d7e2054042c2bf530e07ab9b"
      },
      "cell_type": "code",
      "source": "# scoring\n#test_data$predict.class <- predict(dtCART$finalModel, test_data[,-c(1,2)], type=\"class\")\n#test_data$predict.score <- predict(dtCART$finalModel, test_data[,-c(1,2)], type=\"prob\")\n#head(test_data)",
      "execution_count": null,
      "outputs": []
    },
    {
      "metadata": {
        "trusted": true,
        "_uuid": "f98d8dca5131deecf464cad8f5bd9bf563918b56"
      },
      "cell_type": "code",
      "source": "# Prediction and Calculate Performance Metrics\npredictions <- predict(dtCART,test_data[,-c(1,2)])\nlibrary(pROC)\nroc_curve <- roc(test_data$TARGET,as.numeric(predictions),plot=TRUE)\nauc(roc_curve)",
      "execution_count": null,
      "outputs": []
    }
  ],
  "metadata": {
    "kernelspec": {
      "display_name": "R",
      "language": "R",
      "name": "ir"
    },
    "language_info": {
      "mimetype": "text/x-r-source",
      "name": "R",
      "pygments_lexer": "r",
      "version": "3.4.2",
      "file_extension": ".r",
      "codemirror_mode": "r"
    }
  },
  "nbformat": 4,
  "nbformat_minor": 1
}