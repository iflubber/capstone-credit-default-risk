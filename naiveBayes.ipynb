{
 "cells": [
  {
   "cell_type": "code",
   "execution_count": null,
   "metadata": {
    "_execution_state": "idle",
    "_uuid": "4188f3518def1c12b049e622f0a99c5084cb3528"
   },
   "outputs": [],
   "source": [
    "## Importing packages\n",
    "\n",
    "# This R environment comes with all of CRAN and many other helpful packages preinstalled.\n",
    "# You can see which packages are installed by checking out the kaggle/rstats docker image: \n",
    "# https://github.com/kaggle/docker-rstats\n",
    "\n",
    "library(tidyverse) # metapackage with lots of helpful functions\n",
    "\n",
    "## Running code\n",
    "\n",
    "# In a notebook, you can run a single code cell by clicking in the cell and then hitting \n",
    "# the blue arrow to the left, or by clicking in the cell and pressing Shift+Enter. In a script, \n",
    "# you can run code by highlighting the code you want to run and then clicking the blue arrow\n",
    "# at the bottom of this window.\n",
    "\n",
    "## Reading in files\n",
    "\n",
    "# You can access files from datasets you've added to this kernel in the \"../input/\" directory.\n",
    "# You can see the files added to this kernel by running the code below. \n",
    "\n",
    "list.files(path = \"../input\")\n",
    "\n",
    "## Saving data\n",
    "\n",
    "# If you save any files or images, these will be put in the \"output\" directory. You \n",
    "# can see the output directory by committing and running your kernel (using the \n",
    "# Commit & Run button) and then checking out the compiled version of your kernel."
   ]
  },
  {
   "cell_type": "code",
   "execution_count": null,
   "metadata": {
    "_uuid": "072969e21fdd0ba2a7fa829a344c4d02457521dc"
   },
   "outputs": [],
   "source": [
    "application_train <- read.csv('../input/application_train_clean_SMOTEd.csv',1)\n",
    "dim(application_train)"
   ]
  },
  {
   "cell_type": "code",
   "execution_count": null,
   "metadata": {
    "_uuid": "c1af7e408b052fe1882a760c639323589a4c52b2"
   },
   "outputs": [],
   "source": [
    "str(application_train)"
   ]
  },
  {
   "cell_type": "code",
   "execution_count": null,
   "metadata": {
    "_uuid": "28ddf1c769ae7da7ec829786d93e0d4c4a681c39"
   },
   "outputs": [],
   "source": [
    "names(application_train)"
   ]
  },
  {
   "cell_type": "code",
   "execution_count": null,
   "metadata": {
    "_uuid": "200b514a63eaef84da4a38168c3fb08b4dce1563"
   },
   "outputs": [],
   "source": [
    "# convert categorical attributes to factor type\n",
    "data_cat <- application_train[,c(1:49)]\n",
    "data_num <- application_train[,-c(1:49)]\n",
    "data_cat <- data.frame(apply(data_cat, 2,function(x){as.factor(x)}))\n",
    "data_num <- data.frame(apply(data_num, 2,function(x){as.numeric(x)}))\n",
    "application_train <- cbind(data_cat,data_num)\n",
    "str(application_train)"
   ]
  },
  {
   "cell_type": "code",
   "execution_count": null,
   "metadata": {
    "_uuid": "96ce699bb02cff2972ddf79085eaa491858c14e2"
   },
   "outputs": [],
   "source": [
    "application_train <- application_train[,-c(12)] # FLAG_MOBIL has got just 1 level"
   ]
  },
  {
   "cell_type": "code",
   "execution_count": null,
   "metadata": {
    "_uuid": "7920eb8bd2f52423df6ef8b3606eeac4a3d319c0"
   },
   "outputs": [],
   "source": [
    "# class distribution\n",
    "table(application_train$TARGET)"
   ]
  },
  {
   "cell_type": "code",
   "execution_count": null,
   "metadata": {
    "_uuid": "94a5ee0324a5680335ad9f1ae58dfc96a85e81b4"
   },
   "outputs": [],
   "source": [
    "# Split Data into Train and test - 70:30\n",
    "library(caret)\n",
    "set.seed(7)\n",
    "train_test_split<-createDataPartition(application_train$TARGET, p=0.7, list = FALSE)\n",
    "train_data<-application_train[train_test_split,]\n",
    "test_data<-application_train[-train_test_split,]"
   ]
  },
  {
   "cell_type": "code",
   "execution_count": null,
   "metadata": {
    "_uuid": "07e6b0d106477490f778a08c5db10892c20f0afa"
   },
   "outputs": [],
   "source": [
    "# train - class distribution\n",
    "table(train_data$TARGET)"
   ]
  },
  {
   "cell_type": "code",
   "execution_count": null,
   "metadata": {
    "_uuid": "5b711fc71a4408bb71331db64a26384c18f1aa6d"
   },
   "outputs": [],
   "source": [
    "# test - class distribution\n",
    "table(test_data$TARGET)"
   ]
  },
  {
   "cell_type": "code",
   "execution_count": null,
   "metadata": {
    "_uuid": "5e830e0449d2be6726eda279f7f64582254b6080"
   },
   "outputs": [],
   "source": [
    "library(e1071)\n",
    "#Fitting the Naive Bayes model\n",
    "Naive_Bayes_Model=naiveBayes(TARGET ~., data=train_data[,-c(1)])\n",
    "Naive_Bayes_Model"
   ]
  },
  {
   "cell_type": "code",
   "execution_count": null,
   "metadata": {
    "_uuid": "b97f5a7ff3805754be75b3ac49eec53916273976"
   },
   "outputs": [],
   "source": [
    "# Predict the outcome - test\n",
    "predictions<-predict(Naive_Bayes_Model,test_data[,-c(1,2)])\n",
    "##Confusion Matrix\n",
    "confusionMatrix(predictions,test_data$TARGET)"
   ]
  },
  {
   "cell_type": "code",
   "execution_count": null,
   "metadata": {
    "_uuid": "fc53091d75fe1af2a86bb9f17eebc0b6904d342f"
   },
   "outputs": [],
   "source": [
    "library(ROCR)\n",
    "# ROC - test data\n",
    "pred<-predict(Naive_Bayes_Model,test_data[,-c(1,2)], type='raw')\n",
    "pred<-prediction(pred[,\"1\"], test_data$TARGET)\n",
    "roc<-performance(pred,\"tpr\", \"fpr\")\n",
    "plot(roc)\n",
    "auc<-performance(pred,\"auc\")\n",
    "auc\n",
    "auc<-unlist(slot(auc,\"y.values\"))\n",
    "auc"
   ]
  }
 ],
 "metadata": {
  "kernelspec": {
   "display_name": "R",
   "language": "R",
   "name": "ir"
  },
  "language_info": {
   "codemirror_mode": "r",
   "file_extension": ".r",
   "mimetype": "text/x-r-source",
   "name": "R",
   "pygments_lexer": "r",
   "version": "3.5.1"
  }
 },
 "nbformat": 4,
 "nbformat_minor": 1
}
