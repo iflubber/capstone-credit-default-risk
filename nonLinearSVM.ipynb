{
  "cells": [
    {
      "metadata": {
        "_uuid": "a36a5aa5179599eb04f511d41eecc7cb9cb5b80f",
        "_execution_state": "idle",
        "trusted": false
      },
      "cell_type": "code",
      "source": "## Importing packages\n\n# This R environment comes with all of CRAN and many other helpful packages preinstalled.\n# You can see which packages are installed by checking out the kaggle/rstats docker image: \n# https://github.com/kaggle/docker-rstats\n\nlibrary(tidyverse) # metapackage with lots of helpful functions\n\n## Running code\n\n# In a notebook, you can run a single code cell by clicking in the cell and then hitting \n# the blue arrow to the left, or by clicking in the cell and pressing Shift+Enter. In a script, \n# you can run code by highlighting the code you want to run and then clicking the blue arrow\n# at the bottom of this window.\n\n## Reading in files\n\n# You can access files from datasets you've added to this kernel in the \"../input/\" directory.\n# You can see the files added to this kernel by running the code below. \n\nlist.files(path = \"../input\")\n\n## Saving data\n\n# If you save any files or images, these will be put in the \"output\" directory. You \n# can see the output directory by committing and running your kernel (using the \n# Commit & Run button) and then checking out the compiled version of your kernel.",
      "execution_count": null,
      "outputs": []
    },
    {
      "metadata": {
        "trusted": true,
        "_uuid": "cffb4f11e045b00b1a84bee7c7bdde4ceab33626"
      },
      "cell_type": "code",
      "source": "application_train <- read.csv('../input/application_train_clean_SMOTEd.csv',1)\ndim(application_train)",
      "execution_count": null,
      "outputs": []
    },
    {
      "metadata": {
        "trusted": true,
        "_uuid": "f45261eb87e88854eaf8095568491cf0cfa0f393"
      },
      "cell_type": "code",
      "source": "str(application_train)",
      "execution_count": null,
      "outputs": []
    },
    {
      "metadata": {
        "trusted": true,
        "_uuid": "3f4579098e640bea0cc184b7cead659f5718ce76"
      },
      "cell_type": "code",
      "source": "names(application_train)",
      "execution_count": null,
      "outputs": []
    },
    {
      "metadata": {
        "trusted": true,
        "_uuid": "26510c65276d3716f646b7f1994715e52f4fbb2b"
      },
      "cell_type": "code",
      "source": "# convert categorical attributes to factor type\ndata_cat <- application_train[,c(1:49)]\ndata_num <- application_train[,-c(1:49)]\ndata_cat <- data.frame(apply(data_cat, 2,function(x){as.factor(x)}))\ndata_num <- data.frame(apply(data_num, 2,function(x){as.numeric(x)}))\napplication_train <- cbind(data_cat,data_num)\nstr(application_train)",
      "execution_count": null,
      "outputs": []
    },
    {
      "metadata": {
        "trusted": true,
        "_uuid": "72d6597f02df937d108979ed6686ce4bd1967e18"
      },
      "cell_type": "code",
      "source": "application_train <- application_train[,-c(12)] # FLAG_MOBIL has got just 1 level",
      "execution_count": null,
      "outputs": []
    },
    {
      "metadata": {
        "trusted": true,
        "_uuid": "942c63108dea9e07d0e38d8747d95300082c2a1f"
      },
      "cell_type": "code",
      "source": "application_train$TARGET<-ifelse(application_train$TARGET==\"1\",\"yes\",\"no\")\napplication_train$TARGET<-factor(application_train$TARGET)",
      "execution_count": null,
      "outputs": []
    },
    {
      "metadata": {
        "trusted": true,
        "_uuid": "ab41ddcb54f3af41c78aca918bd858dce3251bb2"
      },
      "cell_type": "code",
      "source": "# class distribution\ntable(application_train$TARGET)",
      "execution_count": null,
      "outputs": []
    },
    {
      "metadata": {
        "trusted": true,
        "_uuid": "ad0db5ca053cf6bb8db416184c854b08b26aab8b"
      },
      "cell_type": "code",
      "source": "# Split Data into Train and test - 70:30\nlibrary(caret)\nset.seed(7)\ntrain_test_split<-createDataPartition(application_train$TARGET, p=0.7, list = FALSE)\ntrain_data<-application_train[train_test_split,]\ntest_data<-application_train[-train_test_split,]",
      "execution_count": null,
      "outputs": []
    },
    {
      "metadata": {
        "trusted": true,
        "_uuid": "70599b4b4c1e6088b4b13c4028492772c2a02b74"
      },
      "cell_type": "code",
      "source": "# train - class distribution\ntable(train_data$TARGET)",
      "execution_count": null,
      "outputs": []
    },
    {
      "metadata": {
        "trusted": true,
        "_uuid": "ab4b4e9969fcb8dbdb8c5cf456dcbdc280953552"
      },
      "cell_type": "code",
      "source": "# test - class distribution\ntable(test_data$TARGET)",
      "execution_count": null,
      "outputs": []
    },
    {
      "metadata": {
        "trusted": true,
        "_uuid": "6f6126fe98f1df1a278f330b526b7c05415d49ac"
      },
      "cell_type": "code",
      "source": "#grid_radial <- expand.grid(sigma = c(0,0.01, 0.02, 0.025, 0.03, 0.04, 0.05, 0.06, 0.07,0.08, 0.09, 0.1, 0.25, 0.5, 0.75,0.9), \n#                           C = c(0,0.01, 0.05, 0.1, 0.25, 0.5, 0.75, 1, 1.5, 2,5))\n#trctrl <- trainControl(method = \"cv\", number = 5, summaryFunction=twoClassSummary, classProbs=TRUE)\n#set.seed(7)\n \n#svm_non_Linear <- train(TARGET ~., data = train_data[,-c(1)], method = \"svmRadial\",\n#                 trControl=trctrl,\n#                 preProcess = c(\"center\", \"scale\"),\n#                 metric=\"ROC\",\n#                 tuneLength = 10)\n#plot(svm_non_Linear)\n#svm_non_Linear",
      "execution_count": null,
      "outputs": []
    },
    {
      "metadata": {
        "trusted": true,
        "_uuid": "fcc4c6ba26822527a36c8b714745d4f9f44dd389"
      },
      "cell_type": "code",
      "source": "library(e1071)\n# create model\nsvm_non_Linear <- svm(TARGET~.,data=train_data[,-c(1)],kernel='radial',gamma=0.2,cost=100)",
      "execution_count": null,
      "outputs": []
    },
    {
      "metadata": {
        "trusted": true,
        "_uuid": "e29504bd1f388b4dd3a2ecd948c3d983b011d7c1"
      },
      "cell_type": "code",
      "source": "# Predict on train data \npred_model_train <-predict(svm_non_Linear,newdata=train_data[,-c(1,2)])\nconfusionMatrix(pred_model_train, train_data$TARGET )",
      "execution_count": null,
      "outputs": []
    },
    {
      "metadata": {
        "trusted": true,
        "_uuid": "495c41588b81aa6dcdbe3f0d73152bc167191037"
      },
      "cell_type": "code",
      "source": "# Prediction and Calculate Performance Metrics\npredictions <- predict(svm_non_Linear,train_data[,-c(1,2)])\nroc_curve <- roc(train_data$TARGET,as.numeric(predictions),plot=TRUE)\nauc(roc_curve)",
      "execution_count": null,
      "outputs": []
    },
    {
      "metadata": {
        "trusted": true,
        "_uuid": "7f72e8527ad66d827fb1913cc60637a0c1aa2689"
      },
      "cell_type": "code",
      "source": "# Predict on test data \npred_model_test <-predict(svm_non_Linear,newdata=test_data[,-c(1,2)])\nconfusionMatrix(pred_model_test, test_data$TARGET )",
      "execution_count": null,
      "outputs": []
    },
    {
      "metadata": {
        "trusted": true,
        "_uuid": "23bbca653a15aea55aef9f9adda13413ddb77c0b"
      },
      "cell_type": "code",
      "source": "# Prediction and Calculate Performance Metrics\npredictions <- predict(svm_non_Linear,test_data[,-c(1,2)])\nroc_curve <- roc(test_data$TARGET,as.numeric(predictions),plot=TRUE)\nauc(roc_curve)",
      "execution_count": null,
      "outputs": []
    }
  ],
  "metadata": {
    "kernelspec": {
      "display_name": "R",
      "language": "R",
      "name": "ir"
    },
    "language_info": {
      "mimetype": "text/x-r-source",
      "name": "R",
      "pygments_lexer": "r",
      "version": "3.4.2",
      "file_extension": ".r",
      "codemirror_mode": "r"
    }
  },
  "nbformat": 4,
  "nbformat_minor": 1
}