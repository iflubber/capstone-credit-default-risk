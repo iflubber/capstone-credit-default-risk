{
 "cells": [
  {
   "cell_type": "code",
   "execution_count": null,
   "metadata": {
    "_execution_state": "idle",
    "_uuid": "acafca1955190a91ae37f3fb9dd53b9aac48efab"
   },
   "outputs": [],
   "source": [
    "## Importing packages\n",
    "\n",
    "# This R environment comes with all of CRAN and many other helpful packages preinstalled.\n",
    "# You can see which packages are installed by checking out the kaggle/rstats docker image: \n",
    "# https://github.com/kaggle/docker-rstats\n",
    "\n",
    "library(tidyverse) # metapackage with lots of helpful functions\n",
    "\n",
    "## Running code\n",
    "\n",
    "# In a notebook, you can run a single code cell by clicking in the cell and then hitting \n",
    "# the blue arrow to the left, or by clicking in the cell and pressing Shift+Enter. In a script, \n",
    "# you can run code by highlighting the code you want to run and then clicking the blue arrow\n",
    "# at the bottom of this window.\n",
    "\n",
    "## Reading in files\n",
    "\n",
    "# You can access files from datasets you've added to this kernel in the \"../input/\" directory.\n",
    "# You can see the files added to this kernel by running the code below. \n",
    "\n",
    "list.files(path = \"../input\")\n",
    "\n",
    "## Saving data\n",
    "\n",
    "# If you save any files or images, these will be put in the \"output\" directory. You \n",
    "# can see the output directory by committing and running your kernel (using the \n",
    "# Commit & Run button) and then checking out the compiled version of your kernel."
   ]
  },
  {
   "cell_type": "markdown",
   "metadata": {
    "_uuid": "dd61e1ccc2123f67b0c85aa4dc70db870e3b03d3"
   },
   "source": [
    "This is an already cleaned dataset."
   ]
  },
  {
   "cell_type": "code",
   "execution_count": null,
   "metadata": {
    "_uuid": "61de9dfc296f217e4ff93ecc6efcf8a268ecc422"
   },
   "outputs": [],
   "source": [
    "application_train <- read.csv('../input/application_train_clean_SMOTEd.csv',1)\n",
    "dim(application_train)"
   ]
  },
  {
   "cell_type": "code",
   "execution_count": null,
   "metadata": {
    "_uuid": "f20be09546dec487f69c71f15b16d41de5b839a1"
   },
   "outputs": [],
   "source": [
    "str(application_train)"
   ]
  },
  {
   "cell_type": "code",
   "execution_count": null,
   "metadata": {
    "_uuid": "b40f916b16fc523186b69f779abb2004b378af5f"
   },
   "outputs": [],
   "source": [
    "names(application_train)"
   ]
  },
  {
   "cell_type": "code",
   "execution_count": null,
   "metadata": {
    "_uuid": "0f3c57f7796ed0038c88e580eeb5c272c0647866"
   },
   "outputs": [],
   "source": [
    "# convert categorical attributes to factor type\n",
    "data_cat <- application_train[,c(1:49)]\n",
    "data_num <- application_train[,-c(1:49)]\n",
    "data_cat <- data.frame(apply(data_cat, 2,function(x){as.factor(x)}))\n",
    "data_num <- data.frame(apply(data_num, 2,function(x){as.numeric(x)}))\n",
    "application_train <- cbind(data_cat,data_num)\n",
    "str(application_train)"
   ]
  },
  {
   "cell_type": "code",
   "execution_count": null,
   "metadata": {
    "_uuid": "ce260e6f561e7315358b0f1c1942440eb453760e"
   },
   "outputs": [],
   "source": [
    "application_train <- application_train[,-c(12)] # FLAG_MOBIL has got just 1 level"
   ]
  },
  {
   "cell_type": "code",
   "execution_count": null,
   "metadata": {
    "_uuid": "efd8636d9f5446fd8d2889f4d578888cd4916e20"
   },
   "outputs": [],
   "source": [
    "# class distribution\n",
    "table(application_train$TARGET)"
   ]
  },
  {
   "cell_type": "code",
   "execution_count": null,
   "metadata": {
    "_uuid": "d273cc7cf84b6f680da147a91b7091b53c229bc6"
   },
   "outputs": [],
   "source": [
    "# Split Data into Train and test - 70:30\n",
    "library(caret)\n",
    "set.seed(7)\n",
    "train_test_split<-createDataPartition(application_train$TARGET, p=0.7, list = FALSE)\n",
    "train_data<-application_train[train_test_split,]\n",
    "test_data<-application_train[-train_test_split,]"
   ]
  },
  {
   "cell_type": "code",
   "execution_count": null,
   "metadata": {
    "_uuid": "61d2a2aa0413f8c2d48a82d0e715284dbe6b3803"
   },
   "outputs": [],
   "source": [
    "# train - class distribution\n",
    "table(train_data$TARGET)"
   ]
  },
  {
   "cell_type": "code",
   "execution_count": null,
   "metadata": {
    "_uuid": "774bd7e9a7443d40c2502155c1d412f431b801db"
   },
   "outputs": [],
   "source": [
    "# test - class distribution\n",
    "table(test_data$TARGET)"
   ]
  },
  {
   "cell_type": "code",
   "execution_count": null,
   "metadata": {
    "_uuid": "ef5c95dbd47a381b35195f629aceb54d5e46f678"
   },
   "outputs": [],
   "source": [
    "library(randomForest)\n",
    "set.seed(7)"
   ]
  },
  {
   "cell_type": "code",
   "execution_count": null,
   "metadata": {
    "_uuid": "0b42e66fef6f8e69d0f05ddc56de255c6abd5adc"
   },
   "outputs": [],
   "source": [
    "rf <- randomForest(TARGET ~ ., data=train_data[,-c(1)], keep.forest=TRUE, mtry=18, importance=TRUE) \n",
    "print(rf)"
   ]
  },
  {
   "cell_type": "code",
   "execution_count": null,
   "metadata": {
    "_uuid": "40893302eec250439e0fba5d2cc4397eb60308e8"
   },
   "outputs": [],
   "source": [
    "# Plotting OOB error rates\n",
    "plot(rf, main=\"\")\n",
    "legend(\"topright\", c(\"OOB\", \"0\", \"1\"), text.col=1:6, lty=1:3, col=1:3)\n",
    "title(main=\"Error Rates Random Forest Train data\")"
   ]
  },
  {
   "cell_type": "code",
   "execution_count": null,
   "metadata": {
    "_uuid": "73dda61327e858fd45b5b4e7d2d47492fcb9488f"
   },
   "outputs": [],
   "source": [
    "print(rf$importance)"
   ]
  },
  {
   "cell_type": "code",
   "execution_count": null,
   "metadata": {
    "_uuid": "c7ab810a74a0423f92390c74b7170989dba547b5"
   },
   "outputs": [],
   "source": [
    "# Evaluate variable importance\n",
    "importance(rf)\n",
    "#why mean? Because there are many trees and this is mean across all of them.\n",
    "# plot (directly prints the important attributes) \n",
    "varImpPlot(rf,\n",
    "           sort = T,\n",
    "           main=\"Variable Importance\",\n",
    "           n.var=30)\n",
    "# Variable Importance Table\n",
    "var.imp <- data.frame(importance(rf,type=2))"
   ]
  },
  {
   "cell_type": "code",
   "execution_count": null,
   "metadata": {
    "_uuid": "9e2db18e594ca37348ae068b0bd167bc36d6721e"
   },
   "outputs": [],
   "source": [
    "# Important Features\n",
    "var.imp$Variables <- row.names(var.imp)\n",
    "var.imp[order(var.imp$MeanDecreaseGini,decreasing = T),]\n",
    "imp_feature<-var.imp[order(var.imp$MeanDecreaseGini,decreasing = T),]$Variables"
   ]
  },
  {
   "cell_type": "code",
   "execution_count": null,
   "metadata": {
    "_uuid": "6419f0b52e4463fec38d965544dd643893465737"
   },
   "outputs": [],
   "source": [
    "# Find the optimal mtry\n",
    "#mtry <- tuneRF(train_data[,-c(1)],train_data$TARGET, ntreeTry=30,\n",
    "#               stepFactor=1.5,improve=0.01, trace=TRUE, plot=TRUE)\n",
    "#best.m <- mtry[mtry[, 2] == min(mtry[, 2]), 1]\n",
    "#print(mtry)\n",
    "#print(best.m)"
   ]
  },
  {
   "cell_type": "code",
   "execution_count": null,
   "metadata": {
    "_uuid": "fada488c02e28f7326285eafc79ae6fb9781a7a9"
   },
   "outputs": [],
   "source": [
    "# Prediction and Calculate Performance Metrics\n",
    "predictions <- predict(rf,train_data[,-c(1,2)],type='response')\n",
    "library(pROC)\n",
    "roc_curve <- roc(train_data$TARGET,as.numeric(predictions),plot=TRUE)\n",
    "auc(roc_curve)"
   ]
  },
  {
   "cell_type": "code",
   "execution_count": null,
   "metadata": {
    "_uuid": "ad448a793bf40822aa2e7dcbed8eff85d75b8971"
   },
   "outputs": [],
   "source": [
    "# Predict on Train data \n",
    "pred_model_train <-predict(rf,train_data[,-c(1,2)],type=\"response\")\n",
    "result_train <- table(\"actual _values\"= train_data$TARGET,pred_model_train);result_train\n",
    "# Accuracy,Precision and Recall on train\n",
    "train_accuracy <- sum(diag(result_train))/sum(result_train)*100;train_accuracy"
   ]
  },
  {
   "cell_type": "code",
   "execution_count": null,
   "metadata": {
    "_uuid": "c06528de60f9bbfdcabf69e13c284e01b297ddb1"
   },
   "outputs": [],
   "source": [
    "# scoring\n",
    "#train_data$predict.class <- predict(rf, train_data[,-c(1,2)], type=\"class\")\n",
    "#train_data$predict.score <- predict(rf, train_data[,-c(1,2)], type=\"prob\")\n",
    "#head(train_data)"
   ]
  },
  {
   "cell_type": "code",
   "execution_count": null,
   "metadata": {
    "_uuid": "e4456c151d52e538880c31c673f2fd1a1d252097"
   },
   "outputs": [],
   "source": [
    "# Predict on test data \n",
    "pred_model_test <-predict(rf,test_data[,-c(1,2)],type=\"response\")\n",
    "result_test <- table(\"actual _values\"= test_data$TARGET,pred_model_test);result_test\n",
    "# Accuracy,Precision and Recall on train\n",
    "test_accuracy <- sum(diag(result_test))/sum(result_test)*100;test_accuracy"
   ]
  },
  {
   "cell_type": "code",
   "execution_count": null,
   "metadata": {
    "_uuid": "a2e39f219e89a02f44c1c99b05bbfec2a2d65de6"
   },
   "outputs": [],
   "source": [
    "# scoring\n",
    "#test_data$predict.class <- predict(rf, test_data[,-c(1,2)], type=\"class\")\n",
    "#test_data$predict.score <- predict(rf, test_data[,-c(1,2)], type=\"prob\")\n",
    "#head(test_data)"
   ]
  },
  {
   "cell_type": "code",
   "execution_count": null,
   "metadata": {
    "_uuid": "14996d7ad57391e9d3d98599b988a9a05819c6b8"
   },
   "outputs": [],
   "source": [
    "# Prediction and Calculate Performance Metrics\n",
    "predictions <- predict(rf,test_data[,-c(1,2)],type='response')\n",
    "roc_curve <- roc(test_data$TARGET,as.numeric(predictions),plot=TRUE)\n",
    "auc(roc_curve)"
   ]
  }
 ],
 "metadata": {
  "kernelspec": {
   "display_name": "R",
   "language": "R",
   "name": "ir"
  },
  "language_info": {
   "codemirror_mode": "r",
   "file_extension": ".r",
   "mimetype": "text/x-r-source",
   "name": "R",
   "pygments_lexer": "r",
   "version": "3.5.1"
  }
 },
 "nbformat": 4,
 "nbformat_minor": 1
}
