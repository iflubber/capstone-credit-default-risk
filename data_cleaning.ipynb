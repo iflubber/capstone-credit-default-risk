{
 "cells": [
  {
   "cell_type": "code",
   "execution_count": null,
   "metadata": {
    "_execution_state": "idle",
    "_uuid": "1ada76ad23b5b02d167467dd854751b847e6b674"
   },
   "outputs": [],
   "source": [
    "## Importing packages\n",
    "\n",
    "# This R environment comes with all of CRAN and many other helpful packages preinstalled.\n",
    "# You can see which packages are installed by checking out the kaggle/rstats docker image: \n",
    "# https://github.com/kaggle/docker-rstats\n",
    "\n",
    "library(tidyverse) # metapackage with lots of helpful functions\n",
    "\n",
    "## Running code\n",
    "\n",
    "# In a notebook, you can run a single code cell by clicking in the cell and then hitting \n",
    "# the blue arrow to the left, or by clicking in the cell and pressing Shift+Enter. In a script, \n",
    "# you can run code by highlighting the code you want to run and then clicking the blue arrow\n",
    "# at the bottom of this window.\n",
    "\n",
    "## Reading in files\n",
    "\n",
    "# You can access files from datasets you've added to this kernel in the \"../input/\" directory.\n",
    "# You can see the files added to this kernel by running the code below. \n",
    "\n",
    "list.files(path = \"../input\")\n",
    "\n",
    "## Saving data\n",
    "\n",
    "# If you save any files or images, these will be put in the \"output\" directory. You \n",
    "# can see the output directory by committing and running your kernel (using the \n",
    "# Commit & Run button) and then checking out the compiled version of your kernel."
   ]
  },
  {
   "cell_type": "code",
   "execution_count": null,
   "metadata": {
    "_uuid": "361c474a143c3ef9c264d7f15532d22aaa754df3"
   },
   "outputs": [],
   "source": [
    "application_train <- read.csv('../input/application_train.csv',1)"
   ]
  },
  {
   "cell_type": "code",
   "execution_count": null,
   "metadata": {
    "_uuid": "8eb064b6b80f7842f660ca221c3850fee2a04e30"
   },
   "outputs": [],
   "source": [
    "dim(application_train)"
   ]
  },
  {
   "cell_type": "code",
   "execution_count": null,
   "metadata": {
    "_uuid": "55a2b81c54c6a62bcd72f3288ca4b719092bc486"
   },
   "outputs": [],
   "source": [
    "str(application_train)"
   ]
  },
  {
   "cell_type": "code",
   "execution_count": null,
   "metadata": {
    "_uuid": "74a93d01c4365b969f47e211f634af4ec8696e48"
   },
   "outputs": [],
   "source": [
    "# convert categorical attributes to factor type\n",
    "data_cat <- application_train[,c(1:6,12:16,23:29,31:41,87,88,90,91,97:116)]\n",
    "data_num <- application_train[,-c(1:6,12:16,23:29,31:41,87,88,90,91,97:116)]\n",
    "\n",
    "data_cat <- data.frame(apply(data_cat, 2,function(x){as.factor(x)}))\n",
    "application_train <- cbind(data_cat,data_num)"
   ]
  },
  {
   "cell_type": "code",
   "execution_count": null,
   "metadata": {
    "_uuid": "df619cd63ac976b0805b5a6e7d869a9b00ef5983"
   },
   "outputs": [],
   "source": [
    "str(application_train)"
   ]
  },
  {
   "cell_type": "code",
   "execution_count": null,
   "metadata": {
    "_uuid": "36512177b9126b8536d12356eedea0e3ad14581c"
   },
   "outputs": [],
   "source": [
    "### continuous attributes\n",
    "names(application_train)[which(sapply(application_train, is.numeric))]"
   ]
  },
  {
   "cell_type": "code",
   "execution_count": null,
   "metadata": {
    "_uuid": "7a94856e71f1b198f99ed84242c0d96bb575b13a"
   },
   "outputs": [],
   "source": [
    "### categorical attributes\n",
    "names(application_train)[which(sapply(application_train,is.factor))]"
   ]
  },
  {
   "cell_type": "code",
   "execution_count": null,
   "metadata": {
    "_uuid": "aedce0d47b02a75eacab35393b602476bb4bf6a4"
   },
   "outputs": [],
   "source": [
    "### Check for constants\n",
    "sapply(application_train,function(x) length(unique(x)))"
   ]
  },
  {
   "cell_type": "code",
   "execution_count": null,
   "metadata": {
    "_uuid": "6b465be323a85fa364f383118da0eb7caee8652c"
   },
   "outputs": [],
   "source": [
    "table(is.na(application_train))\n",
    "# there are a lot of missing values"
   ]
  },
  {
   "cell_type": "code",
   "execution_count": null,
   "metadata": {
    "_uuid": "5e1f4638c90a370886aa2011c345d95260164ea3"
   },
   "outputs": [],
   "source": [
    "### Check for null or missing values\n",
    "cbind(sort(colSums(is.na(application_train)),decreasing=TRUE))"
   ]
  },
  {
   "cell_type": "code",
   "execution_count": null,
   "metadata": {
    "_uuid": "4e90b351a9f7c8fe567c18524d93716a55342cbf"
   },
   "outputs": [],
   "source": [
    "### Check for null or missing values percentage\n",
    "sort(sapply(application_train, function(x) sum(is.na(x))/length(x))*100,decreasing=TRUE)"
   ]
  },
  {
   "cell_type": "code",
   "execution_count": null,
   "metadata": {
    "_uuid": "e2666b6feb2f15ac4a69e9b843b27551fb67520d"
   },
   "outputs": [],
   "source": [
    "# Five-point summary\n",
    "summary(application_train)"
   ]
  },
  {
   "cell_type": "markdown",
   "metadata": {
    "_uuid": "ea9ca5606402b481713df6c9a06a84868eb39b9a"
   },
   "source": [
    "Outlier treatment will be performed prior to missing value treatment."
   ]
  },
  {
   "cell_type": "code",
   "execution_count": null,
   "metadata": {
    "_uuid": "9db0fa7d3be7d0e45524df23de07d8e887ea94a8"
   },
   "outputs": [],
   "source": [
    "summary(application_train$CNT_CHILDREN)\n",
    "# Check for outliers - Univariate approach\n",
    "boxplot(application_train$CNT_CHILDREN, main=\"CNT_CHILDREN\", boxwex=0.1)\n",
    "#boxplot.stats(application_train$CNT_CHILDREN)$out\n",
    "# Check for outliers - Bivariate approach\n",
    "# boxplot(CNT_CHILDREN ~ CNT_FAM_MEMBERS, data=application_train, \n",
    "#        main=\"Boxplot for Family Size vs Children count\")"
   ]
  },
  {
   "cell_type": "markdown",
   "metadata": {
    "_uuid": "c0ae2fc7f4182312fefeb2325cc6be3387f14805"
   },
   "source": [
    "We see most children counts as outliers, however, we will cap them between 1 percentile and 99 percentile as an exception."
   ]
  },
  {
   "cell_type": "code",
   "execution_count": null,
   "metadata": {
    "_uuid": "3c66f69af5ee358ba9eeedf4ed54f5f813f87aa2"
   },
   "outputs": [],
   "source": [
    "#---> treat outliers: capping\n",
    "# For missing values that lie outside the 1.5 * IQR limits, \n",
    "# we can cap it by replacing those observations outside the lower limit \n",
    "# with the value of 5th percentile and those that lie above the upper limit, \n",
    "# with the value of 95th percentile\n",
    "x <- application_train$CNT_CHILDREN\n",
    "qnt <- quantile(x, probs=c(.25, .75), na.rm = T)\n",
    "caps <- quantile(x, probs=c(.01, .99), na.rm = T)\n",
    "H <- 1.5 * IQR(x, na.rm = T)\n",
    "print(qnt)\n",
    "print(caps)\n",
    "print(H)\n",
    "application_train$CNT_CHILDREN[application_train$CNT_CHILDREN < (qnt[1] - H)] <- caps[1]\n",
    "application_train$CNT_CHILDREN[application_train$CNT_CHILDREN > (qnt[2] + H)] <- caps[2]"
   ]
  },
  {
   "cell_type": "code",
   "execution_count": null,
   "metadata": {
    "_uuid": "db397c7de30569d0abf7731489700043e9b58a3a"
   },
   "outputs": [],
   "source": [
    "summary(application_train$AMT_INCOME_TOTAL)\n",
    "# Check for outliers - Univariate approach\n",
    "boxplot(application_train$AMT_INCOME_TOTAL, main=\"AMT_INCOME_TOTAL\", boxwex=0.1)\n",
    "#boxplot.stats(application_train$AMT_INCOME_TOTAL)$out"
   ]
  },
  {
   "cell_type": "code",
   "execution_count": null,
   "metadata": {
    "_uuid": "11dc63642cf027f116b5282d705c6973a2225b9c"
   },
   "outputs": [],
   "source": [
    "#---> treat outliers: capping\n",
    "# For missing values that lie outside the 1.5 * IQR limits, \n",
    "# we can cap it by replacing those observations outside the lower limit \n",
    "# with the value of 5th percentile and those that lie above the upper limit, \n",
    "# with the value of 95th percentile\n",
    "x <- application_train$AMT_INCOME_TOTAL\n",
    "qnt <- quantile(x, probs=c(.25, .75), na.rm = T)\n",
    "caps <- quantile(x, probs=c(.05, .95), na.rm = T)\n",
    "H <- 1.5 * IQR(x, na.rm = T)\n",
    "print(qnt)\n",
    "print(caps)\n",
    "print(H)\n",
    "application_train$AMT_INCOME_TOTAL[application_train$AMT_INCOME_TOTAL < (qnt[1] - H)] <- caps[1]\n",
    "application_train$AMT_INCOME_TOTAL[application_train$AMT_INCOME_TOTAL > (qnt[2] + H)] <- caps[2]"
   ]
  },
  {
   "cell_type": "code",
   "execution_count": null,
   "metadata": {
    "_uuid": "9898ff948d1112a00b767e92ff7fb03c5974fa10"
   },
   "outputs": [],
   "source": [
    "summary(application_train$AMT_CREDIT)\n",
    "# Check for outliers - Univariate approach\n",
    "boxplot(application_train$AMT_CREDIT, main=\"AMT_CREDIT\", boxwex=0.1)\n",
    "#boxplot.stats(application_train$AMT_CREDIT)$out"
   ]
  },
  {
   "cell_type": "code",
   "execution_count": null,
   "metadata": {
    "_uuid": "cf431fb4a3b19e779f59b87aa4a127d388075ebe"
   },
   "outputs": [],
   "source": [
    "#---> treat outliers: capping\n",
    "# For missing values that lie outside the 1.5 * IQR limits, \n",
    "# we can cap it by replacing those observations outside the lower limit \n",
    "# with the value of 5th percentile and those that lie above the upper limit, \n",
    "# with the value of 95th percentile\n",
    "x <- application_train$AMT_CREDIT\n",
    "qnt <- quantile(x, probs=c(.25, .75), na.rm = T)\n",
    "caps <- quantile(x, probs=c(.05, .95), na.rm = T)\n",
    "H <- 1.5 * IQR(x, na.rm = T)\n",
    "print(qnt)\n",
    "print(caps)\n",
    "print(H)\n",
    "application_train$AMT_CREDIT[application_train$AMT_CREDIT < (qnt[1] - H)] <- caps[1]\n",
    "application_train$AMT_CREDIT[application_train$AMT_CREDIT > (qnt[2] + H)] <- caps[2]"
   ]
  },
  {
   "cell_type": "code",
   "execution_count": null,
   "metadata": {
    "_uuid": "dd0a6e1bba597c5062706132978a1afdc8da36ff"
   },
   "outputs": [],
   "source": [
    "summary(application_train$AMT_ANNUITY)\n",
    "# Check for outliers - Univariate approach\n",
    "boxplot(application_train$AMT_ANNUITY, main=\"AMT_ANNUITY\", boxwex=0.1)\n",
    "#boxplot.stats(application_train$AMT_ANNUITY)$out"
   ]
  },
  {
   "cell_type": "code",
   "execution_count": null,
   "metadata": {
    "_uuid": "f5b329dc4d4bcf28f2111fcad6b6c52ab3e9b924"
   },
   "outputs": [],
   "source": [
    "#---> treat outliers: capping\n",
    "# For missing values that lie outside the 1.5 * IQR limits, \n",
    "# we can cap it by replacing those observations outside the lower limit \n",
    "# with the value of 5th percentile and those that lie above the upper limit, \n",
    "# with the value of 95th percentile\n",
    "x <- application_train$AMT_ANNUITY\n",
    "qnt <- quantile(x, probs=c(.25, .75), na.rm = T)\n",
    "caps <- quantile(x, probs=c(.05, .95), na.rm = T)\n",
    "H <- 1.5 * IQR(x, na.rm = T)\n",
    "print(qnt)\n",
    "print(caps)\n",
    "print(H)\n",
    "application_train$AMT_ANNUITY[application_train$AMT_ANNUITY < (qnt[1] - H)] <- caps[1]\n",
    "application_train$AMT_ANNUITY[application_train$AMT_ANNUITY > (qnt[2] + H)] <- caps[2]"
   ]
  },
  {
   "cell_type": "code",
   "execution_count": null,
   "metadata": {
    "_uuid": "79f389cb64af964c287d463e1e9c3749bcef8907"
   },
   "outputs": [],
   "source": [
    "summary(application_train$AMT_GOODS_PRICE)\n",
    "# Check for outliers - Univariate approach\n",
    "boxplot(application_train$AMT_GOODS_PRICE, main=\"AMT_GOODS_PRICE\", boxwex=0.1)\n",
    "#boxplot.stats(application_train$AMT_GOODS_PRICE)$out"
   ]
  },
  {
   "cell_type": "code",
   "execution_count": null,
   "metadata": {
    "_uuid": "9f0f83da23ed72c75def85a30f42c5cef7e24973"
   },
   "outputs": [],
   "source": [
    "#---> treat outliers: capping\n",
    "# For missing values that lie outside the 1.5 * IQR limits, \n",
    "# we can cap it by replacing those observations outside the lower limit \n",
    "# with the value of 5th percentile and those that lie above the upper limit, \n",
    "# with the value of 95th percentile\n",
    "x <- application_train$AMT_GOODS_PRICE\n",
    "qnt <- quantile(x, probs=c(.25, .75), na.rm = T)\n",
    "caps <- quantile(x, probs=c(.05, .95), na.rm = T)\n",
    "H <- 1.5 * IQR(x, na.rm = T)\n",
    "print(qnt)\n",
    "print(caps)\n",
    "print(H)\n",
    "application_train$AMT_GOODS_PRICE[application_train$AMT_GOODS_PRICE < (qnt[1] - H)] <- caps[1]\n",
    "application_train$AMT_GOODS_PRICE[application_train$AMT_GOODS_PRICE > (qnt[2] + H)] <- caps[2]"
   ]
  },
  {
   "cell_type": "code",
   "execution_count": null,
   "metadata": {
    "_uuid": "1d47720d2ad3408c1520772a5793a96a2b742361"
   },
   "outputs": [],
   "source": [
    "summary(application_train$REGION_POPULATION_RELATIVE)\n",
    "# Check for outliers - Univariate approach\n",
    "boxplot(application_train$REGION_POPULATION_RELATIVE, main=\"REGION_POPULATION_RELATIVE\", boxwex=0.1)\n",
    "#boxplot.stats(application_train$REGION_POPULATION_RELATIVE)$out"
   ]
  },
  {
   "cell_type": "code",
   "execution_count": null,
   "metadata": {
    "_uuid": "173a3a481bd5b0919d9ce21193e0cf911182d864"
   },
   "outputs": [],
   "source": [
    "#---> treat outliers: capping\n",
    "# For missing values that lie outside the 1.5 * IQR limits, \n",
    "# we can cap it by replacing those observations outside the lower limit \n",
    "# with the value of 5th percentile and those that lie above the upper limit, \n",
    "# with the value of 95th percentile\n",
    "x <- application_train$REGION_POPULATION_RELATIVE\n",
    "qnt <- quantile(x, probs=c(.25, .75), na.rm = T)\n",
    "caps <- quantile(x, probs=c(.05, .95), na.rm = T)\n",
    "H <- 1.5 * IQR(x, na.rm = T)\n",
    "print(qnt)\n",
    "print(caps)\n",
    "print(H)\n",
    "application_train$REGION_POPULATION_RELATIVE[application_train$REGION_POPULATION_RELATIVE < (qnt[1] - H)] <- caps[1]\n",
    "application_train$REGION_POPULATION_RELATIVE[application_train$REGION_POPULATION_RELATIVE > (qnt[2] + H)] <- caps[2]"
   ]
  },
  {
   "cell_type": "code",
   "execution_count": null,
   "metadata": {
    "_uuid": "47eae44440251296c2762e95ea1ffd56c4d68b36"
   },
   "outputs": [],
   "source": [
    "summary(application_train$DAYS_EMPLOYED)\n",
    "# Check for outliers - Univariate approach\n",
    "boxplot(application_train$DAYS_EMPLOYED, main=\"DAYS_EMPLOYED\", boxwex=0.1)\n",
    "#boxplot.stats(application_train$DAYS_EMPLOYED)$out"
   ]
  },
  {
   "cell_type": "markdown",
   "metadata": {
    "_uuid": "20b39700706a5bf26e654811f793b0bae8ffa540"
   },
   "source": [
    "There is an invalid value = 365243 days ~ 1000 years. We can mark those as NA first before proceeding further."
   ]
  },
  {
   "cell_type": "code",
   "execution_count": null,
   "metadata": {
    "_uuid": "1151253b3027ec2de3e9aaee6a2168d49f8e635b"
   },
   "outputs": [],
   "source": [
    "application_train$DAYS_EMPLOYED[application_train$DAYS_EMPLOYED == 365243] <- NA"
   ]
  },
  {
   "cell_type": "code",
   "execution_count": null,
   "metadata": {
    "_uuid": "adc719a0b64ce74856d0548984785cb5a78bf9fd"
   },
   "outputs": [],
   "source": [
    "summary(application_train$DAYS_EMPLOYED)\n",
    "# Check for outliers - Univariate approach\n",
    "boxplot(application_train$DAYS_EMPLOYED, main=\"DAYS_EMPLOYED\", boxwex=0.1)\n",
    "#boxplot.stats(application_train$DAYS_EMPLOYED)$out"
   ]
  },
  {
   "cell_type": "code",
   "execution_count": null,
   "metadata": {
    "_uuid": "5045ba70d74a50b2c8f3fb1627a055a937a1514a"
   },
   "outputs": [],
   "source": [
    "#---> treat outliers: capping\n",
    "# For missing values that lie outside the 1.5 * IQR limits, \n",
    "# we can cap it by replacing those observations outside the lower limit \n",
    "# with the value of 5th percentile and those that lie above the upper limit, \n",
    "# with the value of 95th percentile\n",
    "x <- application_train$DAYS_EMPLOYED\n",
    "qnt <- quantile(x, probs=c(.25, .75), na.rm = T)\n",
    "caps <- quantile(x, probs=c(.01, .99), na.rm = T) # changed the threshold\n",
    "H <- 1.5 * IQR(x, na.rm = T)\n",
    "print(qnt)\n",
    "print(caps)\n",
    "print(H)\n",
    "application_train$DAYS_EMPLOYED[application_train$DAYS_EMPLOYED < (qnt[1] - H)] <- caps[1]\n",
    "application_train$DAYS_EMPLOYED[application_train$DAYS_EMPLOYED > (qnt[2] + H)] <- caps[2]"
   ]
  },
  {
   "cell_type": "code",
   "execution_count": null,
   "metadata": {
    "_uuid": "368adcaaad2b9807f31698e66eaaa78e9cb4c4a4"
   },
   "outputs": [],
   "source": [
    "summary(application_train$DAYS_REGISTRATION)\n",
    "# Check for outliers - Univariate approach\n",
    "boxplot(application_train$DAYS_REGISTRATION, main=\"DAYS_REGISTRATION\", boxwex=0.1)\n",
    "#boxplot.stats(application_train$DAYS_REGISTRATION)$out"
   ]
  },
  {
   "cell_type": "code",
   "execution_count": null,
   "metadata": {
    "_uuid": "c073f230096a4b6fb2661eb7f2f54fb70b008151"
   },
   "outputs": [],
   "source": [
    "#---> treat outliers: capping\n",
    "# For missing values that lie outside the 1.5 * IQR limits, \n",
    "# we can cap it by replacing those observations outside the lower limit \n",
    "# with the value of 5th percentile and those that lie above the upper limit, \n",
    "# with the value of 95th percentile\n",
    "x <- application_train$DAYS_REGISTRATION\n",
    "qnt <- quantile(x, probs=c(.25, .75), na.rm = T)\n",
    "caps <- quantile(x, probs=c(.05, .95), na.rm = T)\n",
    "H <- 1.5 * IQR(x, na.rm = T)\n",
    "print(qnt)\n",
    "print(caps)\n",
    "print(H)\n",
    "application_train$DAYS_REGISTRATION[application_train$DAYS_REGISTRATION < (qnt[1] - H)] <- caps[1]\n",
    "application_train$DAYS_REGISTRATION[application_train$DAYS_REGISTRATION > (qnt[2] + H)] <- caps[2]"
   ]
  },
  {
   "cell_type": "code",
   "execution_count": null,
   "metadata": {
    "_uuid": "eda7c65e84fcb4e17b2df1d7f4b721c57eaf224a"
   },
   "outputs": [],
   "source": [
    "summary(application_train$OWN_CAR_AGE)\n",
    "# Check for outliers - Univariate approach\n",
    "boxplot(application_train$OWN_CAR_AGE, main=\"OWN_CAR_AGE\", boxwex=0.1)\n",
    "#boxplot.stats(application_train$OWN_CAR_AGE)$out"
   ]
  },
  {
   "cell_type": "code",
   "execution_count": null,
   "metadata": {
    "_uuid": "ba9f39566ea77cf3bfae4b302fc34e9ac8051353"
   },
   "outputs": [],
   "source": [
    "#---> treat outliers: capping\n",
    "# For missing values that lie outside the 1.5 * IQR limits, \n",
    "# we can cap it by replacing those observations outside the lower limit \n",
    "# with the value of 5th percentile and those that lie above the upper limit, \n",
    "# with the value of 95th percentile\n",
    "x <- application_train$OWN_CAR_AGE\n",
    "qnt <- quantile(x, probs=c(.25, .75), na.rm = T)\n",
    "caps <- quantile(x, probs=c(.05, .95), na.rm = T)\n",
    "H <- 1.5 * IQR(x, na.rm = T)\n",
    "print(qnt)\n",
    "print(caps)\n",
    "print(H)\n",
    "application_train$OWN_CAR_AGE[application_train$OWN_CAR_AGE < (qnt[1] - H)] <- caps[1]\n",
    "application_train$OWN_CAR_AGE[application_train$OWN_CAR_AGE > (qnt[2] + H)] <- caps[2]"
   ]
  },
  {
   "cell_type": "code",
   "execution_count": null,
   "metadata": {
    "_uuid": "620e94a325d92fc2ae797d3509f3cce4fcd70cca"
   },
   "outputs": [],
   "source": [
    "summary(application_train$CNT_FAM_MEMBERS)\n",
    "# Check for outliers - Univariate approach\n",
    "boxplot(application_train$CNT_FAM_MEMBERS, main=\"CNT_FAM_MEMBERS\", boxwex=0.1)\n",
    "#boxplot.stats(application_train$CNT_FAM_MEMBERS)$out"
   ]
  },
  {
   "cell_type": "code",
   "execution_count": null,
   "metadata": {
    "_uuid": "27bd94be33ac544fca17c2b2c5f32185a01a3c8f"
   },
   "outputs": [],
   "source": [
    "#---> treat outliers: capping\n",
    "# For missing values that lie outside the 1.5 * IQR limits, \n",
    "# we can cap it by replacing those observations outside the lower limit \n",
    "# with the value of 5th percentile and those that lie above the upper limit, \n",
    "# with the value of 95th percentile\n",
    "x <- application_train$CNT_FAM_MEMBERS\n",
    "qnt <- quantile(x, probs=c(.25, .75), na.rm = T)\n",
    "caps <- quantile(x, probs=c(.01, .99), na.rm = T) # changed the threshold\n",
    "H <- 1.5 * IQR(x, na.rm = T)\n",
    "print(qnt)\n",
    "print(caps)\n",
    "print(H)\n",
    "application_train$CNT_FAM_MEMBERS[application_train$CNT_FAM_MEMBERS < (qnt[1] - H)] <- caps[1]\n",
    "application_train$CNT_FAM_MEMBERS[application_train$CNT_FAM_MEMBERS > (qnt[2] + H)] <- caps[2]"
   ]
  },
  {
   "cell_type": "code",
   "execution_count": null,
   "metadata": {
    "_uuid": "43894ca17be178fcd8c3be61b2fcebcf547c9a10"
   },
   "outputs": [],
   "source": [
    "summary(application_train$APARTMENTS_AVG)\n",
    "# Check for outliers - Univariate approach\n",
    "boxplot(application_train$APARTMENTS_AVG, main=\"APARTMENTS_AVG\", boxwex=0.1)\n",
    "#boxplot.stats(application_train$APARTMENTS_AVG)$out"
   ]
  },
  {
   "cell_type": "code",
   "execution_count": null,
   "metadata": {
    "_uuid": "462035cc3a573f8a833c6ef9e89f93e39d694e38"
   },
   "outputs": [],
   "source": [
    "#---> treat outliers: capping\n",
    "# For missing values that lie outside the 1.5 * IQR limits, \n",
    "# we can cap it by replacing those observations outside the lower limit \n",
    "# with the value of 5th percentile and those that lie above the upper limit, \n",
    "# with the value of 95th percentile\n",
    "x <- application_train$APARTMENTS_AVG\n",
    "qnt <- quantile(x, probs=c(.25, .75), na.rm = T)\n",
    "caps <- quantile(x, probs=c(.05, .95), na.rm = T)\n",
    "H <- 1.5 * IQR(x, na.rm = T)\n",
    "print(qnt)\n",
    "print(caps)\n",
    "print(H)\n",
    "application_train$APARTMENTS_AVG[application_train$APARTMENTS_AVG < (qnt[1] - H)] <- caps[1]\n",
    "application_train$APARTMENTS_AVG[application_train$APARTMENTS_AVG > (qnt[2] + H)] <- caps[2]"
   ]
  },
  {
   "cell_type": "code",
   "execution_count": null,
   "metadata": {
    "_uuid": "ce604f8d5379a26677c39d910036b2512f8f7b32"
   },
   "outputs": [],
   "source": [
    "summary(application_train$BASEMENTAREA_AVG)\n",
    "# Check for outliers - Univariate approach\n",
    "boxplot(application_train$BASEMENTAREA_AVG, main=\"BASEMENTAREA_AVG\", boxwex=0.1)\n",
    "#boxplot.stats(application_train$BASEMENTAREA_AVG)$out"
   ]
  },
  {
   "cell_type": "code",
   "execution_count": null,
   "metadata": {
    "_uuid": "52ef118af794b4a26ccb506fa281a39ac7ade206"
   },
   "outputs": [],
   "source": [
    "#---> treat outliers: capping\n",
    "# For missing values that lie outside the 1.5 * IQR limits, \n",
    "# we can cap it by replacing those observations outside the lower limit \n",
    "# with the value of 5th percentile and those that lie above the upper limit, \n",
    "# with the value of 95th percentile\n",
    "x <- application_train$BASEMENTAREA_AVG\n",
    "qnt <- quantile(x, probs=c(.25, .75), na.rm = T)\n",
    "caps <- quantile(x, probs=c(.05, .95), na.rm = T)\n",
    "H <- 1.5 * IQR(x, na.rm = T)\n",
    "print(qnt)\n",
    "print(caps)\n",
    "print(H)\n",
    "application_train$BASEMENTAREA_AVG[application_train$BASEMENTAREA_AVG < (qnt[1] - H)] <- caps[1]\n",
    "application_train$BASEMENTAREA_AVG[application_train$BASEMENTAREA_AVG > (qnt[2] + H)] <- caps[2]"
   ]
  },
  {
   "cell_type": "code",
   "execution_count": null,
   "metadata": {
    "_uuid": "95fcaac7c978d741b34cf0c1f2c77bd1f844a117"
   },
   "outputs": [],
   "source": [
    "summary(application_train$YEARS_BEGINEXPLUATATION_AVG)\n",
    "# Check for outliers - Univariate approach\n",
    "boxplot(application_train$YEARS_BEGINEXPLUATATION_AVG, main=\"YEARS_BEGINEXPLUATATION_AVG\", boxwex=0.1)\n",
    "#boxplot.stats(application_train$YEARS_BEGINEXPLUATATION_AVG)$out"
   ]
  },
  {
   "cell_type": "code",
   "execution_count": null,
   "metadata": {
    "_uuid": "4997c021aee0f015aa8915e286a4f8918d40259a"
   },
   "outputs": [],
   "source": [
    "#---> treat outliers: capping\n",
    "# For missing values that lie outside the 1.5 * IQR limits, \n",
    "# we can cap it by replacing those observations outside the lower limit \n",
    "# with the value of 5th percentile and those that lie above the upper limit, \n",
    "# with the value of 95th percentile\n",
    "x <- application_train$YEARS_BEGINEXPLUATATION_AVG\n",
    "qnt <- quantile(x, probs=c(.25, .75), na.rm = T)\n",
    "caps <- quantile(x, probs=c(.05, .95), na.rm = T)\n",
    "H <- 1.5 * IQR(x, na.rm = T)\n",
    "print(qnt)\n",
    "print(caps)\n",
    "print(H)\n",
    "application_train$YEARS_BEGINEXPLUATATION_AVG[application_train$YEARS_BEGINEXPLUATATION_AVG < (qnt[1] - H)] <- caps[1]\n",
    "application_train$YEARS_BEGINEXPLUATATION_AVG[application_train$YEARS_BEGINEXPLUATATION_AVG > (qnt[2] + H)] <- caps[2]"
   ]
  },
  {
   "cell_type": "code",
   "execution_count": null,
   "metadata": {
    "_uuid": "d7164656bbb65b82d8bfbc34818ee043b2b986a4"
   },
   "outputs": [],
   "source": [
    "summary(application_train$YEARS_BUILD_AVG)\n",
    "# Check for outliers - Univariate approach\n",
    "boxplot(application_train$YEARS_BUILD_AVG, main=\"YEARS_BUILD_AVG\", boxwex=0.1)\n",
    "#boxplot.stats(application_train$YEARS_BUILD_AVG)$out"
   ]
  },
  {
   "cell_type": "code",
   "execution_count": null,
   "metadata": {
    "_uuid": "5977c9fa9d605a0ea2b22c49e40519de02397b13"
   },
   "outputs": [],
   "source": [
    "#---> treat outliers: capping\n",
    "# For missing values that lie outside the 1.5 * IQR limits, \n",
    "# we can cap it by replacing those observations outside the lower limit \n",
    "# with the value of 5th percentile and those that lie above the upper limit, \n",
    "# with the value of 95th percentile\n",
    "x <- application_train$YEARS_BUILD_AVG\n",
    "qnt <- quantile(x, probs=c(.25, .75), na.rm = T)\n",
    "caps <- quantile(x, probs=c(.05, .95), na.rm = T)\n",
    "H <- 1.5 * IQR(x, na.rm = T)\n",
    "print(qnt)\n",
    "print(caps)\n",
    "print(H)\n",
    "application_train$YEARS_BUILD_AVG[application_train$YEARS_BUILD_AVG < (qnt[1] - H)] <- caps[1]\n",
    "application_train$YEARS_BUILD_AVG[application_train$YEARS_BUILD_AVG > (qnt[2] + H)] <- caps[2]"
   ]
  },
  {
   "cell_type": "code",
   "execution_count": null,
   "metadata": {
    "_uuid": "bb45ad92e6fc59e24346ed612532af580ec11835"
   },
   "outputs": [],
   "source": [
    "summary(application_train$COMMONAREA_AVG)\n",
    "# Check for outliers - Univariate approach\n",
    "boxplot(application_train$COMMONAREA_AVG, main=\"COMMONAREA_AVG\", boxwex=0.1)\n",
    "#boxplot.stats(application_train$COMMONAREA_AVG)$out"
   ]
  },
  {
   "cell_type": "code",
   "execution_count": null,
   "metadata": {
    "_uuid": "c99294949a71efb2e7a3b07ccc9ad294c6795b18"
   },
   "outputs": [],
   "source": [
    "#---> treat outliers: capping\n",
    "# For missing values that lie outside the 1.5 * IQR limits, \n",
    "# we can cap it by replacing those observations outside the lower limit \n",
    "# with the value of 5th percentile and those that lie above the upper limit, \n",
    "# with the value of 95th percentile\n",
    "x <- application_train$COMMONAREA_AVG\n",
    "qnt <- quantile(x, probs=c(.25, .75), na.rm = T)\n",
    "caps <- quantile(x, probs=c(.05, .95), na.rm = T)\n",
    "H <- 1.5 * IQR(x, na.rm = T)\n",
    "print(qnt)\n",
    "print(caps)\n",
    "print(H)\n",
    "application_train$COMMONAREA_AVG[application_train$COMMONAREA_AVG < (qnt[1] - H)] <- caps[1]\n",
    "application_train$COMMONAREA_AVG[application_train$COMMONAREA_AVG > (qnt[2] + H)] <- caps[2]"
   ]
  },
  {
   "cell_type": "code",
   "execution_count": null,
   "metadata": {
    "_uuid": "956b664f1bf298ada1841f219bdfdc899c9d3ed5"
   },
   "outputs": [],
   "source": [
    "summary(application_train$ELEVATORS_AVG)\n",
    "# Check for outliers - Univariate approach\n",
    "boxplot(application_train$ELEVATORS_AVG, main=\"ELEVATORS_AVG\", boxwex=0.1)\n",
    "#boxplot.stats(application_train$ELEVATORS_AVG)$out"
   ]
  },
  {
   "cell_type": "code",
   "execution_count": null,
   "metadata": {
    "_uuid": "a1982e93d6a578acf6517917c5de758a18ab8204"
   },
   "outputs": [],
   "source": [
    "#---> treat outliers: capping\n",
    "# For missing values that lie outside the 1.5 * IQR limits, \n",
    "# we can cap it by replacing those observations outside the lower limit \n",
    "# with the value of 5th percentile and those that lie above the upper limit, \n",
    "# with the value of 95th percentile\n",
    "x <- application_train$ELEVATORS_AVG\n",
    "qnt <- quantile(x, probs=c(.25, .75), na.rm = T)\n",
    "caps <- quantile(x, probs=c(.05, .95), na.rm = T)\n",
    "H <- 1.5 * IQR(x, na.rm = T)\n",
    "print(qnt)\n",
    "print(caps)\n",
    "print(H)\n",
    "application_train$ELEVATORS_AVG[application_train$ELEVATORS_AVG < (qnt[1] - H)] <- caps[1]\n",
    "application_train$ELEVATORS_AVG[application_train$ELEVATORS_AVG > (qnt[2] + H)] <- caps[2]"
   ]
  },
  {
   "cell_type": "code",
   "execution_count": null,
   "metadata": {
    "_uuid": "8c9cd469f5b5a16af93c35472b100d581939da4b"
   },
   "outputs": [],
   "source": [
    "summary(application_train$ENTRANCES_AVG)\n",
    "# Check for outliers - Univariate approach\n",
    "boxplot(application_train$ENTRANCES_AVG, main=\"ENTRANCES_AVG\", boxwex=0.1)\n",
    "#boxplot.stats(application_train$ENTRANCES_AVG)$out"
   ]
  },
  {
   "cell_type": "code",
   "execution_count": null,
   "metadata": {
    "_uuid": "85023d2ed565b802fef5e7efb05796aba3566608"
   },
   "outputs": [],
   "source": [
    "#---> treat outliers: capping\n",
    "# For missing values that lie outside the 1.5 * IQR limits, \n",
    "# we can cap it by replacing those observations outside the lower limit \n",
    "# with the value of 5th percentile and those that lie above the upper limit, \n",
    "# with the value of 95th percentile\n",
    "x <- application_train$ENTRANCES_AVG\n",
    "qnt <- quantile(x, probs=c(.25, .75), na.rm = T)\n",
    "caps <- quantile(x, probs=c(.05, .95), na.rm = T)\n",
    "H <- 1.5 * IQR(x, na.rm = T)\n",
    "print(qnt)\n",
    "print(caps)\n",
    "print(H)\n",
    "application_train$ENTRANCES_AVG[application_train$ENTRANCES_AVG < (qnt[1] - H)] <- caps[1]\n",
    "application_train$ENTRANCES_AVG[application_train$ENTRANCES_AVG > (qnt[2] + H)] <- caps[2]"
   ]
  },
  {
   "cell_type": "code",
   "execution_count": null,
   "metadata": {
    "_uuid": "4788c1accfa7b62705286bd386c700e89bf835c9"
   },
   "outputs": [],
   "source": [
    "summary(application_train$FLOORSMAX_AVG)\n",
    "# Check for outliers - Univariate approach\n",
    "boxplot(application_train$FLOORSMAX_AVG, main=\"FLOORSMAX_AVG\", boxwex=0.1)\n",
    "#boxplot.stats(application_train$FLOORSMAX_AVG)$out"
   ]
  },
  {
   "cell_type": "code",
   "execution_count": null,
   "metadata": {
    "_uuid": "36068e94e43319be08f4c5bbf8712bfa024355fe"
   },
   "outputs": [],
   "source": [
    "#---> treat outliers: capping\n",
    "# For missing values that lie outside the 1.5 * IQR limits, \n",
    "# we can cap it by replacing those observations outside the lower limit \n",
    "# with the value of 5th percentile and those that lie above the upper limit, \n",
    "# with the value of 95th percentile\n",
    "x <- application_train$FLOORSMAX_AVG\n",
    "qnt <- quantile(x, probs=c(.25, .75), na.rm = T)\n",
    "caps <- quantile(x, probs=c(.05, .95), na.rm = T)\n",
    "H <- 1.5 * IQR(x, na.rm = T)\n",
    "print(qnt)\n",
    "print(caps)\n",
    "print(H)\n",
    "application_train$FLOORSMAX_AVG[application_train$FLOORSMAX_AVG < (qnt[1] - H)] <- caps[1]\n",
    "application_train$FLOORSMAX_AVG[application_train$FLOORSMAX_AVG > (qnt[2] + H)] <- caps[2]"
   ]
  },
  {
   "cell_type": "code",
   "execution_count": null,
   "metadata": {
    "_uuid": "cd2b3bac13edbe67f33798c8b60bfd50d5624d8c"
   },
   "outputs": [],
   "source": [
    "summary(application_train$FLOORSMIN_AVG)\n",
    "# Check for outliers - Univariate approach\n",
    "boxplot(application_train$FLOORSMIN_AVG, main=\"FLOORSMIN_AVG\", boxwex=0.1)\n",
    "#boxplot.stats(application_train$FLOORSMIN_AVG)$out"
   ]
  },
  {
   "cell_type": "code",
   "execution_count": null,
   "metadata": {
    "_uuid": "b43b3cdb589758b69299d1b125d61616dcc8946b"
   },
   "outputs": [],
   "source": [
    "#---> treat outliers: capping\n",
    "# For missing values that lie outside the 1.5 * IQR limits, \n",
    "# we can cap it by replacing those observations outside the lower limit \n",
    "# with the value of 5th percentile and those that lie above the upper limit, \n",
    "# with the value of 95th percentile\n",
    "x <- application_train$FLOORSMIN_AVG\n",
    "qnt <- quantile(x, probs=c(.25, .75), na.rm = T)\n",
    "caps <- quantile(x, probs=c(.05, .95), na.rm = T)\n",
    "H <- 1.5 * IQR(x, na.rm = T)\n",
    "print(qnt)\n",
    "print(caps)\n",
    "print(H)\n",
    "application_train$FLOORSMIN_AVG[application_train$FLOORSMIN_AVG < (qnt[1] - H)] <- caps[1]\n",
    "application_train$FLOORSMIN_AVG[application_train$FLOORSMIN_AVG > (qnt[2] + H)] <- caps[2]"
   ]
  },
  {
   "cell_type": "code",
   "execution_count": null,
   "metadata": {
    "_uuid": "212415a6a709698f367d357c8a9622a081fbd10d"
   },
   "outputs": [],
   "source": [
    "summary(application_train$LANDAREA_AVG)\n",
    "# Check for outliers - Univariate approach\n",
    "boxplot(application_train$LANDAREA_AVG, main=\"LANDAREA_AVG\", boxwex=0.1)\n",
    "#boxplot.stats(application_train$LANDAREA_AVG)$out"
   ]
  },
  {
   "cell_type": "code",
   "execution_count": null,
   "metadata": {
    "_uuid": "69f3a501043787c11c405099d8cc8d780d06cbfe"
   },
   "outputs": [],
   "source": [
    "#---> treat outliers: capping\n",
    "# For missing values that lie outside the 1.5 * IQR limits, \n",
    "# we can cap it by replacing those observations outside the lower limit \n",
    "# with the value of 5th percentile and those that lie above the upper limit, \n",
    "# with the value of 95th percentile\n",
    "x <- application_train$LANDAREA_AVG\n",
    "qnt <- quantile(x, probs=c(.25, .75), na.rm = T)\n",
    "caps <- quantile(x, probs=c(.05, .95), na.rm = T)\n",
    "H <- 1.5 * IQR(x, na.rm = T)\n",
    "print(qnt)\n",
    "print(caps)\n",
    "print(H)\n",
    "application_train$LANDAREA_AVG[application_train$LANDAREA_AVG < (qnt[1] - H)] <- caps[1]\n",
    "application_train$LANDAREA_AVG[application_train$LANDAREA_AVG > (qnt[2] + H)] <- caps[2]"
   ]
  },
  {
   "cell_type": "code",
   "execution_count": null,
   "metadata": {
    "_uuid": "4bd9cd4bdc52de753275afc600656afaef8b0cf8"
   },
   "outputs": [],
   "source": [
    "summary(application_train$LIVINGAPARTMENTS_AVG)\n",
    "# Check for outliers - Univariate approach\n",
    "boxplot(application_train$LIVINGAPARTMENTS_AVG, main=\"LIVINGAPARTMENTS_AVG\", boxwex=0.1)\n",
    "#boxplot.stats(application_train$LIVINGAPARTMENTS_AVG)$out"
   ]
  },
  {
   "cell_type": "code",
   "execution_count": null,
   "metadata": {
    "_uuid": "d5727a2f71dea09c1ee754a3781b425622a81a60"
   },
   "outputs": [],
   "source": [
    "#---> treat outliers: capping\n",
    "# For missing values that lie outside the 1.5 * IQR limits, \n",
    "# we can cap it by replacing those observations outside the lower limit \n",
    "# with the value of 5th percentile and those that lie above the upper limit, \n",
    "# with the value of 95th percentile\n",
    "x <- application_train$LIVINGAPARTMENTS_AVG\n",
    "qnt <- quantile(x, probs=c(.25, .75), na.rm = T)\n",
    "caps <- quantile(x, probs=c(.05, .95), na.rm = T)\n",
    "H <- 1.5 * IQR(x, na.rm = T)\n",
    "print(qnt)\n",
    "print(caps)\n",
    "print(H)\n",
    "application_train$LIVINGAPARTMENTS_AVG[application_train$LIVINGAPARTMENTS_AVG < (qnt[1] - H)] <- caps[1]\n",
    "application_train$LIVINGAPARTMENTS_AVG[application_train$LIVINGAPARTMENTS_AVG > (qnt[2] + H)] <- caps[2]"
   ]
  },
  {
   "cell_type": "code",
   "execution_count": null,
   "metadata": {
    "_uuid": "e6d4a5a0ca994c71e0d3b9866795d021965c51aa"
   },
   "outputs": [],
   "source": [
    "summary(application_train$LIVINGAREA_AVG)\n",
    "# Check for outliers - Univariate approach\n",
    "boxplot(application_train$LIVINGAREA_AVG, main=\"LIVINGAREA_AVG\", boxwex=0.1)\n",
    "#boxplot.stats(application_train$LIVINGAREA_AVG)$out"
   ]
  },
  {
   "cell_type": "code",
   "execution_count": null,
   "metadata": {
    "_uuid": "0065160ca86e947ed6a22ea085b74dc32a65f3c4"
   },
   "outputs": [],
   "source": [
    "#---> treat outliers: capping\n",
    "# For missing values that lie outside the 1.5 * IQR limits, \n",
    "# we can cap it by replacing those observations outside the lower limit \n",
    "# with the value of 5th percentile and those that lie above the upper limit, \n",
    "# with the value of 95th percentile\n",
    "x <- application_train$LIVINGAREA_AVG\n",
    "qnt <- quantile(x, probs=c(.25, .75), na.rm = T)\n",
    "caps <- quantile(x, probs=c(.05, .95), na.rm = T)\n",
    "H <- 1.5 * IQR(x, na.rm = T)\n",
    "print(qnt)\n",
    "print(caps)\n",
    "print(H)\n",
    "application_train$LIVINGAREA_AVG[application_train$LIVINGAREA_AVG < (qnt[1] - H)] <- caps[1]\n",
    "application_train$LIVINGAREA_AVG[application_train$LIVINGAREA_AVG > (qnt[2] + H)] <- caps[2]"
   ]
  },
  {
   "cell_type": "code",
   "execution_count": null,
   "metadata": {
    "_uuid": "8e54aedb8ca724df80ee7cecce01cadec42f38d4"
   },
   "outputs": [],
   "source": [
    "summary(application_train$NONLIVINGAPARTMENTS_AVG)\n",
    "# Check for outliers - Univariate approach\n",
    "boxplot(application_train$NONLIVINGAPARTMENTS_AVG, main=\"NONLIVINGAPARTMENTS_AVG\", boxwex=0.1)\n",
    "#boxplot.stats(application_train$NONLIVINGAPARTMENTS_AVG)$out"
   ]
  },
  {
   "cell_type": "code",
   "execution_count": null,
   "metadata": {
    "_uuid": "f83ad7a3897888d07305e0662bec3a87353f5c1e"
   },
   "outputs": [],
   "source": [
    "#---> treat outliers: capping\n",
    "# For missing values that lie outside the 1.5 * IQR limits, \n",
    "# we can cap it by replacing those observations outside the lower limit \n",
    "# with the value of 5th percentile and those that lie above the upper limit, \n",
    "# with the value of 95th percentile\n",
    "x <- application_train$NONLIVINGAPARTMENTS_AVG\n",
    "qnt <- quantile(x, probs=c(.25, .75), na.rm = T)\n",
    "caps <- quantile(x, probs=c(.05, .95), na.rm = T)\n",
    "H <- 1.5 * IQR(x, na.rm = T)\n",
    "print(qnt)\n",
    "print(caps)\n",
    "print(H)\n",
    "application_train$NONLIVINGAPARTMENTS_AVG[application_train$NONLIVINGAPARTMENTS_AVG < (qnt[1] - H)] <- caps[1]\n",
    "application_train$NONLIVINGAPARTMENTS_AVG[application_train$NONLIVINGAPARTMENTS_AVG > (qnt[2] + H)] <- caps[2]"
   ]
  },
  {
   "cell_type": "code",
   "execution_count": null,
   "metadata": {
    "_uuid": "fc22554ea94684cad3984af42795e821f839a892"
   },
   "outputs": [],
   "source": [
    "summary(application_train$NONLIVINGAREA_AVG)\n",
    "# Check for outliers - Univariate approach\n",
    "boxplot(application_train$NONLIVINGAREA_AVG, main=\"NONLIVINGAREA_AVG\", boxwex=0.1)\n",
    "#boxplot.stats(application_train$NONLIVINGAREA_AVG)$out"
   ]
  },
  {
   "cell_type": "code",
   "execution_count": null,
   "metadata": {
    "_uuid": "ddbec37d3ff3bc438c9136337b36b35ae7de619f"
   },
   "outputs": [],
   "source": [
    "#---> treat outliers: capping\n",
    "# For missing values that lie outside the 1.5 * IQR limits, \n",
    "# we can cap it by replacing those observations outside the lower limit \n",
    "# with the value of 5th percentile and those that lie above the upper limit, \n",
    "# with the value of 95th percentile\n",
    "x <- application_train$NONLIVINGAREA_AVG\n",
    "qnt <- quantile(x, probs=c(.25, .75), na.rm = T)\n",
    "caps <- quantile(x, probs=c(.05, .95), na.rm = T)\n",
    "H <- 1.5 * IQR(x, na.rm = T)\n",
    "print(qnt)\n",
    "print(caps)\n",
    "print(H)\n",
    "application_train$NONLIVINGAREA_AVG[application_train$NONLIVINGAREA_AVG < (qnt[1] - H)] <- caps[1]\n",
    "application_train$NONLIVINGAREA_AVG[application_train$NONLIVINGAREA_AVG > (qnt[2] + H)] <- caps[2]"
   ]
  },
  {
   "cell_type": "code",
   "execution_count": null,
   "metadata": {
    "_uuid": "5db1e4b1b3d50e1bf8856b304bcb41cf26a696ab"
   },
   "outputs": [],
   "source": [
    "summary(application_train$APARTMENTS_MODE)\n",
    "# Check for outliers - Univariate approach\n",
    "boxplot(application_train$APARTMENTS_MODE, main=\"APARTMENTS_MODE\", boxwex=0.1)\n",
    "#boxplot.stats(application_train$APARTMENTS_MODE)$out"
   ]
  },
  {
   "cell_type": "code",
   "execution_count": null,
   "metadata": {
    "_uuid": "57a48a41adfc5e8b96edc258a989a566fb18d6c0"
   },
   "outputs": [],
   "source": [
    "#---> treat outliers: capping\n",
    "# For missing values that lie outside the 1.5 * IQR limits, \n",
    "# we can cap it by replacing those observations outside the lower limit \n",
    "# with the value of 5th percentile and those that lie above the upper limit, \n",
    "# with the value of 95th percentile\n",
    "x <- application_train$APARTMENTS_MODE\n",
    "qnt <- quantile(x, probs=c(.25, .75), na.rm = T)\n",
    "caps <- quantile(x, probs=c(.05, .95), na.rm = T)\n",
    "H <- 1.5 * IQR(x, na.rm = T)\n",
    "print(qnt)\n",
    "print(caps)\n",
    "print(H)\n",
    "application_train$APARTMENTS_MODE[application_train$APARTMENTS_MODE < (qnt[1] - H)] <- caps[1]\n",
    "application_train$APARTMENTS_MODE[application_train$APARTMENTS_MODE > (qnt[2] + H)] <- caps[2]"
   ]
  },
  {
   "cell_type": "code",
   "execution_count": null,
   "metadata": {
    "_uuid": "706a981a57333f5327329de448d83e3e73271c75"
   },
   "outputs": [],
   "source": [
    "summary(application_train$BASEMENTAREA_MODE)\n",
    "# Check for outliers - Univariate approach\n",
    "boxplot(application_train$BASEMENTAREA_MODE, main=\"BASEMENTAREA_MODE\", boxwex=0.1)\n",
    "#boxplot.stats(application_train$BASEMENTAREA_MODE)$out"
   ]
  },
  {
   "cell_type": "code",
   "execution_count": null,
   "metadata": {
    "_uuid": "7ec8dbf6968dee077427cb95978366ba71624f7c"
   },
   "outputs": [],
   "source": [
    "#---> treat outliers: capping\n",
    "# For missing values that lie outside the 1.5 * IQR limits, \n",
    "# we can cap it by replacing those observations outside the lower limit \n",
    "# with the value of 5th percentile and those that lie above the upper limit, \n",
    "# with the value of 95th percentile\n",
    "x <- application_train$BASEMENTAREA_MODE\n",
    "qnt <- quantile(x, probs=c(.25, .75), na.rm = T)\n",
    "caps <- quantile(x, probs=c(.05, .95), na.rm = T)\n",
    "H <- 1.5 * IQR(x, na.rm = T)\n",
    "print(qnt)\n",
    "print(caps)\n",
    "print(H)\n",
    "application_train$BASEMENTAREA_MODE[application_train$BASEMENTAREA_MODE < (qnt[1] - H)] <- caps[1]\n",
    "application_train$BASEMENTAREA_MODE[application_train$BASEMENTAREA_MODE > (qnt[2] + H)] <- caps[2]"
   ]
  },
  {
   "cell_type": "code",
   "execution_count": null,
   "metadata": {
    "_uuid": "557e12bb36cad312542974ae1edfee9f63fa4a64"
   },
   "outputs": [],
   "source": [
    "summary(application_train$YEARS_BEGINEXPLUATATION_MODE)\n",
    "# Check for outliers - Univariate approach\n",
    "boxplot(application_train$YEARS_BEGINEXPLUATATION_MODE, main=\"YEARS_BEGINEXPLUATATION_MODE\", boxwex=0.1)\n",
    "#boxplot.stats(application_train$YEARS_BEGINEXPLUATATION_MODE)$out"
   ]
  },
  {
   "cell_type": "code",
   "execution_count": null,
   "metadata": {
    "_uuid": "400295197aa6bb2657b925fa8e519d5e76221074"
   },
   "outputs": [],
   "source": [
    "#---> treat outliers: capping\n",
    "# For missing values that lie outside the 1.5 * IQR limits, \n",
    "# we can cap it by replacing those observations outside the lower limit \n",
    "# with the value of 5th percentile and those that lie above the upper limit, \n",
    "# with the value of 95th percentile\n",
    "x <- application_train$YEARS_BEGINEXPLUATATION_MODE\n",
    "qnt <- quantile(x, probs=c(.25, .75), na.rm = T)\n",
    "caps <- quantile(x, probs=c(.05, .95), na.rm = T)\n",
    "H <- 1.5 * IQR(x, na.rm = T)\n",
    "print(qnt)\n",
    "print(caps)\n",
    "print(H)\n",
    "application_train$YEARS_BEGINEXPLUATATION_MODE[application_train$YEARS_BEGINEXPLUATATION_MODE < (qnt[1] - H)] <- caps[1]\n",
    "application_train$YEARS_BEGINEXPLUATATION_MODE[application_train$YEARS_BEGINEXPLUATATION_MODE > (qnt[2] + H)] <- caps[2]"
   ]
  },
  {
   "cell_type": "code",
   "execution_count": null,
   "metadata": {
    "_uuid": "2e1d8072634fcaa43395546baf3936a71536b823"
   },
   "outputs": [],
   "source": [
    "summary(application_train$YEARS_BUILD_MODE)\n",
    "# Check for outliers - Univariate approach\n",
    "boxplot(application_train$YEARS_BUILD_MODE, main=\"YEARS_BUILD_MODE\", boxwex=0.1)\n",
    "#boxplot.stats(application_train$YEARS_BUILD_MODE)$out"
   ]
  },
  {
   "cell_type": "code",
   "execution_count": null,
   "metadata": {
    "_uuid": "e4160c6308340f9017b6d373f6ce855dc97312b2"
   },
   "outputs": [],
   "source": [
    "#---> treat outliers: capping\n",
    "# For missing values that lie outside the 1.5 * IQR limits, \n",
    "# we can cap it by replacing those observations outside the lower limit \n",
    "# with the value of 5th percentile and those that lie above the upper limit, \n",
    "# with the value of 95th percentile\n",
    "x <- application_train$YEARS_BUILD_MODE\n",
    "qnt <- quantile(x, probs=c(.25, .75), na.rm = T)\n",
    "caps <- quantile(x, probs=c(.05, .95), na.rm = T)\n",
    "H <- 1.5 * IQR(x, na.rm = T)\n",
    "print(qnt)\n",
    "print(caps)\n",
    "print(H)\n",
    "application_train$YEARS_BUILD_MODE[application_train$YEARS_BUILD_MODE < (qnt[1] - H)] <- caps[1]\n",
    "application_train$YEARS_BUILD_MODE[application_train$YEARS_BUILD_MODE > (qnt[2] + H)] <- caps[2]"
   ]
  },
  {
   "cell_type": "code",
   "execution_count": null,
   "metadata": {
    "_uuid": "500b5bd0a285a8977c47452f0d2359ecfb44e089"
   },
   "outputs": [],
   "source": [
    "summary(application_train$COMMONAREA_MODE)\n",
    "# Check for outliers - Univariate approach\n",
    "boxplot(application_train$COMMONAREA_MODE, main=\"COMMONAREA_MODE\", boxwex=0.1)\n",
    "#boxplot.stats(application_train$COMMONAREA_MODE)$out"
   ]
  },
  {
   "cell_type": "code",
   "execution_count": null,
   "metadata": {
    "_uuid": "7784934b5605b65e5620630302a5bda359fa91c6"
   },
   "outputs": [],
   "source": [
    "#---> treat outliers: capping\n",
    "# For missing values that lie outside the 1.5 * IQR limits, \n",
    "# we can cap it by replacing those observations outside the lower limit \n",
    "# with the value of 5th percentile and those that lie above the upper limit, \n",
    "# with the value of 95th percentile\n",
    "x <- application_train$COMMONAREA_MODE\n",
    "qnt <- quantile(x, probs=c(.25, .75), na.rm = T)\n",
    "caps <- quantile(x, probs=c(.05, .95), na.rm = T)\n",
    "H <- 1.5 * IQR(x, na.rm = T)\n",
    "print(qnt)\n",
    "print(caps)\n",
    "print(H)\n",
    "application_train$COMMONAREA_MODE[application_train$COMMONAREA_MODE < (qnt[1] - H)] <- caps[1]\n",
    "application_train$COMMONAREA_MODE[application_train$COMMONAREA_MODE > (qnt[2] + H)] <- caps[2]"
   ]
  },
  {
   "cell_type": "code",
   "execution_count": null,
   "metadata": {
    "_uuid": "17023d50abd309ae4870520e8395c600cc26e24b"
   },
   "outputs": [],
   "source": [
    "summary(application_train$ELEVATORS_MODE)\n",
    "# Check for outliers - Univariate approach\n",
    "boxplot(application_train$ELEVATORS_MODE, main=\"ELEVATORS_MODE\", boxwex=0.1)\n",
    "#boxplot.stats(application_train$ELEVATORS_MODE)$out"
   ]
  },
  {
   "cell_type": "code",
   "execution_count": null,
   "metadata": {
    "_uuid": "551d844a8187d4d1a987881fafdbae0ce604ebd7"
   },
   "outputs": [],
   "source": [
    "#---> treat outliers: capping\n",
    "# For missing values that lie outside the 1.5 * IQR limits, \n",
    "# we can cap it by replacing those observations outside the lower limit \n",
    "# with the value of 5th percentile and those that lie above the upper limit, \n",
    "# with the value of 95th percentile\n",
    "x <- application_train$ELEVATORS_MODE\n",
    "qnt <- quantile(x, probs=c(.25, .75), na.rm = T)\n",
    "caps <- quantile(x, probs=c(.05, .95), na.rm = T)\n",
    "H <- 1.5 * IQR(x, na.rm = T)\n",
    "print(qnt)\n",
    "print(caps)\n",
    "print(H)\n",
    "application_train$ELEVATORS_MODE[application_train$ELEVATORS_MODE < (qnt[1] - H)] <- caps[1]\n",
    "application_train$ELEVATORS_MODE[application_train$ELEVATORS_MODE > (qnt[2] + H)] <- caps[2]"
   ]
  },
  {
   "cell_type": "code",
   "execution_count": null,
   "metadata": {
    "_uuid": "0dd03a086b97f88089d6a1cdce558f1ceebe4cc4"
   },
   "outputs": [],
   "source": [
    "summary(application_train$ENTRANCES_MODE)\n",
    "# Check for outliers - Univariate approach\n",
    "boxplot(application_train$ENTRANCES_MODE, main=\"ENTRANCES_MODE\", boxwex=0.1)\n",
    "#boxplot.stats(application_train$ENTRANCES_MODE)$out"
   ]
  },
  {
   "cell_type": "code",
   "execution_count": null,
   "metadata": {
    "_uuid": "50cd822cedd43c20387967317d5c62e2ac22235c"
   },
   "outputs": [],
   "source": [
    "#---> treat outliers: capping\n",
    "# For missing values that lie outside the 1.5 * IQR limits, \n",
    "# we can cap it by replacing those observations outside the lower limit \n",
    "# with the value of 5th percentile and those that lie above the upper limit, \n",
    "# with the value of 95th percentile\n",
    "x <- application_train$ENTRANCES_MODE\n",
    "qnt <- quantile(x, probs=c(.25, .75), na.rm = T)\n",
    "caps <- quantile(x, probs=c(.05, .95), na.rm = T)\n",
    "H <- 1.5 * IQR(x, na.rm = T)\n",
    "print(qnt)\n",
    "print(caps)\n",
    "print(H)\n",
    "application_train$ENTRANCES_MODE[application_train$ENTRANCES_MODE < (qnt[1] - H)] <- caps[1]\n",
    "application_train$ENTRANCES_MODE[application_train$ENTRANCES_MODE > (qnt[2] + H)] <- caps[2]"
   ]
  },
  {
   "cell_type": "code",
   "execution_count": null,
   "metadata": {
    "_uuid": "7cf38646d31f139ebe6004914c74ff1ff0a3018b"
   },
   "outputs": [],
   "source": [
    "summary(application_train$FLOORSMAX_MODE)\n",
    "# Check for outliers - Univariate approach\n",
    "boxplot(application_train$FLOORSMAX_MODE, main=\"FLOORSMAX_MODE\", boxwex=0.1)\n",
    "#boxplot.stats(application_train$FLOORSMAX_MODE)$out"
   ]
  },
  {
   "cell_type": "code",
   "execution_count": null,
   "metadata": {
    "_uuid": "b53fabf470f4f3ea4065f795719494724220f4d0"
   },
   "outputs": [],
   "source": [
    "#---> treat outliers: capping\n",
    "# For missing values that lie outside the 1.5 * IQR limits, \n",
    "# we can cap it by replacing those observations outside the lower limit \n",
    "# with the value of 5th percentile and those that lie above the upper limit, \n",
    "# with the value of 95th percentile\n",
    "x <- application_train$FLOORSMAX_MODE\n",
    "qnt <- quantile(x, probs=c(.25, .75), na.rm = T)\n",
    "caps <- quantile(x, probs=c(.05, .95), na.rm = T)\n",
    "H <- 1.5 * IQR(x, na.rm = T)\n",
    "print(qnt)\n",
    "print(caps)\n",
    "print(H)\n",
    "application_train$FLOORSMAX_MODE[application_train$FLOORSMAX_MODE < (qnt[1] - H)] <- caps[1]\n",
    "application_train$FLOORSMAX_MODE[application_train$FLOORSMAX_MODE > (qnt[2] + H)] <- caps[2]"
   ]
  },
  {
   "cell_type": "code",
   "execution_count": null,
   "metadata": {
    "_uuid": "b9e5b3de62c997a44824ec77aa219205b7609b21"
   },
   "outputs": [],
   "source": [
    "summary(application_train$FLOORSMIN_MODE)\n",
    "# Check for outliers - Univariate approach\n",
    "boxplot(application_train$FLOORSMIN_MODE, main=\"FLOORSMIN_MODE\", boxwex=0.1)\n",
    "#boxplot.stats(application_train$FLOORSMIN_MODE)$out"
   ]
  },
  {
   "cell_type": "code",
   "execution_count": null,
   "metadata": {
    "_uuid": "169421cf4aefd67c5d534c9eeb37a4b841af622d"
   },
   "outputs": [],
   "source": [
    "#---> treat outliers: capping\n",
    "# For missing values that lie outside the 1.5 * IQR limits, \n",
    "# we can cap it by replacing those observations outside the lower limit \n",
    "# with the value of 5th percentile and those that lie above the upper limit, \n",
    "# with the value of 95th percentile\n",
    "x <- application_train$FLOORSMIN_MODE\n",
    "qnt <- quantile(x, probs=c(.25, .75), na.rm = T)\n",
    "caps <- quantile(x, probs=c(.05, .95), na.rm = T)\n",
    "H <- 1.5 * IQR(x, na.rm = T)\n",
    "print(qnt)\n",
    "print(caps)\n",
    "print(H)\n",
    "application_train$FLOORSMIN_MODE[application_train$FLOORSMIN_MODE < (qnt[1] - H)] <- caps[1]\n",
    "application_train$FLOORSMIN_MODE[application_train$FLOORSMIN_MODE > (qnt[2] + H)] <- caps[2]"
   ]
  },
  {
   "cell_type": "code",
   "execution_count": null,
   "metadata": {
    "_uuid": "ed9f5f33e68f5c221c741e315bf766601276be11"
   },
   "outputs": [],
   "source": [
    "summary(application_train$LANDAREA_MODE)\n",
    "# Check for outliers - Univariate approach\n",
    "boxplot(application_train$LANDAREA_MODE, main=\"LANDAREA_MODE\", boxwex=0.1)\n",
    "#boxplot.stats(application_train$LANDAREA_MODE)$out"
   ]
  },
  {
   "cell_type": "code",
   "execution_count": null,
   "metadata": {
    "_uuid": "5b7795b7b9e6cdbf7f370e0860c7b6ef939bc06a"
   },
   "outputs": [],
   "source": [
    "#---> treat outliers: capping\n",
    "# For missing values that lie outside the 1.5 * IQR limits, \n",
    "# we can cap it by replacing those observations outside the lower limit \n",
    "# with the value of 5th percentile and those that lie above the upper limit, \n",
    "# with the value of 95th percentile\n",
    "x <- application_train$LANDAREA_MODE\n",
    "qnt <- quantile(x, probs=c(.25, .75), na.rm = T)\n",
    "caps <- quantile(x, probs=c(.05, .95), na.rm = T)\n",
    "H <- 1.5 * IQR(x, na.rm = T)\n",
    "print(qnt)\n",
    "print(caps)\n",
    "print(H)\n",
    "application_train$LANDAREA_MODE[application_train$LANDAREA_MODE < (qnt[1] - H)] <- caps[1]\n",
    "application_train$LANDAREA_MODE[application_train$LANDAREA_MODE > (qnt[2] + H)] <- caps[2]"
   ]
  },
  {
   "cell_type": "code",
   "execution_count": null,
   "metadata": {
    "_uuid": "666675bb220fa18f50e0d1f66ec39cd8b4aff292"
   },
   "outputs": [],
   "source": [
    "summary(application_train$LIVINGAPARTMENTS_MODE)\n",
    "# Check for outliers - Univariate approach\n",
    "boxplot(application_train$LIVINGAPARTMENTS_MODE, main=\"LIVINGAPARTMENTS_MODE\", boxwex=0.1)\n",
    "#boxplot.stats(application_train$LIVINGAPARTMENTS_MODE)$out"
   ]
  },
  {
   "cell_type": "code",
   "execution_count": null,
   "metadata": {
    "_uuid": "4d82ce906f91371d24e2a02cc76ba7e6cd37ab1b"
   },
   "outputs": [],
   "source": [
    "#---> treat outliers: capping\n",
    "# For missing values that lie outside the 1.5 * IQR limits, \n",
    "# we can cap it by replacing those observations outside the lower limit \n",
    "# with the value of 5th percentile and those that lie above the upper limit, \n",
    "# with the value of 95th percentile\n",
    "x <- application_train$LIVINGAPARTMENTS_MODE\n",
    "qnt <- quantile(x, probs=c(.25, .75), na.rm = T)\n",
    "caps <- quantile(x, probs=c(.05, .95), na.rm = T)\n",
    "H <- 1.5 * IQR(x, na.rm = T)\n",
    "print(qnt)\n",
    "print(caps)\n",
    "print(H)\n",
    "application_train$LIVINGAPARTMENTS_MODE[application_train$LIVINGAPARTMENTS_MODE < (qnt[1] - H)] <- caps[1]\n",
    "application_train$LIVINGAPARTMENTS_MODE[application_train$LIVINGAPARTMENTS_MODE > (qnt[2] + H)] <- caps[2]"
   ]
  },
  {
   "cell_type": "code",
   "execution_count": null,
   "metadata": {
    "_uuid": "bfc5c51a1b8d04118e49f3b8940e2566f993faca"
   },
   "outputs": [],
   "source": [
    "summary(application_train$LIVINGAREA_MODE)\n",
    "# Check for outliers - Univariate approach\n",
    "boxplot(application_train$LIVINGAREA_MODE, main=\"LIVINGAREA_MODE\", boxwex=0.1)\n",
    "#boxplot.stats(application_train$LIVINGAREA_MODE)$out"
   ]
  },
  {
   "cell_type": "code",
   "execution_count": null,
   "metadata": {
    "_uuid": "216fcbdef7c40856c8ebc51585e00dedf4ae6438"
   },
   "outputs": [],
   "source": [
    "#---> treat outliers: capping\n",
    "# For missing values that lie outside the 1.5 * IQR limits, \n",
    "# we can cap it by replacing those observations outside the lower limit \n",
    "# with the value of 5th percentile and those that lie above the upper limit, \n",
    "# with the value of 95th percentile\n",
    "x <- application_train$LIVINGAREA_MODE\n",
    "qnt <- quantile(x, probs=c(.25, .75), na.rm = T)\n",
    "caps <- quantile(x, probs=c(.05, .95), na.rm = T)\n",
    "H <- 1.5 * IQR(x, na.rm = T)\n",
    "print(qnt)\n",
    "print(caps)\n",
    "print(H)\n",
    "application_train$LIVINGAREA_MODE[application_train$LIVINGAREA_MODE < (qnt[1] - H)] <- caps[1]\n",
    "application_train$LIVINGAREA_MODE[application_train$LIVINGAREA_MODE > (qnt[2] + H)] <- caps[2]"
   ]
  },
  {
   "cell_type": "code",
   "execution_count": null,
   "metadata": {
    "_uuid": "aedba3f09ab6eb2cad6f40d298cbe89373fa518e"
   },
   "outputs": [],
   "source": [
    "summary(application_train$NONLIVINGAPARTMENTS_MODE)\n",
    "# Check for outliers - Univariate approach\n",
    "boxplot(application_train$NONLIVINGAPARTMENTS_MODE, main=\"NONLIVINGAPARTMENTS_MODE\", boxwex=0.1)\n",
    "#boxplot.stats(application_train$NONLIVINGAPARTMENTS_MODE)$out"
   ]
  },
  {
   "cell_type": "code",
   "execution_count": null,
   "metadata": {
    "_uuid": "6f80cb1c72a5602ba35e30f9ae822367a8c053c2"
   },
   "outputs": [],
   "source": [
    "#---> treat outliers: capping\n",
    "# For missing values that lie outside the 1.5 * IQR limits, \n",
    "# we can cap it by replacing those observations outside the lower limit \n",
    "# with the value of 5th percentile and those that lie above the upper limit, \n",
    "# with the value of 95th percentile\n",
    "x <- application_train$NONLIVINGAPARTMENTS_MODE\n",
    "qnt <- quantile(x, probs=c(.25, .75), na.rm = T)\n",
    "caps <- quantile(x, probs=c(.05, .95), na.rm = T)\n",
    "H <- 1.5 * IQR(x, na.rm = T)\n",
    "print(qnt)\n",
    "print(caps)\n",
    "print(H)\n",
    "application_train$NONLIVINGAPARTMENTS_MODE[application_train$NONLIVINGAPARTMENTS_MODE < (qnt[1] - H)] <- caps[1]\n",
    "application_train$NONLIVINGAPARTMENTS_MODE[application_train$NONLIVINGAPARTMENTS_MODE > (qnt[2] + H)] <- caps[2]"
   ]
  },
  {
   "cell_type": "code",
   "execution_count": null,
   "metadata": {
    "_uuid": "ba9b0ce290d86a7999cc066da4182ef88113909c"
   },
   "outputs": [],
   "source": [
    "summary(application_train$NONLIVINGAREA_MODE)\n",
    "# Check for outliers - Univariate approach\n",
    "boxplot(application_train$NONLIVINGAREA_MODE, main=\"NONLIVINGAREA_MODE\", boxwex=0.1)\n",
    "#boxplot.stats(application_train$NONLIVINGAREA_MODE)$out"
   ]
  },
  {
   "cell_type": "code",
   "execution_count": null,
   "metadata": {
    "_uuid": "b40051249aae6d888dc0af310955273fedd9d5cb"
   },
   "outputs": [],
   "source": [
    "#---> treat outliers: capping\n",
    "# For missing values that lie outside the 1.5 * IQR limits, \n",
    "# we can cap it by replacing those observations outside the lower limit \n",
    "# with the value of 5th percentile and those that lie above the upper limit, \n",
    "# with the value of 95th percentile\n",
    "x <- application_train$NONLIVINGAREA_MODE\n",
    "qnt <- quantile(x, probs=c(.25, .75), na.rm = T)\n",
    "caps <- quantile(x, probs=c(.05, .95), na.rm = T)\n",
    "H <- 1.5 * IQR(x, na.rm = T)\n",
    "print(qnt)\n",
    "print(caps)\n",
    "print(H)\n",
    "application_train$NONLIVINGAREA_MODE[application_train$NONLIVINGAREA_MODE < (qnt[1] - H)] <- caps[1]\n",
    "application_train$NONLIVINGAREA_MODE[application_train$NONLIVINGAREA_MODE > (qnt[2] + H)] <- caps[2]"
   ]
  },
  {
   "cell_type": "code",
   "execution_count": null,
   "metadata": {
    "_uuid": "eefb06a03d77964db1e6d9d2ad7ca3dd5e2535d5"
   },
   "outputs": [],
   "source": [
    "summary(application_train$APARTMENTS_MEDI)\n",
    "# Check for outliers - Univariate approach\n",
    "boxplot(application_train$APARTMENTS_MEDI, main=\"APARTMENTS_MEDI\", boxwex=0.1)\n",
    "#boxplot.stats(application_train$APARTMENTS_MEDI)$out"
   ]
  },
  {
   "cell_type": "code",
   "execution_count": null,
   "metadata": {
    "_uuid": "17b9c23fa003fb6eba2fac1627c9443fb32335f8"
   },
   "outputs": [],
   "source": [
    "#---> treat outliers: capping\n",
    "# For missing values that lie outside the 1.5 * IQR limits, \n",
    "# we can cap it by replacing those observations outside the lower limit \n",
    "# with the value of 5th percentile and those that lie above the upper limit, \n",
    "# with the value of 95th percentile\n",
    "x <- application_train$APARTMENTS_MEDI\n",
    "qnt <- quantile(x, probs=c(.25, .75), na.rm = T)\n",
    "caps <- quantile(x, probs=c(.05, .95), na.rm = T)\n",
    "H <- 1.5 * IQR(x, na.rm = T)\n",
    "print(qnt)\n",
    "print(caps)\n",
    "print(H)\n",
    "application_train$APARTMENTS_MEDI[application_train$APARTMENTS_MEDI < (qnt[1] - H)] <- caps[1]\n",
    "application_train$APARTMENTS_MEDI[application_train$APARTMENTS_MEDI > (qnt[2] + H)] <- caps[2]"
   ]
  },
  {
   "cell_type": "code",
   "execution_count": null,
   "metadata": {
    "_uuid": "65f136949230fb5e493e12645be68671b6273885"
   },
   "outputs": [],
   "source": [
    "summary(application_train$BASEMENTAREA_MEDI)\n",
    "# Check for outliers - Univariate approach\n",
    "boxplot(application_train$BASEMENTAREA_MEDI, main=\"BASEMENTAREA_MEDI\", boxwex=0.1)\n",
    "#boxplot.stats(application_train$BASEMENTAREA_MEDI)$out"
   ]
  },
  {
   "cell_type": "code",
   "execution_count": null,
   "metadata": {
    "_uuid": "d3da3865107cb80f46c879113a796840d05ba049"
   },
   "outputs": [],
   "source": [
    "#---> treat outliers: capping\n",
    "# For missing values that lie outside the 1.5 * IQR limits, \n",
    "# we can cap it by replacing those observations outside the lower limit \n",
    "# with the value of 5th percentile and those that lie above the upper limit, \n",
    "# with the value of 95th percentile\n",
    "x <- application_train$BASEMENTAREA_MEDI\n",
    "qnt <- quantile(x, probs=c(.25, .75), na.rm = T)\n",
    "caps <- quantile(x, probs=c(.05, .95), na.rm = T)\n",
    "H <- 1.5 * IQR(x, na.rm = T)\n",
    "print(qnt)\n",
    "print(caps)\n",
    "print(H)\n",
    "application_train$BASEMENTAREA_MEDI[application_train$BASEMENTAREA_MEDI < (qnt[1] - H)] <- caps[1]\n",
    "application_train$BASEMENTAREA_MEDI[application_train$BASEMENTAREA_MEDI > (qnt[2] + H)] <- caps[2]"
   ]
  },
  {
   "cell_type": "code",
   "execution_count": null,
   "metadata": {
    "_uuid": "98808ae1b473f1f9f8b4cb3c9fe262f11986551a"
   },
   "outputs": [],
   "source": [
    "summary(application_train$YEARS_BEGINEXPLUATATION_MEDI)\n",
    "# Check for outliers - Univariate approach\n",
    "boxplot(application_train$YEARS_BEGINEXPLUATATION_MEDI, main=\"YEARS_BEGINEXPLUATATION_MEDI\", boxwex=0.1)\n",
    "#boxplot.stats(application_train$YEARS_BEGINEXPLUATATION_MEDI)$out"
   ]
  },
  {
   "cell_type": "code",
   "execution_count": null,
   "metadata": {
    "_uuid": "61eece5687fdb9ef1506d156f1578deebaefb67f"
   },
   "outputs": [],
   "source": [
    "#---> treat outliers: capping\n",
    "# For missing values that lie outside the 1.5 * IQR limits, \n",
    "# we can cap it by replacing those observations outside the lower limit \n",
    "# with the value of 5th percentile and those that lie above the upper limit, \n",
    "# with the value of 95th percentile\n",
    "x <- application_train$YEARS_BEGINEXPLUATATION_MEDI\n",
    "qnt <- quantile(x, probs=c(.25, .75), na.rm = T)\n",
    "caps <- quantile(x, probs=c(.05, .95), na.rm = T)\n",
    "H <- 1.5 * IQR(x, na.rm = T)\n",
    "print(qnt)\n",
    "print(caps)\n",
    "print(H)\n",
    "application_train$YEARS_BEGINEXPLUATATION_MEDI[application_train$YEARS_BEGINEXPLUATATION_MEDI < (qnt[1] - H)] <- caps[1]\n",
    "application_train$YEARS_BEGINEXPLUATATION_MEDI[application_train$YEARS_BEGINEXPLUATATION_MEDI > (qnt[2] + H)] <- caps[2]"
   ]
  },
  {
   "cell_type": "code",
   "execution_count": null,
   "metadata": {
    "_uuid": "d42238eb9a8462a46bd1435bb523b8f024830e31"
   },
   "outputs": [],
   "source": [
    "summary(application_train$YEARS_BUILD_MEDI)\n",
    "# Check for outliers - Univariate approach\n",
    "boxplot(application_train$YEARS_BUILD_MEDI, main=\"YEARS_BUILD_MEDI\", boxwex=0.1)\n",
    "#boxplot.stats(application_train$YEARS_BUILD_MEDI)$out"
   ]
  },
  {
   "cell_type": "code",
   "execution_count": null,
   "metadata": {
    "_uuid": "3b9a59fd40f31c652f1e50d70f479fa0b98f55ca"
   },
   "outputs": [],
   "source": [
    "#---> treat outliers: capping\n",
    "# For missing values that lie outside the 1.5 * IQR limits, \n",
    "# we can cap it by replacing those observations outside the lower limit \n",
    "# with the value of 5th percentile and those that lie above the upper limit, \n",
    "# with the value of 95th percentile\n",
    "x <- application_train$YEARS_BUILD_MEDI\n",
    "qnt <- quantile(x, probs=c(.25, .75), na.rm = T)\n",
    "caps <- quantile(x, probs=c(.05, .95), na.rm = T)\n",
    "H <- 1.5 * IQR(x, na.rm = T)\n",
    "print(qnt)\n",
    "print(caps)\n",
    "print(H)\n",
    "application_train$YEARS_BUILD_MEDI[application_train$YEARS_BUILD_MEDI < (qnt[1] - H)] <- caps[1]\n",
    "application_train$YEARS_BUILD_MEDI[application_train$YEARS_BUILD_MEDI > (qnt[2] + H)] <- caps[2]"
   ]
  },
  {
   "cell_type": "code",
   "execution_count": null,
   "metadata": {
    "_uuid": "d443061c4f0f87442ff97c276ffe42528f13ee73"
   },
   "outputs": [],
   "source": [
    "summary(application_train$COMMONAREA_MEDI)\n",
    "# Check for outliers - Univariate approach\n",
    "boxplot(application_train$COMMONAREA_MEDI, main=\"COMMONAREA_MEDI\", boxwex=0.1)\n",
    "#boxplot.stats(application_train$COMMONAREA_MEDI)$out"
   ]
  },
  {
   "cell_type": "code",
   "execution_count": null,
   "metadata": {
    "_uuid": "ccacc35f11e37816b87b300a24e0a238545e0758"
   },
   "outputs": [],
   "source": [
    "#---> treat outliers: capping\n",
    "# For missing values that lie outside the 1.5 * IQR limits, \n",
    "# we can cap it by replacing those observations outside the lower limit \n",
    "# with the value of 5th percentile and those that lie above the upper limit, \n",
    "# with the value of 95th percentile\n",
    "x <- application_train$COMMONAREA_MEDI\n",
    "qnt <- quantile(x, probs=c(.25, .75), na.rm = T)\n",
    "caps <- quantile(x, probs=c(.05, .95), na.rm = T)\n",
    "H <- 1.5 * IQR(x, na.rm = T)\n",
    "print(qnt)\n",
    "print(caps)\n",
    "print(H)\n",
    "application_train$COMMONAREA_MEDI[application_train$COMMONAREA_MEDI < (qnt[1] - H)] <- caps[1]\n",
    "application_train$COMMONAREA_MEDI[application_train$COMMONAREA_MEDI > (qnt[2] + H)] <- caps[2]"
   ]
  },
  {
   "cell_type": "code",
   "execution_count": null,
   "metadata": {
    "_uuid": "49af5d35abda25b2298ab9812af065038ac64c95"
   },
   "outputs": [],
   "source": [
    "summary(application_train$ELEVATORS_MEDI)\n",
    "# Check for outliers - Univariate approach\n",
    "boxplot(application_train$ELEVATORS_MEDI, main=\"ELEVATORS_MEDI\", boxwex=0.1)\n",
    "#boxplot.stats(application_train$NONLIVINGAREA_MODE)$out"
   ]
  },
  {
   "cell_type": "code",
   "execution_count": null,
   "metadata": {
    "_uuid": "28cb12c4eefd034687f418a3f11d3a0c61f1a579"
   },
   "outputs": [],
   "source": [
    "#---> treat outliers: capping\n",
    "# For missing values that lie outside the 1.5 * IQR limits, \n",
    "# we can cap it by replacing those observations outside the lower limit \n",
    "# with the value of 5th percentile and those that lie above the upper limit, \n",
    "# with the value of 95th percentile\n",
    "x <- application_train$ELEVATORS_MEDI\n",
    "qnt <- quantile(x, probs=c(.25, .75), na.rm = T)\n",
    "caps <- quantile(x, probs=c(.05, .95), na.rm = T)\n",
    "H <- 1.5 * IQR(x, na.rm = T)\n",
    "print(qnt)\n",
    "print(caps)\n",
    "print(H)\n",
    "application_train$ELEVATORS_MEDI[application_train$ELEVATORS_MEDI < (qnt[1] - H)] <- caps[1]\n",
    "application_train$ELEVATORS_MEDI[application_train$ELEVATORS_MEDI > (qnt[2] + H)] <- caps[2]"
   ]
  },
  {
   "cell_type": "code",
   "execution_count": null,
   "metadata": {
    "_uuid": "8784f9c368a82f71b34b61e223f88f5e182a3a40"
   },
   "outputs": [],
   "source": [
    "summary(application_train$ENTRANCES_MEDI)\n",
    "# Check for outliers - Univariate approach\n",
    "boxplot(application_train$ENTRANCES_MEDI, main=\"ENTRANCES_MEDI\", boxwex=0.1)\n",
    "#boxplot.stats(application_train$ENTRANCES_MEDI)$out"
   ]
  },
  {
   "cell_type": "code",
   "execution_count": null,
   "metadata": {
    "_uuid": "34089ede29538ac10c49112849bb0b6fda2b4a80"
   },
   "outputs": [],
   "source": [
    "#---> treat outliers: capping\n",
    "# For missing values that lie outside the 1.5 * IQR limits, \n",
    "# we can cap it by replacing those observations outside the lower limit \n",
    "# with the value of 5th percentile and those that lie above the upper limit, \n",
    "# with the value of 95th percentile\n",
    "x <- application_train$ENTRANCES_MEDI\n",
    "qnt <- quantile(x, probs=c(.25, .75), na.rm = T)\n",
    "caps <- quantile(x, probs=c(.05, .95), na.rm = T)\n",
    "H <- 1.5 * IQR(x, na.rm = T)\n",
    "print(qnt)\n",
    "print(caps)\n",
    "print(H)\n",
    "application_train$ENTRANCES_MEDI[application_train$ENTRANCES_MEDI < (qnt[1] - H)] <- caps[1]\n",
    "application_train$ENTRANCES_MEDI[application_train$ENTRANCES_MEDI > (qnt[2] + H)] <- caps[2]"
   ]
  },
  {
   "cell_type": "code",
   "execution_count": null,
   "metadata": {
    "_uuid": "16926b9d0270a4170422fc4417428b1091ac7810"
   },
   "outputs": [],
   "source": [
    "summary(application_train$FLOORSMAX_MEDI)\n",
    "# Check for outliers - Univariate approach\n",
    "boxplot(application_train$FLOORSMAX_MEDI, main=\"FLOORSMAX_MEDI\", boxwex=0.1)\n",
    "#boxplot.stats(application_train$FLOORSMAX_MEDI)$out"
   ]
  },
  {
   "cell_type": "code",
   "execution_count": null,
   "metadata": {
    "_uuid": "351fd4a80a4ffe7226814d869b249549c758c6bc"
   },
   "outputs": [],
   "source": [
    "#---> treat outliers: capping\n",
    "# For missing values that lie outside the 1.5 * IQR limits, \n",
    "# we can cap it by replacing those observations outside the lower limit \n",
    "# with the value of 5th percentile and those that lie above the upper limit, \n",
    "# with the value of 95th percentile\n",
    "x <- application_train$FLOORSMAX_MEDI\n",
    "qnt <- quantile(x, probs=c(.25, .75), na.rm = T)\n",
    "caps <- quantile(x, probs=c(.05, .95), na.rm = T)\n",
    "H <- 1.5 * IQR(x, na.rm = T)\n",
    "print(qnt)\n",
    "print(caps)\n",
    "print(H)\n",
    "application_train$FLOORSMAX_MEDI[application_train$FLOORSMAX_MEDI < (qnt[1] - H)] <- caps[1]\n",
    "application_train$FLOORSMAX_MEDI[application_train$FLOORSMAX_MEDI > (qnt[2] + H)] <- caps[2]"
   ]
  },
  {
   "cell_type": "code",
   "execution_count": null,
   "metadata": {
    "_uuid": "96ee5715cb78a8240f821b419a44264d011842b3"
   },
   "outputs": [],
   "source": [
    "summary(application_train$FLOORSMIN_MEDI)\n",
    "# Check for outliers - Univariate approach\n",
    "boxplot(application_train$FLOORSMIN_MEDI, main=\"FLOORSMIN_MEDI\", boxwex=0.1)\n",
    "#boxplot.stats(application_train$FLOORSMIN_MEDI)$out"
   ]
  },
  {
   "cell_type": "code",
   "execution_count": null,
   "metadata": {
    "_uuid": "5e16cc4567cb7729c01ce58fae14131976971155"
   },
   "outputs": [],
   "source": [
    "#---> treat outliers: capping\n",
    "# For missing values that lie outside the 1.5 * IQR limits, \n",
    "# we can cap it by replacing those observations outside the lower limit \n",
    "# with the value of 5th percentile and those that lie above the upper limit, \n",
    "# with the value of 95th percentile\n",
    "x <- application_train$FLOORSMIN_MEDI\n",
    "qnt <- quantile(x, probs=c(.25, .75), na.rm = T)\n",
    "caps <- quantile(x, probs=c(.05, .95), na.rm = T)\n",
    "H <- 1.5 * IQR(x, na.rm = T)\n",
    "print(qnt)\n",
    "print(caps)\n",
    "print(H)\n",
    "application_train$FLOORSMIN_MEDI[application_train$FLOORSMIN_MEDI < (qnt[1] - H)] <- caps[1]\n",
    "application_train$FLOORSMIN_MEDI[application_train$FLOORSMIN_MEDI > (qnt[2] + H)] <- caps[2]"
   ]
  },
  {
   "cell_type": "code",
   "execution_count": null,
   "metadata": {
    "_uuid": "5788a42fae5ec4def9ce4b7b749a06588c1e8a9f"
   },
   "outputs": [],
   "source": [
    "summary(application_train$LANDAREA_MEDI)\n",
    "# Check for outliers - Univariate approach\n",
    "boxplot(application_train$LANDAREA_MEDI, main=\"LANDAREA_MEDI\", boxwex=0.1)\n",
    "#boxplot.stats(application_train$LANDAREA_MEDI)$out"
   ]
  },
  {
   "cell_type": "code",
   "execution_count": null,
   "metadata": {
    "_uuid": "fc61b25f960d17960a466fafda5f3fcaa8aa8d19"
   },
   "outputs": [],
   "source": [
    "#---> treat outliers: capping\n",
    "# For missing values that lie outside the 1.5 * IQR limits, \n",
    "# we can cap it by replacing those observations outside the lower limit \n",
    "# with the value of 5th percentile and those that lie above the upper limit, \n",
    "# with the value of 95th percentile\n",
    "x <- application_train$LANDAREA_MEDI\n",
    "qnt <- quantile(x, probs=c(.25, .75), na.rm = T)\n",
    "caps <- quantile(x, probs=c(.05, .95), na.rm = T)\n",
    "H <- 1.5 * IQR(x, na.rm = T)\n",
    "print(qnt)\n",
    "print(caps)\n",
    "print(H)\n",
    "application_train$LANDAREA_MEDI[application_train$LANDAREA_MEDI < (qnt[1] - H)] <- caps[1]\n",
    "application_train$LANDAREA_MEDI[application_train$LANDAREA_MEDI > (qnt[2] + H)] <- caps[2]"
   ]
  },
  {
   "cell_type": "code",
   "execution_count": null,
   "metadata": {
    "_uuid": "3ce15934ba40523e2fdf82da939a6c81857fd078"
   },
   "outputs": [],
   "source": [
    "summary(application_train$LIVINGAPARTMENTS_MEDI)\n",
    "# Check for outliers - Univariate approach\n",
    "boxplot(application_train$LIVINGAPARTMENTS_MEDI, main=\"LIVINGAPARTMENTS_MEDI\", boxwex=0.1)\n",
    "#boxplot.stats(application_train$LIVINGAPARTMENTS_MEDI)$out"
   ]
  },
  {
   "cell_type": "code",
   "execution_count": null,
   "metadata": {
    "_uuid": "93a2fe71329a570b3ae9cfe25ddaf1a1e5bc5fa9"
   },
   "outputs": [],
   "source": [
    "#---> treat outliers: capping\n",
    "# For missing values that lie outside the 1.5 * IQR limits, \n",
    "# we can cap it by replacing those observations outside the lower limit \n",
    "# with the value of 5th percentile and those that lie above the upper limit, \n",
    "# with the value of 95th percentile\n",
    "x <- application_train$LIVINGAPARTMENTS_MEDI\n",
    "qnt <- quantile(x, probs=c(.25, .75), na.rm = T)\n",
    "caps <- quantile(x, probs=c(.05, .95), na.rm = T)\n",
    "H <- 1.5 * IQR(x, na.rm = T)\n",
    "print(qnt)\n",
    "print(caps)\n",
    "print(H)\n",
    "application_train$LIVINGAPARTMENTS_MEDI[application_train$LIVINGAPARTMENTS_MEDI < (qnt[1] - H)] <- caps[1]\n",
    "application_train$LIVINGAPARTMENTS_MEDI[application_train$LIVINGAPARTMENTS_MEDI > (qnt[2] + H)] <- caps[2]"
   ]
  },
  {
   "cell_type": "code",
   "execution_count": null,
   "metadata": {
    "_uuid": "8e2d6903e92e4662744a2890bfdfcd387d46a6b5"
   },
   "outputs": [],
   "source": [
    "summary(application_train$LIVINGAREA_MEDI)\n",
    "# Check for outliers - Univariate approach\n",
    "boxplot(application_train$LIVINGAREA_MEDI, main=\"LIVINGAREA_MEDI\", boxwex=0.1)\n",
    "#boxplot.stats(application_train$LIVINGAREA_MEDI)$out"
   ]
  },
  {
   "cell_type": "code",
   "execution_count": null,
   "metadata": {
    "_uuid": "947dca40014b9b512fcb171eeb5697b49d44b6e2"
   },
   "outputs": [],
   "source": [
    "#---> treat outliers: capping\n",
    "# For missing values that lie outside the 1.5 * IQR limits, \n",
    "# we can cap it by replacing those observations outside the lower limit \n",
    "# with the value of 5th percentile and those that lie above the upper limit, \n",
    "# with the value of 95th percentile\n",
    "x <- application_train$LIVINGAREA_MEDI\n",
    "qnt <- quantile(x, probs=c(.25, .75), na.rm = T)\n",
    "caps <- quantile(x, probs=c(.05, .95), na.rm = T)\n",
    "H <- 1.5 * IQR(x, na.rm = T)\n",
    "print(qnt)\n",
    "print(caps)\n",
    "print(H)\n",
    "application_train$LIVINGAREA_MEDI[application_train$LIVINGAREA_MEDI < (qnt[1] - H)] <- caps[1]\n",
    "application_train$LIVINGAREA_MEDI[application_train$LIVINGAREA_MEDI > (qnt[2] + H)] <- caps[2]"
   ]
  },
  {
   "cell_type": "code",
   "execution_count": null,
   "metadata": {
    "_uuid": "fb6c69b3f8ef6d2b7d360af42854caeef7476fc4"
   },
   "outputs": [],
   "source": [
    "summary(application_train$NONLIVINGAPARTMENTS_MEDI)\n",
    "# Check for outliers - Univariate approach\n",
    "boxplot(application_train$NONLIVINGAPARTMENTS_MEDI, main=\"NONLIVINGAPARTMENTS_MEDI\", boxwex=0.1)\n",
    "#boxplot.stats(application_train$NONLIVINGAPARTMENTS_MEDI)$out"
   ]
  },
  {
   "cell_type": "code",
   "execution_count": null,
   "metadata": {
    "_uuid": "6ac1162759d184caafd89d9053a95337a0a736e3"
   },
   "outputs": [],
   "source": [
    "#---> treat outliers: capping\n",
    "# For missing values that lie outside the 1.5 * IQR limits, \n",
    "# we can cap it by replacing those observations outside the lower limit \n",
    "# with the value of 5th percentile and those that lie above the upper limit, \n",
    "# with the value of 95th percentile\n",
    "x <- application_train$NONLIVINGAPARTMENTS_MEDI\n",
    "qnt <- quantile(x, probs=c(.25, .75), na.rm = T)\n",
    "caps <- quantile(x, probs=c(.05, .95), na.rm = T)\n",
    "H <- 1.5 * IQR(x, na.rm = T)\n",
    "print(qnt)\n",
    "print(caps)\n",
    "print(H)\n",
    "application_train$NONLIVINGAPARTMENTS_MEDI[application_train$NONLIVINGAPARTMENTS_MEDI < (qnt[1] - H)] <- caps[1]\n",
    "application_train$NONLIVINGAPARTMENTS_MEDI[application_train$NONLIVINGAPARTMENTS_MEDI > (qnt[2] + H)] <- caps[2]"
   ]
  },
  {
   "cell_type": "code",
   "execution_count": null,
   "metadata": {
    "_uuid": "935b1474f47b541ebfaef1125c29c2a15251e9c0"
   },
   "outputs": [],
   "source": [
    "summary(application_train$NONLIVINGAREA_MEDI)\n",
    "# Check for outliers - Univariate approach\n",
    "boxplot(application_train$NONLIVINGAREA_MEDI, main=\"NONLIVINGAREA_MEDI\", boxwex=0.1)\n",
    "#boxplot.stats(application_train$NONLIVINGAREA_MEDI)$out"
   ]
  },
  {
   "cell_type": "code",
   "execution_count": null,
   "metadata": {
    "_uuid": "03178e5e57cdc2efdaa77ac3c05851eeb03b02fd"
   },
   "outputs": [],
   "source": [
    "#---> treat outliers: capping\n",
    "# For missing values that lie outside the 1.5 * IQR limits, \n",
    "# we can cap it by replacing those observations outside the lower limit \n",
    "# with the value of 5th percentile and those that lie above the upper limit, \n",
    "# with the value of 95th percentile\n",
    "x <- application_train$NONLIVINGAREA_MEDI\n",
    "qnt <- quantile(x, probs=c(.25, .75), na.rm = T)\n",
    "caps <- quantile(x, probs=c(.05, .95), na.rm = T)\n",
    "H <- 1.5 * IQR(x, na.rm = T)\n",
    "print(qnt)\n",
    "print(caps)\n",
    "print(H)\n",
    "application_train$NONLIVINGAREA_MEDI[application_train$NONLIVINGAREA_MEDI < (qnt[1] - H)] <- caps[1]\n",
    "application_train$NONLIVINGAREA_MEDI[application_train$NONLIVINGAREA_MEDI > (qnt[2] + H)] <- caps[2]"
   ]
  },
  {
   "cell_type": "code",
   "execution_count": null,
   "metadata": {
    "_uuid": "65f54269792d99e9194f5646c72334155093ae85"
   },
   "outputs": [],
   "source": [
    "summary(application_train$TOTALAREA_MODE)\n",
    "# Check for outliers - Univariate approach\n",
    "boxplot(application_train$TOTALAREA_MODE, main=\"TOTALAREA_MODE\", boxwex=0.1)\n",
    "#boxplot.stats(application_train$TOTALAREA_MODE)$out"
   ]
  },
  {
   "cell_type": "code",
   "execution_count": null,
   "metadata": {
    "_uuid": "359544ea33d04257227604571ad6c7e969e02f88"
   },
   "outputs": [],
   "source": [
    "#---> treat outliers: capping\n",
    "# For missing values that lie outside the 1.5 * IQR limits, \n",
    "# we can cap it by replacing those observations outside the lower limit \n",
    "# with the value of 5th percentile and those that lie above the upper limit, \n",
    "# with the value of 95th percentile\n",
    "x <- application_train$TOTALAREA_MODE\n",
    "qnt <- quantile(x, probs=c(.25, .75), na.rm = T)\n",
    "caps <- quantile(x, probs=c(.05, .95), na.rm = T)\n",
    "H <- 1.5 * IQR(x, na.rm = T)\n",
    "print(qnt)\n",
    "print(caps)\n",
    "print(H)\n",
    "application_train$TOTALAREA_MODE[application_train$TOTALAREA_MODE < (qnt[1] - H)] <- caps[1]\n",
    "application_train$TOTALAREA_MODE[application_train$TOTALAREA_MODE > (qnt[2] + H)] <- caps[2]"
   ]
  },
  {
   "cell_type": "code",
   "execution_count": null,
   "metadata": {
    "_uuid": "d95b55af68eb80afff2a398298c1956956e43ebc"
   },
   "outputs": [],
   "source": [
    "summary(application_train$OBS_30_CNT_SOCIAL_CIRCLE)\n",
    "# Check for outliers - Univariate approach\n",
    "boxplot(application_train$OBS_30_CNT_SOCIAL_CIRCLE, main=\"OBS_30_CNT_SOCIAL_CIRCLE\", boxwex=0.1)\n",
    "#boxplot.stats(application_train$OBS_30_CNT_SOCIAL_CIRCLE)$out"
   ]
  },
  {
   "cell_type": "code",
   "execution_count": null,
   "metadata": {
    "_uuid": "937d515ecf136470418bc8660a13a7ebfa61eb9d"
   },
   "outputs": [],
   "source": [
    "#---> treat outliers: capping\n",
    "# For missing values that lie outside the 1.5 * IQR limits, \n",
    "# we can cap it by replacing those observations outside the lower limit \n",
    "# with the value of 5th percentile and those that lie above the upper limit, \n",
    "# with the value of 95th percentile\n",
    "x <- application_train$OBS_30_CNT_SOCIAL_CIRCLE\n",
    "qnt <- quantile(x, probs=c(.25, .75), na.rm = T)\n",
    "caps <- quantile(x, probs=c(.01, .99), na.rm = T) #changed the threshold\n",
    "H <- 1.5 * IQR(x, na.rm = T)\n",
    "print(qnt)\n",
    "print(caps)\n",
    "print(H)\n",
    "application_train$OBS_30_CNT_SOCIAL_CIRCLE[application_train$OBS_30_CNT_SOCIAL_CIRCLE < (qnt[1] - H)] <- caps[1]\n",
    "application_train$OBS_30_CNT_SOCIAL_CIRCLE[application_train$OBS_30_CNT_SOCIAL_CIRCLE > (qnt[2] + H)] <- caps[2]"
   ]
  },
  {
   "cell_type": "code",
   "execution_count": null,
   "metadata": {
    "_uuid": "ff112e2a3a0d305e04dedaa14f435c404101273c"
   },
   "outputs": [],
   "source": [
    "summary(application_train$DEF_30_CNT_SOCIAL_CIRCLE)\n",
    "# Check for outliers - Univariate approach\n",
    "boxplot(application_train$DEF_30_CNT_SOCIAL_CIRCLE, main=\"DEF_30_CNT_SOCIAL_CIRCLE\", boxwex=0.1)\n",
    "#boxplot.stats(application_train$DEF_30_CNT_SOCIAL_CIRCLE)$out"
   ]
  },
  {
   "cell_type": "code",
   "execution_count": null,
   "metadata": {
    "_uuid": "16c1fda9bacd8662adf2bc9ec822c529076ada14"
   },
   "outputs": [],
   "source": [
    "#---> treat outliers: capping\n",
    "# For missing values that lie outside the 1.5 * IQR limits, \n",
    "# we can cap it by replacing those observations outside the lower limit \n",
    "# with the value of 5th percentile and those that lie above the upper limit, \n",
    "# with the value of 95th percentile\n",
    "x <- application_train$DEF_30_CNT_SOCIAL_CIRCLE\n",
    "qnt <- quantile(x, probs=c(.25, .75), na.rm = T)\n",
    "caps <- quantile(x, probs=c(.01, .99), na.rm = T) #changed the threshold\n",
    "H <- 1.5 * IQR(x, na.rm = T)\n",
    "print(qnt)\n",
    "print(caps)\n",
    "print(H)\n",
    "application_train$DEF_30_CNT_SOCIAL_CIRCLE[application_train$DEF_30_CNT_SOCIAL_CIRCLE < (qnt[1] - H)] <- caps[1]\n",
    "application_train$DEF_30_CNT_SOCIAL_CIRCLE[application_train$DEF_30_CNT_SOCIAL_CIRCLE > (qnt[2] + H)] <- caps[2]"
   ]
  },
  {
   "cell_type": "code",
   "execution_count": null,
   "metadata": {
    "_uuid": "67c69747f93834e95a4ef3c167a54998a0fa0ed1"
   },
   "outputs": [],
   "source": [
    "summary(application_train$OBS_60_CNT_SOCIAL_CIRCLE)\n",
    "# Check for outliers - Univariate approach\n",
    "boxplot(application_train$OBS_60_CNT_SOCIAL_CIRCLE, main=\"OBS_60_CNT_SOCIAL_CIRCLE\", boxwex=0.1)\n",
    "#boxplot.stats(application_train$OBS_60_CNT_SOCIAL_CIRCLE)$out"
   ]
  },
  {
   "cell_type": "code",
   "execution_count": null,
   "metadata": {
    "_uuid": "e851723536034109026bb4d994c9ac8459af20cc"
   },
   "outputs": [],
   "source": [
    "#---> treat outliers: capping\n",
    "# For missing values that lie outside the 1.5 * IQR limits, \n",
    "# we can cap it by replacing those observations outside the lower limit \n",
    "# with the value of 5th percentile and those that lie above the upper limit, \n",
    "# with the value of 95th percentile\n",
    "x <- application_train$OBS_60_CNT_SOCIAL_CIRCLE\n",
    "qnt <- quantile(x, probs=c(.25, .75), na.rm = T)\n",
    "caps <- quantile(x, probs=c(.01, .99), na.rm = T) #change the threshold\n",
    "H <- 1.5 * IQR(x, na.rm = T)\n",
    "print(qnt)\n",
    "print(caps)\n",
    "print(H)\n",
    "application_train$OBS_60_CNT_SOCIAL_CIRCLE[application_train$OBS_60_CNT_SOCIAL_CIRCLE < (qnt[1] - H)] <- caps[1]\n",
    "application_train$OBS_60_CNT_SOCIAL_CIRCLE[application_train$OBS_60_CNT_SOCIAL_CIRCLE > (qnt[2] + H)] <- caps[2]"
   ]
  },
  {
   "cell_type": "code",
   "execution_count": null,
   "metadata": {
    "_uuid": "89ab5c2460c6f1f8204fd390e1cc877e1dc9d51a"
   },
   "outputs": [],
   "source": [
    "summary(application_train$DEF_60_CNT_SOCIAL_CIRCLE)\n",
    "# Check for outliers - Univariate approach\n",
    "boxplot(application_train$DEF_60_CNT_SOCIAL_CIRCLE, main=\"DEF_60_CNT_SOCIAL_CIRCLE\", boxwex=0.1)\n",
    "#boxplot.stats(application_train$DEF_60_CNT_SOCIAL_CIRCLE)$out"
   ]
  },
  {
   "cell_type": "code",
   "execution_count": null,
   "metadata": {
    "_uuid": "b0029b87806688263d34e2f197bcee7f4a60ebcc"
   },
   "outputs": [],
   "source": [
    "#---> treat outliers: capping\n",
    "# For missing values that lie outside the 1.5 * IQR limits, \n",
    "# we can cap it by replacing those observations outside the lower limit \n",
    "# with the value of 5th percentile and those that lie above the upper limit, \n",
    "# with the value of 95th percentile\n",
    "x <- application_train$DEF_60_CNT_SOCIAL_CIRCLE\n",
    "qnt <- quantile(x, probs=c(.25, .75), na.rm = T)\n",
    "caps <- quantile(x, probs=c(.01, .99), na.rm = T) #change the threshold\n",
    "H <- 1.5 * IQR(x, na.rm = T)\n",
    "print(qnt)\n",
    "print(caps)\n",
    "print(H)\n",
    "application_train$DEF_60_CNT_SOCIAL_CIRCLE[application_train$DEF_60_CNT_SOCIAL_CIRCLE < (qnt[1] - H)] <- caps[1]\n",
    "application_train$DEF_60_CNT_SOCIAL_CIRCLE[application_train$DEF_60_CNT_SOCIAL_CIRCLE > (qnt[2] + H)] <- caps[2]"
   ]
  },
  {
   "cell_type": "code",
   "execution_count": null,
   "metadata": {
    "_uuid": "01087dccabbbc637b378ec67428d42d267fe97bf"
   },
   "outputs": [],
   "source": [
    "summary(application_train$DAYS_LAST_PHONE_CHANGE)\n",
    "# Check for outliers - Univariate approach\n",
    "boxplot(application_train$DAYS_LAST_PHONE_CHANGE, main=\"DAYS_LAST_PHONE_CHANGE\", boxwex=0.1)\n",
    "#boxplot.stats(application_train$DAYS_LAST_PHONE_CHANGE)$out"
   ]
  },
  {
   "cell_type": "code",
   "execution_count": null,
   "metadata": {
    "_uuid": "2f165ed1762456296de5cdb54596fb6de2811c57"
   },
   "outputs": [],
   "source": [
    "#---> treat outliers: capping\n",
    "# For missing values that lie outside the 1.5 * IQR limits, \n",
    "# we can cap it by replacing those observations outside the lower limit \n",
    "# with the value of 5th percentile and those that lie above the upper limit, \n",
    "# with the value of 95th percentile\n",
    "x <- application_train$DAYS_LAST_PHONE_CHANGE\n",
    "qnt <- quantile(x, probs=c(.25, .75), na.rm = T)\n",
    "caps <- quantile(x, probs=c(.01, .99), na.rm = T) #change the threshold\n",
    "H <- 1.5 * IQR(x, na.rm = T)\n",
    "print(qnt)\n",
    "print(caps)\n",
    "print(H)\n",
    "application_train$DAYS_LAST_PHONE_CHANGE[application_train$DAYS_LAST_PHONE_CHANGE < (qnt[1] - H)] <- caps[1]\n",
    "application_train$DAYS_LAST_PHONE_CHANGE[application_train$DAYS_LAST_PHONE_CHANGE > (qnt[2] + H)] <- caps[2]"
   ]
  },
  {
   "cell_type": "code",
   "execution_count": null,
   "metadata": {
    "_uuid": "67eda85dc2c1d2b5bc215acab6c0a728f5dd500f"
   },
   "outputs": [],
   "source": [
    "summary(application_train$AMT_REQ_CREDIT_BUREAU_HOUR)\n",
    "# Check for outliers - Univariate approach\n",
    "boxplot(application_train$AMT_REQ_CREDIT_BUREAU_HOUR, main=\"AMT_REQ_CREDIT_BUREAU_HOUR\", boxwex=0.1)\n",
    "#boxplot.stats(application_train$AMT_REQ_CREDIT_BUREAU_HOUR)$out"
   ]
  },
  {
   "cell_type": "code",
   "execution_count": null,
   "metadata": {
    "_uuid": "4a526ee786cb709ad3902abfe82482f39176060a"
   },
   "outputs": [],
   "source": [
    "#---> treat outliers: capping\n",
    "# For missing values that lie outside the 1.5 * IQR limits, \n",
    "# we can cap it by replacing those observations outside the lower limit \n",
    "# with the value of 5th percentile and those that lie above the upper limit, \n",
    "# with the value of 95th percentile\n",
    "x <- application_train$AMT_REQ_CREDIT_BUREAU_HOUR\n",
    "qnt <- quantile(x, probs=c(.25, .75), na.rm = T)\n",
    "caps <- quantile(x, probs=c(.01, .99), na.rm = T) #change the threshold\n",
    "H <- 1.5 * IQR(x, na.rm = T)\n",
    "print(qnt)\n",
    "print(caps)\n",
    "print(H)\n",
    "application_train$AMT_REQ_CREDIT_BUREAU_HOUR[application_train$AMT_REQ_CREDIT_BUREAU_HOUR < (qnt[1] - H)] <- caps[1]\n",
    "application_train$AMT_REQ_CREDIT_BUREAU_HOUR[application_train$AMT_REQ_CREDIT_BUREAU_HOUR > (qnt[2] + H)] <- caps[2]"
   ]
  },
  {
   "cell_type": "code",
   "execution_count": null,
   "metadata": {
    "_uuid": "bbc1b2f9f255968e064dde384cba983134318879"
   },
   "outputs": [],
   "source": [
    "summary(application_train$AMT_REQ_CREDIT_BUREAU_DAY)\n",
    "# Check for outliers - Univariate approach\n",
    "boxplot(application_train$AMT_REQ_CREDIT_BUREAU_DAY, main=\"AMT_REQ_CREDIT_BUREAU_DAY\", boxwex=0.1)\n",
    "#boxplot.stats(application_train$AMT_REQ_CREDIT_BUREAU_DAY)$out"
   ]
  },
  {
   "cell_type": "code",
   "execution_count": null,
   "metadata": {
    "_uuid": "16a3ce0314f65357c97671d1de4c3a8e90953571"
   },
   "outputs": [],
   "source": [
    "#---> treat outliers: capping\n",
    "# For missing values that lie outside the 1.5 * IQR limits, \n",
    "# we can cap it by replacing those observations outside the lower limit \n",
    "# with the value of 5th percentile and those that lie above the upper limit, \n",
    "# with the value of 95th percentile\n",
    "x <- application_train$AMT_REQ_CREDIT_BUREAU_DAY\n",
    "qnt <- quantile(x, probs=c(.25, .75), na.rm = T)\n",
    "caps <- quantile(x, probs=c(.01, .99), na.rm = T) #change the threshold\n",
    "H <- 1.5 * IQR(x, na.rm = T)\n",
    "print(qnt)\n",
    "print(caps)\n",
    "print(H)\n",
    "application_train$AMT_REQ_CREDIT_BUREAU_DAY[application_train$AMT_REQ_CREDIT_BUREAU_DAY < (qnt[1] - H)] <- caps[1]\n",
    "application_train$AMT_REQ_CREDIT_BUREAU_DAY[application_train$AMT_REQ_CREDIT_BUREAU_DAY > (qnt[2] + H)] <- caps[2]"
   ]
  },
  {
   "cell_type": "code",
   "execution_count": null,
   "metadata": {
    "_uuid": "67517b1a7414a93562a23a66414d19ed69bcf7ae"
   },
   "outputs": [],
   "source": [
    "summary(application_train$AMT_REQ_CREDIT_BUREAU_WEEK)\n",
    "# Check for outliers - Univariate approach\n",
    "boxplot(application_train$AMT_REQ_CREDIT_BUREAU_WEEK, main=\"AMT_REQ_CREDIT_BUREAU_WEEK\", boxwex=0.1)\n",
    "#boxplot.stats(application_train$AMT_REQ_CREDIT_BUREAU_WEEK)$out"
   ]
  },
  {
   "cell_type": "code",
   "execution_count": null,
   "metadata": {
    "_uuid": "321dd8eb08811daf369911265ab341d331bdca59"
   },
   "outputs": [],
   "source": [
    "#---> treat outliers: capping\n",
    "# For missing values that lie outside the 1.5 * IQR limits, \n",
    "# we can cap it by replacing those observations outside the lower limit \n",
    "# with the value of 5th percentile and those that lie above the upper limit, \n",
    "# with the value of 95th percentile\n",
    "x <- application_train$AMT_REQ_CREDIT_BUREAU_WEEK\n",
    "qnt <- quantile(x, probs=c(.25, .75), na.rm = T)\n",
    "caps <- quantile(x, probs=c(.01, .99), na.rm = T) #change the threshold\n",
    "H <- 1.5 * IQR(x, na.rm = T)\n",
    "print(qnt)\n",
    "print(caps)\n",
    "print(H)\n",
    "application_train$AMT_REQ_CREDIT_BUREAU_WEEK[application_train$AMT_REQ_CREDIT_BUREAU_WEEK < (qnt[1] - H)] <- caps[1]\n",
    "application_train$AMT_REQ_CREDIT_BUREAU_WEEK[application_train$AMT_REQ_CREDIT_BUREAU_WEEK > (qnt[2] + H)] <- caps[2]"
   ]
  },
  {
   "cell_type": "code",
   "execution_count": null,
   "metadata": {
    "_uuid": "5ab85a10205708157c6c623b2df26323a1db8f4c"
   },
   "outputs": [],
   "source": [
    "summary(application_train$AMT_REQ_CREDIT_BUREAU_MON)\n",
    "# Check for outliers - Univariate approach\n",
    "boxplot(application_train$AMT_REQ_CREDIT_BUREAU_MON, main=\"AMT_REQ_CREDIT_BUREAU_MON\", boxwex=0.1)\n",
    "#boxplot.stats(application_train$AMT_REQ_CREDIT_BUREAU_MON)$out"
   ]
  },
  {
   "cell_type": "code",
   "execution_count": null,
   "metadata": {
    "_uuid": "b7cfe20a7496894be84256a9b3bdf37ca5418184"
   },
   "outputs": [],
   "source": [
    "#---> treat outliers: capping\n",
    "# For missing values that lie outside the 1.5 * IQR limits, \n",
    "# we can cap it by replacing those observations outside the lower limit \n",
    "# with the value of 5th percentile and those that lie above the upper limit, \n",
    "# with the value of 95th percentile\n",
    "x <- application_train$AMT_REQ_CREDIT_BUREAU_MON\n",
    "qnt <- quantile(x, probs=c(.25, .75), na.rm = T)\n",
    "caps <- quantile(x, probs=c(.01, .99), na.rm = T) #change the threshold\n",
    "H <- 1.5 * IQR(x, na.rm = T)\n",
    "print(qnt)\n",
    "print(caps)\n",
    "print(H)\n",
    "application_train$AMT_REQ_CREDIT_BUREAU_MON[application_train$AMT_REQ_CREDIT_BUREAU_MON < (qnt[1] - H)] <- caps[1]\n",
    "application_train$AMT_REQ_CREDIT_BUREAU_MON[application_train$AMT_REQ_CREDIT_BUREAU_MON > (qnt[2] + H)] <- caps[2]"
   ]
  },
  {
   "cell_type": "code",
   "execution_count": null,
   "metadata": {
    "_uuid": "4f2c39c324697a042c124a6632dd523915bd918b"
   },
   "outputs": [],
   "source": [
    "summary(application_train$AMT_REQ_CREDIT_BUREAU_QRT)\n",
    "# Check for outliers - Univariate approach\n",
    "boxplot(application_train$AMT_REQ_CREDIT_BUREAU_QRT, main=\"AMT_REQ_CREDIT_BUREAU_QRT\", boxwex=0.1)\n",
    "#boxplot.stats(application_train$AMT_REQ_CREDIT_BUREAU_QRT)$out"
   ]
  },
  {
   "cell_type": "code",
   "execution_count": null,
   "metadata": {
    "_uuid": "c30263bd73f08cd9c180bd6c457b895fde15c674"
   },
   "outputs": [],
   "source": [
    "#---> treat outliers: capping\n",
    "# For missing values that lie outside the 1.5 * IQR limits, \n",
    "# we can cap it by replacing those observations outside the lower limit \n",
    "# with the value of 5th percentile and those that lie above the upper limit, \n",
    "# with the value of 95th percentile\n",
    "x <- application_train$AMT_REQ_CREDIT_BUREAU_QRT\n",
    "qnt <- quantile(x, probs=c(.25, .75), na.rm = T)\n",
    "caps <- quantile(x, probs=c(.01, .99), na.rm = T) #change the threshold\n",
    "H <- 1.5 * IQR(x, na.rm = T)\n",
    "print(qnt)\n",
    "print(caps)\n",
    "print(H)\n",
    "application_train$AMT_REQ_CREDIT_BUREAU_QRT[application_train$AMT_REQ_CREDIT_BUREAU_QRT < (qnt[1] - H)] <- caps[1]\n",
    "application_train$AMT_REQ_CREDIT_BUREAU_QRT[application_train$AMT_REQ_CREDIT_BUREAU_QRT > (qnt[2] + H)] <- caps[2]"
   ]
  },
  {
   "cell_type": "code",
   "execution_count": null,
   "metadata": {
    "_uuid": "47c519af436d15ca66a08029ada1a8b3b01b49b3"
   },
   "outputs": [],
   "source": [
    "summary(application_train$AMT_REQ_CREDIT_BUREAU_YEAR)\n",
    "# Check for outliers - Univariate approach\n",
    "boxplot(application_train$AMT_REQ_CREDIT_BUREAU_YEAR, main=\"AMT_REQ_CREDIT_BUREAU_YEAR\", boxwex=0.1)\n",
    "#boxplot.stats(application_train$AMT_REQ_CREDIT_BUREAU_YEAR)$out"
   ]
  },
  {
   "cell_type": "code",
   "execution_count": null,
   "metadata": {
    "_uuid": "1be1cfe35f83abdab538c6f726accca622d2396c"
   },
   "outputs": [],
   "source": [
    "#---> treat outliers: capping\n",
    "# For missing values that lie outside the 1.5 * IQR limits, \n",
    "# we can cap it by replacing those observations outside the lower limit \n",
    "# with the value of 5th percentile and those that lie above the upper limit, \n",
    "# with the value of 95th percentile\n",
    "x <- application_train$AMT_REQ_CREDIT_BUREAU_YEAR\n",
    "qnt <- quantile(x, probs=c(.25, .75), na.rm = T)\n",
    "caps <- quantile(x, probs=c(.01, .99), na.rm = T) #change the threshold\n",
    "H <- 1.5 * IQR(x, na.rm = T)\n",
    "print(qnt)\n",
    "print(caps)\n",
    "print(H)\n",
    "application_train$AMT_REQ_CREDIT_BUREAU_YEAR[application_train$AMT_REQ_CREDIT_BUREAU_YEAR < (qnt[1] - H)] <- caps[1]\n",
    "application_train$AMT_REQ_CREDIT_BUREAU_YEAR[application_train$AMT_REQ_CREDIT_BUREAU_YEAR > (qnt[2] + H)] <- caps[2]"
   ]
  },
  {
   "cell_type": "markdown",
   "metadata": {
    "_uuid": "442a7d526faaca347458b3aa727dedba90f10e5b"
   },
   "source": [
    "**Next Up:** Check for invalid levels/categories"
   ]
  },
  {
   "cell_type": "code",
   "execution_count": null,
   "metadata": {
    "_uuid": "2ebe28ac13232ca2c19a17c7635c49e4ad286e3f"
   },
   "outputs": [],
   "source": [
    "# Check categorical levels for any invalid values\n",
    "levels(application_train$CODE_GENDER) \n",
    "# XNA is invalid --> NA\n",
    "application_train$CODE_GENDER[application_train$CODE_GENDER == 'XNA'] <- NA\n",
    "application_train$CODE_GENDER<-factor(application_train$CODE_GENDER)"
   ]
  },
  {
   "cell_type": "code",
   "execution_count": null,
   "metadata": {
    "_uuid": "e6701c7ec7f1e3ac999ceb31df05386b0ecc1aa4"
   },
   "outputs": [],
   "source": [
    "# Check categorical levels for any invalid values\n",
    "levels(application_train$NAME_TYPE_SUITE)\n",
    "# '' is invalid --> NA\n",
    "application_train$NAME_TYPE_SUITE[application_train$NAME_TYPE_SUITE == ''] <- NA\n",
    "application_train$NAME_TYPE_SUITE<-factor(application_train$NAME_TYPE_SUITE)"
   ]
  },
  {
   "cell_type": "code",
   "execution_count": null,
   "metadata": {
    "_uuid": "be760f2cfae344b47a3b1c69d443d4988c92aa19"
   },
   "outputs": [],
   "source": [
    "# Check categorical levels for any invalid values\n",
    "levels(application_train$OCCUPATION_TYPE)\n",
    "# '' is invalid --> NA\n",
    "application_train$OCCUPATION_TYPE[application_train$OCCUPATION_TYPE == ''] <- NA\n",
    "application_train$OCCUPATION_TYPE<-factor(application_train$OCCUPATION_TYPE)"
   ]
  },
  {
   "cell_type": "code",
   "execution_count": null,
   "metadata": {
    "_uuid": "4a430e247cf036b64e8d149921bf89824d383055"
   },
   "outputs": [],
   "source": [
    "# Check categorical levels for any invalid values\n",
    "levels(application_train$ORGANIZATION_TYPE)\n",
    "# XNA is invalid --> NA\n",
    "application_train$ORGANIZATION_TYPE[application_train$ORGANIZATION_TYPE == 'XNA'] <- NA\n",
    "application_train$ORGANIZATION_TYPE<-factor(application_train$ORGANIZATION_TYPE)"
   ]
  },
  {
   "cell_type": "code",
   "execution_count": null,
   "metadata": {
    "_uuid": "495fb4e6b36cc70ccb6deed7333d3f100f7d11bc"
   },
   "outputs": [],
   "source": [
    "# Check categorical levels for any invalid values\n",
    "levels(application_train$FONDKAPREMONT_MODE)\n",
    "# '' is invalid --> NA\n",
    "application_train$FONDKAPREMONT_MODE[application_train$FONDKAPREMONT_MODE == ''] <- NA\n",
    "application_train$FONDKAPREMONT_MODE<-factor(application_train$FONDKAPREMONT_MODE)"
   ]
  },
  {
   "cell_type": "code",
   "execution_count": null,
   "metadata": {
    "_uuid": "bb797aa5cbaaeb9a6e4152418545aa74a52993b3"
   },
   "outputs": [],
   "source": [
    "# Check categorical levels for any invalid values\n",
    "levels(application_train$HOUSETYPE_MODE)\n",
    "# '' is invalid --> NA\n",
    "application_train$HOUSETYPE_MODE[application_train$HOUSETYPE_MODE == ''] <- NA\n",
    "application_train$HOUSETYPE_MODE<-factor(application_train$HOUSETYPE_MODE)"
   ]
  },
  {
   "cell_type": "code",
   "execution_count": null,
   "metadata": {
    "_uuid": "9102b42564455de17288f09a00074fb27dce833d"
   },
   "outputs": [],
   "source": [
    "# Check categorical levels for any invalid values\n",
    "levels(application_train$WALLSMATERIAL_MODE)\n",
    "# '' is invalid --> NA\n",
    "application_train$WALLSMATERIAL_MODE[application_train$WALLSMATERIAL_MODE == ''] <- NA\n",
    "application_train$WALLSMATERIAL_MODE<-factor(application_train$WALLSMATERIAL_MODE)"
   ]
  },
  {
   "cell_type": "code",
   "execution_count": null,
   "metadata": {
    "_uuid": "1040325e60d7541dad8f5834b254f7b6a88b0b3b"
   },
   "outputs": [],
   "source": [
    "# Check categorical levels for any invalid values\n",
    "levels(application_train$EMERGENCYSTATE_MODE)\n",
    "# '' is invalid --> NA\n",
    "application_train$EMERGENCYSTATE_MODE[application_train$EMERGENCYSTATE_MODE == ''] <- NA\n",
    "application_train$EMERGENCYSTATE_MODE<-factor(application_train$EMERGENCYSTATE_MODE)"
   ]
  },
  {
   "cell_type": "markdown",
   "metadata": {
    "_uuid": "1b2d7ab05823868d341c692a7a7ae1cd46df5e1a"
   },
   "source": [
    "**Next Up:** Reducing Categories"
   ]
  },
  {
   "cell_type": "code",
   "execution_count": null,
   "metadata": {
    "_uuid": "1473a615ab85a8135ba470fcd58093f0515219b0"
   },
   "outputs": [],
   "source": [
    "# Check categorical levels for too many levels\n",
    "levels(application_train$OCCUPATION_TYPE)"
   ]
  },
  {
   "cell_type": "code",
   "execution_count": null,
   "metadata": {
    "_uuid": "a4e5e862d41ca0ed59154a109e2976c3ddc8dfa2"
   },
   "outputs": [],
   "source": [
    "# review their distributions\n",
    "table(application_train$OCCUPATION_TYPE)"
   ]
  },
  {
   "cell_type": "markdown",
   "metadata": {
    "_uuid": "ceb768110b4e74d5c41d61dca4dc2e3a328f40df"
   },
   "source": [
    "1. Laborers, Low-skill Laborers can be grouped together as Labourers\n",
    "2. Accountants, High skill tech staff, HR staff, IT staff, Managers, Secretaries can be grouped together as Corporate Staff\n",
    "3. Core staff, Cleaning staff, Cooking staff, Security staff, Waiters/barmen staff, Medicine staff can be grouped together as Core staff\n"
   ]
  },
  {
   "cell_type": "code",
   "execution_count": null,
   "metadata": {
    "_uuid": "0895b41815ed66bed9dae011bac3aeb6113de406"
   },
   "outputs": [],
   "source": [
    "levels(application_train$OCCUPATION_TYPE)[c(9,10)] <- \"Labourers\"\n",
    "levels(application_train$OCCUPATION_TYPE)[c(1,6,7,8,10,15)] <- \"Corporate staff\"\n",
    "levels(application_train$OCCUPATION_TYPE)[c(2,3,4,7,11,12)] <- \"Core staff\"\n",
    "levels(application_train$OCCUPATION_TYPE)\n",
    "application_train$OCCUPATION_TYPE<-factor(application_train$OCCUPATION_TYPE)"
   ]
  },
  {
   "cell_type": "code",
   "execution_count": null,
   "metadata": {
    "_uuid": "b54f2fa3f9644a71cc8ff09051359b61665abb8e"
   },
   "outputs": [],
   "source": [
    "# Check categorical levels for too many levels\n",
    "levels(application_train$ORGANIZATION_TYPE)"
   ]
  },
  {
   "cell_type": "code",
   "execution_count": null,
   "metadata": {
    "_uuid": "9e3834aaf174d08b8334b95a8beb41df09bac0eb"
   },
   "outputs": [],
   "source": [
    "# review their distributions\n",
    "table(application_train$ORGANIZATION_TYPE)"
   ]
  },
  {
   "cell_type": "markdown",
   "metadata": {
    "_uuid": "a895f1c26ec0c86e81597480a0850dddf53e9576"
   },
   "source": [
    "1.  The different \"type\" categories of Transport, Trade, Industry can be grouped as one respectively\n",
    "2.  Kindergarten, School, University can be grouped together as Education\n",
    "3. Hotel, Restaurant can be grouped together as Hospitality\n",
    "4. Security Ministries, Postal, Police, Military, Government can be grouped together as Government\n",
    "5. Construction, Housing, Realtor can be grouped together as Real Estate\n",
    "6. Advertising, Bank, Cleaning, Electricity, Emergency, Insurance, Legal Services, Medicine, Security can be grouped together as Services\n",
    "7. Culture, Religion, Other can be grouped together as Other\n",
    "8. Mobile, Telecom can be grouped together as Mobile & Telecom"
   ]
  },
  {
   "cell_type": "code",
   "execution_count": null,
   "metadata": {
    "_uuid": "36a1ca54f70e698632ee7572e71aeb112a1cb5d9"
   },
   "outputs": [],
   "source": [
    "levels(application_train$ORGANIZATION_TYPE)[c(15:27)] <- \"Industrial\"\n",
    "levels(application_train$ORGANIZATION_TYPE)[c(34:40)] <- \"Trading\"\n",
    "levels(application_train$ORGANIZATION_TYPE)[c(35:38)] <- \"Transport\"\n",
    "levels(application_train$ORGANIZATION_TYPE)[c(17,28,36)] <- \"Education\"\n",
    "levels(application_train$ORGANIZATION_TYPE)[c(13,27)] <- \"Hospitality\"\n",
    "levels(application_train$ORGANIZATION_TYPE)[c(12,20,23,24,28)] <- \"Government\"\n",
    "levels(application_train$ORGANIZATION_TYPE)[c(8,14,22)] <- \"Real Estate\"\n",
    "levels(application_train$ORGANIZATION_TYPE)[c(1,3,7,10,11,15,17,18,22)] <- \"Services\"\n",
    "levels(application_train$ORGANIZATION_TYPE)[c(7,13,14)] <- \"Other\"\n",
    "levels(application_train$ORGANIZATION_TYPE)[c(12,14)] <- \"Mobile & Telecom\"\n",
    "levels(application_train$ORGANIZATION_TYPE)\n",
    "application_train$ORGANIZATION_TYPE<-factor(application_train$ORGANIZATION_TYPE)"
   ]
  },
  {
   "cell_type": "markdown",
   "metadata": {
    "_uuid": "695e1ccc09653314ea1fc9d625ea5e7d740e38fc"
   },
   "source": [
    "**Next Up:** Missing Value treatment"
   ]
  },
  {
   "cell_type": "code",
   "execution_count": null,
   "metadata": {
    "_uuid": "8efcad7592720aadea938e41076acd11a3ac9b3a"
   },
   "outputs": [],
   "source": [
    "### Check for null or missing values\n",
    "cbind(sort(colSums(is.na(application_train)),decreasing=TRUE))"
   ]
  },
  {
   "cell_type": "code",
   "execution_count": null,
   "metadata": {
    "_uuid": "ea935cc516fa267b6fe9ae2e9a6a1da5004868e7"
   },
   "outputs": [],
   "source": [
    "### Check for null or missing values percentage\n",
    "sort(sapply(application_train, function(x) sum(is.na(x))/length(x))*100,decreasing=TRUE)"
   ]
  },
  {
   "cell_type": "markdown",
   "metadata": {
    "_uuid": "33a860c77afccbc111efa83b3517ff4ce6e807a3"
   },
   "source": [
    "**Caution:** We cannot afford to delete observations as we have an imbalanced dataset and in doing so we might lose out on minority class representation.\n",
    "\n",
    "* We can see that there are many features with very high missing percentage. Further looking into the definition of these features, we realize most of them are basically the normalized information about the building where the client lives. Also, it maybe noted that these features could very well be MNAR (missing not at random) as probably the data gathering process, about the buildings the customers reside in, could either be incomplete or infeasible. Hence, we can drop these features and not attempt a meaningless imputation.\n",
    "* EXT_SOURCE_1 is an important normalized score, hence we will not drop it even though it has got a very high missing %. Same is the case for OCCUPATION_TYPE, EXT_SOURCE_3, ORGANIZATION_TYPE and other such features. We will apply appropriate imputations for these.\n",
    "* OBS_30_CNT_SOCIAL_CIRCLE, DEF_30_CNT_SOCIAL_CIRCLE, OBS_60_CNT_SOCIAL_CIRCLE, DEF_60_CNT_SOCIAL_CIRCLE could most likely be MNAR and hence, we will replace the NAs with 0 assuming they mean there has been no reported observations of delinquency\n",
    "* DAYS_LAST_PHONE_CHANGE could be either MAR (missing at random) or MNAR. We will replace the NAs with min assuming the phone was not changed recently\n",
    "* CODE_GENDER could be MNAR and the client don't identify themselves as Male of Female. We will mark them as 'X' (not specified/third gender)\n",
    "* AMT_REQ_CREDIT_BUREAU_{x} could be MNAR implying no bureau enquiries for the customer in the past year. We will replace NAs with 0\n",
    "* DAYS_EMPLOYED has 18% missing values and this is MNAR as the customer could be Unemployed or a Pensioner. We can confirm the same by checking the dataset. If the person is employed at the time of the application, DAYS_EMPLOYED is a negative value. So, a positive value will indicate that the person is not employed at the moment of the application. Hence, we will mark the NAs with positive(min(DAYS_EMPLOYED))\n",
    "* Remaining missing value feature can be assumed as MCAR (missing completely at random) or MAR. We will impute them with median and mode"
   ]
  },
  {
   "cell_type": "code",
   "execution_count": null,
   "metadata": {
    "_uuid": "17dac718871d7e063b2b85d437b4970d17530692"
   },
   "outputs": [],
   "source": [
    "library(dplyr)\n",
    "application_train = select(application_train, -COMMONAREA_AVG, \n",
    "                           -COMMONAREA_MODE, -COMMONAREA_MEDI, \n",
    "                           -NONLIVINGAPARTMENTS_AVG, -NONLIVINGAPARTMENTS_MODE,\n",
    "                          -NONLIVINGAPARTMENTS_MEDI, -FONDKAPREMONT_MODE,\n",
    "                          -LIVINGAPARTMENTS_AVG, -LIVINGAPARTMENTS_MODE,\n",
    "                          -LIVINGAPARTMENTS_MEDI, -FLOORSMIN_AVG,\n",
    "                          -FLOORSMIN_MODE, -FLOORSMIN_MEDI, -YEARS_BUILD_AVG,\n",
    "                          -YEARS_BUILD_MODE, -YEARS_BUILD_MEDI, -OWN_CAR_AGE,\n",
    "                          -LANDAREA_AVG, -LANDAREA_MODE, -LANDAREA_MEDI,\n",
    "                          -BASEMENTAREA_AVG, -BASEMENTAREA_MODE, -BASEMENTAREA_MEDI,\n",
    "                          -NONLIVINGAREA_AVG, -NONLIVINGAREA_MODE, -NONLIVINGAREA_MEDI,\n",
    "                          -ELEVATORS_AVG, -ELEVATORS_MODE, -ELEVATORS_MEDI,\n",
    "                          -WALLSMATERIAL_MODE, -APARTMENTS_AVG, -APARTMENTS_MODE,\n",
    "                          -APARTMENTS_MEDI, -ENTRANCES_AVG, -ENTRANCES_MODE,\n",
    "                          -ENTRANCES_MEDI, -LIVINGAREA_AVG, -LIVINGAREA_MODE,\n",
    "                          -LIVINGAREA_MEDI, -HOUSETYPE_MODE, -FLOORSMAX_AVG,\n",
    "                          -FLOORSMAX_MODE, -FLOORSMAX_MEDI, -YEARS_BEGINEXPLUATATION_AVG,\n",
    "                          -YEARS_BEGINEXPLUATATION_MODE, -YEARS_BEGINEXPLUATATION_MEDI,\n",
    "                          -TOTALAREA_MODE, -EMERGENCYSTATE_MODE)\n",
    "dim(application_train)"
   ]
  },
  {
   "cell_type": "code",
   "execution_count": null,
   "metadata": {
    "_uuid": "08cf6bf237b393a3b06958fa67f7b4852460a1ed"
   },
   "outputs": [],
   "source": [
    "#Treat OBS_30_CNT_SOCIAL_CIRCLE, DEF_30_CNT_SOCIAL_CIRCLE, OBS_60_CNT_SOCIAL_CIRCLE, \n",
    "#DEF_60_CNT_SOCIAL_CIRCLE\n",
    "library(Hmisc)\n",
    "application_train$OBS_30_CNT_SOCIAL_CIRCLE <- impute(application_train$OBS_30_CNT_SOCIAL_CIRCLE, 0)\n",
    "application_train$DEF_30_CNT_SOCIAL_CIRCLE <- impute(application_train$DEF_30_CNT_SOCIAL_CIRCLE, 0)\n",
    "application_train$OBS_60_CNT_SOCIAL_CIRCLE <- impute(application_train$OBS_60_CNT_SOCIAL_CIRCLE, 0)\n",
    "application_train$DEF_60_CNT_SOCIAL_CIRCLE <- impute(application_train$DEF_60_CNT_SOCIAL_CIRCLE, 0)\n",
    "\n",
    "# Treat DAYS_LAST_PHONE_CHANGE\n",
    "application_train$DAYS_LAST_PHONE_CHANGE <- impute(application_train$DAYS_LAST_PHONE_CHANGE, min)\n",
    "\n",
    "# Treat CODE_GENDER\n",
    "application_train$CODE_GENDER <- impute(application_train$CODE_GENDER, 'X')\n",
    "application_train$CODE_GENDER<-factor(application_train$CODE_GENDER)\n",
    "\n",
    "# Treat AMT_REQ_CREDIT_BUREAU_HOUR, AMT_REQ_CREDIT_BUREAU_DAY, AMT_REQ_CREDIT_BUREAU_WEEK\n",
    "# AMT_REQ_CREDIT_BUREAU_MON, AMT_REQ_CREDIT_BUREAU_QRT, AMT_REQ_CREDIT_BUREAU_YEAR\n",
    "application_train$AMT_REQ_CREDIT_BUREAU_HOUR <- impute(application_train$AMT_REQ_CREDIT_BUREAU_HOUR, 0)\n",
    "application_train$AMT_REQ_CREDIT_BUREAU_DAY <- impute(application_train$AMT_REQ_CREDIT_BUREAU_DAY, 0)\n",
    "application_train$AMT_REQ_CREDIT_BUREAU_WEEK <- impute(application_train$AMT_REQ_CREDIT_BUREAU_WEEK, 0)\n",
    "application_train$AMT_REQ_CREDIT_BUREAU_MON <- impute(application_train$AMT_REQ_CREDIT_BUREAU_MON, 0)\n",
    "application_train$AMT_REQ_CREDIT_BUREAU_QRT <- impute(application_train$AMT_REQ_CREDIT_BUREAU_QRT, 0)\n",
    "application_train$AMT_REQ_CREDIT_BUREAU_YEAR <- impute(application_train$AMT_REQ_CREDIT_BUREAU_YEAR, 0)\n",
    "\n",
    "# Treat DAYS_EMPLOYED\n",
    "application_train$DAYS_EMPLOYED <- impute(application_train$DAYS_EMPLOYED, 11338)\n",
    "\n",
    "# Treat EXT_SOURCE_1\n",
    "application_train$EXT_SOURCE_1 <- impute(application_train$EXT_SOURCE_1, median)\n",
    "\n",
    "# Treat OCCUPATION_TYPE\n",
    "application_train$OCCUPATION_TYPE <- impute(application_train$OCCUPATION_TYPE, mode)\n",
    "\n",
    "# Treat EXT_SOURCE_3\n",
    "application_train$EXT_SOURCE_3 <- impute(application_train$EXT_SOURCE_3, median)\n",
    "\n",
    "# Treat ORGANIZATION_TYPE\n",
    "application_train$ORGANIZATION_TYPE <- impute(application_train$ORGANIZATION_TYPE, mode)\n",
    "\n",
    "# Treat NAME_TYPE_SUITE\n",
    "application_train$NAME_TYPE_SUITE <- impute(application_train$NAME_TYPE_SUITE, mode)\n",
    "\n",
    "# Treat EXT_SOURCE_2\n",
    "application_train$EXT_SOURCE_2 <- impute(application_train$EXT_SOURCE_2, median)\n",
    "\n",
    "# Treat AMT_GOODS_PRICE\n",
    "application_train$AMT_GOODS_PRICE <- impute(application_train$AMT_GOODS_PRICE, median)\n",
    "\n",
    "# Treat AMT_ANNUITY\n",
    "application_train$AMT_ANNUITY <- impute(application_train$AMT_ANNUITY, median)\n",
    "\n",
    "# Treat CNT_FAM_MEMBERS\n",
    "application_train$CNT_FAM_MEMBERS <- impute(application_train$CNT_FAM_MEMBERS, median)\n"
   ]
  },
  {
   "cell_type": "code",
   "execution_count": null,
   "metadata": {
    "_uuid": "b4c63e9268af259b58e2b0e3c2b732f496d142e1"
   },
   "outputs": [],
   "source": [
    "table(is.na(application_train))"
   ]
  },
  {
   "cell_type": "markdown",
   "metadata": {
    "_uuid": "1379d444d03bac0c28194dc15191035c796e251a"
   },
   "source": [
    "Missing values treatment is done."
   ]
  },
  {
   "cell_type": "markdown",
   "metadata": {
    "_uuid": "1524e1cf185a19edfb617c1cee112840b4ee644d"
   },
   "source": [
    "**Next Up:**  Data Transformation: Standardization (Scaling/Normalization - min/max or Z-score):\n",
    "Feature scaling is not needed at this point of time as it will be neede for certain algorithms/models but not for all. For example, we will apply scaling when doing say PCA but most of the predictive modeling algorithms are already equipped to handle this or is immune, e.g. tree based models are immune and LDA can handle varying ranges."
   ]
  },
  {
   "cell_type": "markdown",
   "metadata": {
    "_uuid": "9a83d7e8b64461d52900a3b3ec6972b794f329af"
   },
   "source": [
    "**Next Up:**  Data Transformation: Handling skewness (Log transformations) - we will use this later to improve upon the baseline models."
   ]
  },
  {
   "cell_type": "code",
   "execution_count": null,
   "metadata": {
    "_uuid": "834c2bc20b372d6db9075c528e482deb5432e785"
   },
   "outputs": [],
   "source": [
    "# --- write to csv the new application train data\n",
    "write.csv(application_train, \"application_train_clean.csv\",row.names = FALSE)"
   ]
  }
 ],
 "metadata": {
  "kernelspec": {
   "display_name": "R",
   "language": "R",
   "name": "ir"
  },
  "language_info": {
   "codemirror_mode": "r",
   "file_extension": ".r",
   "mimetype": "text/x-r-source",
   "name": "R",
   "pygments_lexer": "r",
   "version": "3.5.1"
  }
 },
 "nbformat": 4,
 "nbformat_minor": 1
}
