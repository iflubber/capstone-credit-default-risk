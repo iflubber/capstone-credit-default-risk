{
  "cells": [
    {
      "metadata": {
        "_uuid": "35820a03824377fe66212169760865a68b187773",
        "_execution_state": "idle",
        "trusted": true
      },
      "cell_type": "code",
      "source": "## Importing packages\n\n# This R environment comes with all of CRAN and many other helpful packages preinstalled.\n# You can see which packages are installed by checking out the kaggle/rstats docker image: \n# https://github.com/kaggle/docker-rstats\n\nlibrary(tidyverse) # metapackage with lots of helpful functions\n\n## Running code\n\n# In a notebook, you can run a single code cell by clicking in the cell and then hitting \n# the blue arrow to the left, or by clicking in the cell and pressing Shift+Enter. In a script, \n# you can run code by highlighting the code you want to run and then clicking the blue arrow\n# at the bottom of this window.\n\n## Reading in files\n\n# You can access files from datasets you've added to this kernel in the \"../input/\" directory.\n# You can see the files added to this kernel by running the code below. \n\nlist.files(path = \"../input\")\n\n## Saving data\n\n# If you save any files or images, these will be put in the \"output\" directory. You \n# can see the output directory by committing and running your kernel (using the \n# Commit & Run button) and then checking out the compiled version of your kernel.",
      "execution_count": null,
      "outputs": []
    },
    {
      "metadata": {
        "trusted": true,
        "_uuid": "0205ff460d8245f2ee0c6ab25e6359667db17734"
      },
      "cell_type": "code",
      "source": "application_train <- read.csv('../input/application_train_clean_SMOTEd.csv',1)\ndim(application_train)",
      "execution_count": null,
      "outputs": []
    },
    {
      "metadata": {
        "trusted": true,
        "_uuid": "e7a6affae142629df7284bcfa6c96ebdd6516a81"
      },
      "cell_type": "code",
      "source": "str(application_train)",
      "execution_count": null,
      "outputs": []
    },
    {
      "metadata": {
        "trusted": true,
        "_uuid": "e70b2f8d304e107cf772070c9c60971147f33cd9"
      },
      "cell_type": "code",
      "source": "names(application_train)",
      "execution_count": null,
      "outputs": []
    },
    {
      "metadata": {
        "trusted": true,
        "_uuid": "84d7fc5839b622f7cd8cb3d694d110547d62a2aa"
      },
      "cell_type": "code",
      "source": "# convert categorical attributes to factor type\ndata_cat <- application_train[,c(1:49)]\ndata_num <- application_train[,-c(1:49)]\ndata_cat <- data.frame(apply(data_cat, 2,function(x){as.factor(x)}))\ndata_num <- data.frame(apply(data_num, 2,function(x){as.numeric(x)}))\napplication_train <- cbind(data_cat,data_num)\nstr(application_train)",
      "execution_count": null,
      "outputs": []
    },
    {
      "metadata": {
        "trusted": true,
        "_uuid": "0694537341f051a0115afff00db0f1e5cf5b02c4"
      },
      "cell_type": "code",
      "source": "application_train <- application_train[,-c(12)] # FLAG_MOBIL has got just 1 level",
      "execution_count": null,
      "outputs": []
    },
    {
      "metadata": {
        "trusted": true,
        "_uuid": "318e8842e259ac8db16fe23c2dda2339753ceaf1"
      },
      "cell_type": "code",
      "source": "application_train$NAME_TYPE_SUITE[application_train$NAME_TYPE_SUITE == 'Spouse, partner'] <- 'Spouse or partner'\napplication_train$NAME_TYPE_SUITE<-factor(application_train$NAME_TYPE_SUITE)",
      "execution_count": null,
      "outputs": []
    },
    {
      "metadata": {
        "trusted": true,
        "_uuid": "5803719234ce75380b5d4187c0e5075e4d39e100"
      },
      "cell_type": "code",
      "source": "# class distribution\ntable(application_train$TARGET)",
      "execution_count": null,
      "outputs": []
    },
    {
      "metadata": {
        "trusted": true,
        "_uuid": "940861c19abb85990b37c60652a6167e6013a8dc"
      },
      "cell_type": "code",
      "source": "# Split Data into Train and test - 70:30\nlibrary(caret)\nset.seed(7)\ntrain_test_split<-createDataPartition(application_train$TARGET, p=0.7, list = FALSE)\ntrain_data<-application_train[train_test_split,]\ntest_data<-application_train[-train_test_split,]",
      "execution_count": null,
      "outputs": []
    },
    {
      "metadata": {
        "trusted": true,
        "_uuid": "133f4522dcf002ea74e45d450bcb7910fa653726"
      },
      "cell_type": "code",
      "source": "# train - class distribution\ntable(train_data$TARGET)",
      "execution_count": null,
      "outputs": []
    },
    {
      "metadata": {
        "trusted": true,
        "_uuid": "69c09e228e4f85e6db134d2d49c96a67a4c08692"
      },
      "cell_type": "code",
      "source": "# test - class distribution\ntable(test_data$TARGET)",
      "execution_count": null,
      "outputs": []
    },
    {
      "metadata": {
        "trusted": true,
        "_uuid": "9e726797e26c48c656a98746fed9c846ce8c2161"
      },
      "cell_type": "code",
      "source": "library(C50)\ndtC50 = C5.0(TARGET ~ ., data = train_data[,-c(1)], rules=TRUE)\nsummary(dtC50)",
      "execution_count": null,
      "outputs": []
    },
    {
      "metadata": {
        "trusted": true,
        "_uuid": "36731d5236c4397f258dafede1a3b3b8292d8128"
      },
      "cell_type": "code",
      "source": "# Predict on test data \npred_model_test <-predict(dtC50,test_data[,-c(1,2)],type=\"class\")\nresult_test <- table(\"actual _values\"= test_data$TARGET,pred_model_test);result_test\n# Accuracy,Precision and Recall on train\ntest_accuracy <- sum(diag(result_test))/sum(result_test)*100;test_accuracy",
      "execution_count": null,
      "outputs": []
    },
    {
      "metadata": {
        "trusted": true,
        "_uuid": "ef309850094b31b3073dbd9a0d530c9bb953b1fd"
      },
      "cell_type": "code",
      "source": "# scoring\n#test_data$predict.class <- predict(dtC50, test_data[,-c(1,2)], type=\"class\")\n#test_data$predict.score <- predict(dtC50, test_data[,-c(1,2)], type=\"prob\")\n#head(test_data)",
      "execution_count": null,
      "outputs": []
    },
    {
      "metadata": {
        "trusted": true,
        "_uuid": "066c3603cd0cc9edd489acd44677dd0fabe205e6"
      },
      "cell_type": "code",
      "source": "# Prediction and Calculate Performance Metrics\npredictions <- predict(dtC50,test_data[,-c(1,2)],type='class')\nlibrary(pROC)\nroc_curve <- roc(test_data$TARGET,as.numeric(predictions),plot=TRUE)\nauc(roc_curve)",
      "execution_count": null,
      "outputs": []
    }
  ],
  "metadata": {
    "kernelspec": {
      "display_name": "R",
      "language": "R",
      "name": "ir"
    },
    "language_info": {
      "mimetype": "text/x-r-source",
      "name": "R",
      "pygments_lexer": "r",
      "version": "3.4.2",
      "file_extension": ".r",
      "codemirror_mode": "r"
    }
  },
  "nbformat": 4,
  "nbformat_minor": 1
}