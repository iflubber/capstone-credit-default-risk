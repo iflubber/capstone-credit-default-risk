{
 "cells": [
  {
   "cell_type": "code",
   "execution_count": null,
   "metadata": {
    "_execution_state": "idle",
    "_uuid": "0780e1bb8a7a6daad9545f90959cdde7fb75e2da"
   },
   "outputs": [],
   "source": [
    "## Importing packages\n",
    "\n",
    "# This R environment comes with all of CRAN and many other helpful packages preinstalled.\n",
    "# You can see which packages are installed by checking out the kaggle/rstats docker image: \n",
    "# https://github.com/kaggle/docker-rstats\n",
    "\n",
    "library(tidyverse) # metapackage with lots of helpful functions\n",
    "\n",
    "## Running code\n",
    "\n",
    "# In a notebook, you can run a single code cell by clicking in the cell and then hitting \n",
    "# the blue arrow to the left, or by clicking in the cell and pressing Shift+Enter. In a script, \n",
    "# you can run code by highlighting the code you want to run and then clicking the blue arrow\n",
    "# at the bottom of this window.\n",
    "\n",
    "## Reading in files\n",
    "\n",
    "# You can access files from datasets you've added to this kernel in the \"../input/\" directory.\n",
    "# You can see the files added to this kernel by running the code below. \n",
    "\n",
    "list.files(path = \"../input\")\n",
    "\n",
    "## Saving data\n",
    "\n",
    "# If you save any files or images, these will be put in the \"output\" directory. You \n",
    "# can see the output directory by committing and running your kernel (using the \n",
    "# Commit & Run button) and then checking out the compiled version of your kernel."
   ]
  },
  {
   "cell_type": "code",
   "execution_count": null,
   "metadata": {
    "_uuid": "5abd12e39da0dacaed8c9cffb9e88daaf37b3e64"
   },
   "outputs": [],
   "source": [
    "application_train <- read.csv('../input/application_train_clean_SMOTEd.csv',1)\n",
    "dim(application_train)"
   ]
  },
  {
   "cell_type": "code",
   "execution_count": null,
   "metadata": {
    "_uuid": "e3e059b175b7020550e6f3b36564ba5e82583d03"
   },
   "outputs": [],
   "source": [
    "str(application_train)"
   ]
  },
  {
   "cell_type": "code",
   "execution_count": null,
   "metadata": {
    "_uuid": "5a2a6b37261fecf58f443afc2e7d8c3ee3a84546"
   },
   "outputs": [],
   "source": [
    "names(application_train)"
   ]
  },
  {
   "cell_type": "code",
   "execution_count": null,
   "metadata": {
    "_uuid": "921e038345d1ba4cf2778fbf2725766a4ba0ca22"
   },
   "outputs": [],
   "source": [
    "# convert categorical attributes to factor type\n",
    "data_cat <- application_train[,c(1:49)]\n",
    "data_num <- application_train[,-c(1:49)]\n",
    "data_cat <- data.frame(apply(data_cat, 2,function(x){as.factor(x)}))\n",
    "data_num <- data.frame(apply(data_num, 2,function(x){as.numeric(x)}))\n",
    "application_train <- cbind(data_cat,data_num)\n",
    "str(application_train)"
   ]
  },
  {
   "cell_type": "code",
   "execution_count": null,
   "metadata": {
    "_uuid": "2bd161cbed1b6c1e4bb98040af8fa67d77168324"
   },
   "outputs": [],
   "source": [
    "summary(application_train)"
   ]
  },
  {
   "cell_type": "code",
   "execution_count": null,
   "metadata": {
    "_uuid": "5b5d5713566dbfe62e03557987a97eee3543ee48"
   },
   "outputs": [],
   "source": [
    "application_train <- application_train[,-c(12,38,40,69,70)] # drop insignificant features\n",
    "# drop minority observations\n",
    "application_train <- subset(application_train, !(application_train$CODE_GENDER == \"X\"))\n",
    "application_train$CODE_GENDER<-factor(application_train$CODE_GENDER)\n",
    "application_train <- subset(application_train, !(application_train$NAME_FAMILY_STATUS == \"Unknown\"))\n",
    "application_train$NAME_FAMILY_STATUS<-factor(application_train$NAME_FAMILY_STATUS)"
   ]
  },
  {
   "cell_type": "code",
   "execution_count": null,
   "metadata": {
    "_uuid": "6b809763370ad655c7680e59fc50b3bb54e014c4"
   },
   "outputs": [],
   "source": [
    "# class distribution\n",
    "table(application_train$TARGET)"
   ]
  },
  {
   "cell_type": "code",
   "execution_count": null,
   "metadata": {
    "_uuid": "7798f6e0cc4426008dfad709c62159874fc16bc9"
   },
   "outputs": [],
   "source": [
    "# Split Data into Train and test - 70:30\n",
    "library(caret)\n",
    "set.seed(7)\n",
    "train_test_split<-createDataPartition(application_train$TARGET, p=0.7, list = FALSE)\n",
    "train_data<-application_train[train_test_split,]\n",
    "test_data<-application_train[-train_test_split,]"
   ]
  },
  {
   "cell_type": "code",
   "execution_count": null,
   "metadata": {
    "_uuid": "b52e3fc1a59ac1f059815320881b89e5a683a4df"
   },
   "outputs": [],
   "source": [
    "# train - class distribution\n",
    "table(train_data$TARGET)"
   ]
  },
  {
   "cell_type": "code",
   "execution_count": null,
   "metadata": {
    "_uuid": "f46cdd529da2bb137357e6cff6f6d415c7a85a2e"
   },
   "outputs": [],
   "source": [
    "# test - class distribution\n",
    "table(test_data$TARGET)"
   ]
  },
  {
   "cell_type": "code",
   "execution_count": null,
   "metadata": {
    "_uuid": "de315154f186ba7dbc9a1195aaace5f7bf7c7420"
   },
   "outputs": [],
   "source": [
    "library(gbm)\n",
    "gbm.model<-gbm(TARGET ~ . , data = train_data[,-c(1)], distribution = \"bernoulli\", n.trees = 500, \n",
    "               cv.folds = 3, shrinkage = 0.01, interaction.depth = 2)\n",
    "print(gbm.model)"
   ]
  },
  {
   "cell_type": "code",
   "execution_count": null,
   "metadata": {
    "_uuid": "78ada989bda46f171505a484a61e4bfe1265e874"
   },
   "outputs": [],
   "source": [
    "# Check performance using the out-of-bag (OOB) error; the OOB error typically\n",
    "# underestimates the optimal number of iterations\n",
    "#best.iter <- gbm.perf(gbm.model, method = \"OOB\")\n",
    "# Check performance using the 50% heldout test set\n",
    "best.iter <- gbm.perf(gbm.model, method = \"test\", plot.it = FALSE)\n",
    "# Check the best iteration number\n",
    "#best.iter <- gbm.perf(gbm.model, method=\"cv\")\n",
    "best.iter"
   ]
  },
  {
   "cell_type": "code",
   "execution_count": null,
   "metadata": {
    "_uuid": "00b5683105033d3773265cbb90315da79892ba13"
   },
   "outputs": [],
   "source": [
    "# Plot relative influence of each variable\n",
    "par(mfrow = c(1, 2))\n",
    "summary(gbm.model, n.trees = 1, plot.it = FALSE)          # using first tree\n",
    "summary(gbm.model, n.trees = best.iter, plot.it = FALSE)  # using estimated best number of trees"
   ]
  },
  {
   "cell_type": "code",
   "execution_count": null,
   "metadata": {
    "_uuid": "b11654f54095cc9365a1f36cf3a684b98fd07806"
   },
   "outputs": [],
   "source": [
    "# Plots the marginal effect of the selected variables by \"integrating\" out the other variables\n",
    "plot.gbm(gbm.model, 1, best.iter)"
   ]
  },
  {
   "cell_type": "code",
   "execution_count": null,
   "metadata": {
    "_uuid": "54aadff7a83d7f4591570b860044bcdef79f8b80"
   },
   "outputs": [],
   "source": [
    "plot.gbm(gbm.model, 2, best.iter)"
   ]
  },
  {
   "cell_type": "code",
   "execution_count": null,
   "metadata": {
    "_uuid": "9542245f8924136b5b3beca8b025fdd1f0da98cb"
   },
   "outputs": [],
   "source": [
    "plot.gbm(gbm.model, 3, best.iter)"
   ]
  },
  {
   "cell_type": "code",
   "execution_count": null,
   "metadata": {
    "_uuid": "8adefe0ea610ad35f9a361610c2cbbf493e6b9ec"
   },
   "outputs": [],
   "source": [
    "plot.gbm(gbm.model, 4, best.iter)"
   ]
  },
  {
   "cell_type": "code",
   "execution_count": null,
   "metadata": {
    "_uuid": "5e92b11f1c9293da79ad7b2ba91bc997a00f53c0"
   },
   "outputs": [],
   "source": [
    "plot.gbm(gbm.model, 5, best.iter)"
   ]
  },
  {
   "cell_type": "code",
   "execution_count": null,
   "metadata": {
    "_uuid": "87bb6e62330a9011e67d6110e1c91083791cafae"
   },
   "outputs": [],
   "source": [
    "#set.seed(7)\n",
    "#fitControl = trainControl(method=\"cv\", number=2)\n",
    "\n",
    "#gbm.model = train(TARGET~., data=train_data[,-c(1)], method=\"gbm\",distribution=\"bernoulli\", trControl=fitControl,\n",
    "#                  metric = \"ROC\", verbose=FALSE,\n",
    "#                  tuneGrid=data.frame(.n.trees=best.iter, .shrinkage=0.01, .interaction.depth=1, .n.minobsinnode=1))\n",
    "#gbm.model"
   ]
  },
  {
   "cell_type": "code",
   "execution_count": null,
   "metadata": {
    "_uuid": "add111e25d63078eabee8c46d831bd39263232bd"
   },
   "outputs": [],
   "source": [
    "pred <- predict(gbm.model, train_data[,-c(1)], n.trees = best.iter, na.action = na.pass)\n",
    "postResample(pred, train_data$TARGET)"
   ]
  },
  {
   "cell_type": "code",
   "execution_count": null,
   "metadata": {
    "_uuid": "dc8ff02551c57c604e6f6e990248d0c8bd8b0ad4"
   },
   "outputs": [],
   "source": [
    "confusionMatrix(pred, train_data$TARGET)"
   ]
  },
  {
   "cell_type": "code",
   "execution_count": null,
   "metadata": {
    "_uuid": "b8ac7b1c4732665befb6c614a98e68788c4381be"
   },
   "outputs": [],
   "source": [
    "pred <- predict(gbm.model, test_data[,-c(1)], n.trees = best.iter, na.action = na.pass)\n",
    "postResample(pred, test_data$TARGET)"
   ]
  },
  {
   "cell_type": "code",
   "execution_count": null,
   "metadata": {
    "_uuid": "ea107032ee48e523dd0778554ec6353696c967bf"
   },
   "outputs": [],
   "source": [
    "confusionMatrix(pred, test_data$TARGET)"
   ]
  },
  {
   "cell_type": "code",
   "execution_count": null,
   "metadata": {
    "_uuid": "af51ba0f480d1762e9d209653aa13f696d8a6a21"
   },
   "outputs": [],
   "source": [
    "results <- predict(gbm.model, test_data[,-c(1)], n.trees = best.iter, na.action = na.pass, type = \"prob\")\n",
    "results$obs = train_data$TARGET\n",
    "head(results)"
   ]
  },
  {
   "cell_type": "code",
   "execution_count": null,
   "metadata": {
    "_uuid": "4f1136043d3903a3b4ccacde09b07a949f5930f8"
   },
   "outputs": [],
   "source": [
    "mnLogLoss(results, lev = levels(results$obs))"
   ]
  },
  {
   "cell_type": "code",
   "execution_count": null,
   "metadata": {
    "_uuid": "517156f62c94c6509dd6cecd66042e3048ecf1ab"
   },
   "outputs": [],
   "source": [
    "results$pred <- predict(gbm.model, test_data[,-c(1)], n.trees = best.iter, na.action = na.pass)\n",
    "multiClassSummary(results, lev = levels(results$obs))"
   ]
  },
  {
   "cell_type": "code",
   "execution_count": null,
   "metadata": {
    "_uuid": "3174bef2ef8f27b9b4cf828951fbce1ee32050dd"
   },
   "outputs": [],
   "source": [
    "# Prediction and Calculate Performance Metrics\n",
    "predictions <- predict(gbm.model,test_data[,-c(1)], n.trees = best.iter)\n",
    "library(pROC)\n",
    "roc_curve <- roc(test_data$TARGET,as.numeric(predictions),plot=TRUE)\n",
    "auc(roc_curve)"
   ]
  }
 ],
 "metadata": {
  "kernelspec": {
   "display_name": "R",
   "language": "R",
   "name": "ir"
  },
  "language_info": {
   "codemirror_mode": "r",
   "file_extension": ".r",
   "mimetype": "text/x-r-source",
   "name": "R",
   "pygments_lexer": "r",
   "version": "3.5.1"
  }
 },
 "nbformat": 4,
 "nbformat_minor": 1
}
