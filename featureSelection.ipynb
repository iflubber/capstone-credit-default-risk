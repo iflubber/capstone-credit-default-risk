{
  "cells": [
    {
      "metadata": {
        "_uuid": "d8d280fc5d7fb84c7de88e79182b269d105a13bc",
        "_execution_state": "idle",
        "trusted": false
      },
      "cell_type": "code",
      "source": "## Importing packages\n\n# This R environment comes with all of CRAN and many other helpful packages preinstalled.\n# You can see which packages are installed by checking out the kaggle/rstats docker image: \n# https://github.com/kaggle/docker-rstats\n\nlibrary(tidyverse) # metapackage with lots of helpful functions\n\n## Running code\n\n# In a notebook, you can run a single code cell by clicking in the cell and then hitting \n# the blue arrow to the left, or by clicking in the cell and pressing Shift+Enter. In a script, \n# you can run code by highlighting the code you want to run and then clicking the blue arrow\n# at the bottom of this window.\n\n## Reading in files\n\n# You can access files from datasets you've added to this kernel in the \"../input/\" directory.\n# You can see the files added to this kernel by running the code below. \n\nlist.files(path = \"../input\")\n\n## Saving data\n\n# If you save any files or images, these will be put in the \"output\" directory. You \n# can see the output directory by committing and running your kernel (using the \n# Commit & Run button) and then checking out the compiled version of your kernel.",
      "execution_count": null,
      "outputs": []
    },
    {
      "metadata": {
        "trusted": true,
        "_uuid": "1b0fc8e6f184e6c41a8f0b4e7057fa0d5dc6b164"
      },
      "cell_type": "code",
      "source": "application_train <- read.csv('../input/application_train_clean_SMOTEd.csv',1)\ndim(application_train)",
      "execution_count": null,
      "outputs": []
    },
    {
      "metadata": {
        "trusted": true,
        "_uuid": "44ed1ca4e90c97294917c9faf48d0fe302e7a8db"
      },
      "cell_type": "code",
      "source": "str(application_train)",
      "execution_count": null,
      "outputs": []
    },
    {
      "metadata": {
        "trusted": true,
        "_uuid": "67d1a0bc854ff920073e0a1dcb152299045fca6c"
      },
      "cell_type": "code",
      "source": "names(application_train)",
      "execution_count": null,
      "outputs": []
    },
    {
      "metadata": {
        "trusted": true,
        "_uuid": "f159ffe291031a65ea9eef9cc612c86acb319081"
      },
      "cell_type": "code",
      "source": "# convert categorical attributes to factor type\ndata_cat <- application_train[,c(1:49)]\ndata_num <- application_train[,-c(1:49)]\ndata_cat <- data.frame(apply(data_cat, 2,function(x){as.factor(x)}))\ndata_num <- data.frame(apply(data_num, 2,function(x){as.numeric(x)}))\napplication_train <- cbind(data_cat,data_num)\nstr(application_train)",
      "execution_count": null,
      "outputs": []
    },
    {
      "metadata": {
        "trusted": true,
        "_uuid": "8dddd24da2f2928ed1f19a7c33110901f6639043"
      },
      "cell_type": "code",
      "source": "summary(application_train[,-c(1:49)])",
      "execution_count": null,
      "outputs": []
    },
    {
      "metadata": {
        "_uuid": "5e4aa3134c62807665b701c9a347d3133e03455e"
      },
      "cell_type": "markdown",
      "source": "AMT_REQ_CREDIT_BUREAU_HOUR & AMT_REQ_CREDIT_BUREAU_DAY are all zero"
    },
    {
      "metadata": {
        "trusted": true,
        "_uuid": "01a3da5b7834a3cc04f672b15c7179f0c7c9f2f2"
      },
      "cell_type": "code",
      "source": "library(caret)",
      "execution_count": null,
      "outputs": []
    },
    {
      "metadata": {
        "trusted": true,
        "_uuid": "1b9b9c8c5aba25cd7e7cedade3389622b00820de"
      },
      "cell_type": "code",
      "source": "# Feature Selection - 1\n#** Identify Redundant Features\nset.seed(7)\nlibrary(mlbench)\n# calculate correlation matrix\ncorrelationMatrix <- cor(application_train[,-c(1:49,69,70)])\n# summarize the correlation matrix\nprint(correlationMatrix)\nlibrary(corrplot)\nopar2 <- par(no.readonly = TRUE)\ncorrplot(correlationMatrix,method = \"circle\",tl.cex = 0.5,tl.col = \"black\",number.cex = 0.55,bg = \"grey14\",\n         addgrid.col = \"gray50\", tl.offset = 2,col = colorRampPalette(c(\"blue1\",\"ivory2\",\"firebrick2\"))(100))\n# find attributes that are highly corrected (ideally >0.75)\nhighlyCorrelated <- findCorrelation(correlationMatrix, cutoff=0.75)\n# print indexes of highly correlated attributes\nprint(highlyCorrelated)\nprint(names(application_train[,c(highlyCorrelated)]))",
      "execution_count": null,
      "outputs": []
    },
    {
      "metadata": {
        "trusted": true,
        "_uuid": "e4028ded3beba199558401d4148baa6e3e135652"
      },
      "cell_type": "code",
      "source": "application_train <- application_train[,-c(12,38,40,69,70)] # FLAG_MOBIL has got just 1 level; \n#FLAG_DOCUMENT_10 & FLAG_DOCUMENT_12 are almost constants; \n#AMT_REQ_CREDIT_BUREAU_HOUR & AMT_REQ_CREDIT_BUREAU_DAY are constants",
      "execution_count": null,
      "outputs": []
    },
    {
      "metadata": {
        "trusted": true,
        "_uuid": "65c7c9c978c9b5963208fb79e3c26dadfcc85bd8"
      },
      "cell_type": "code",
      "source": "# Configure parallel processing\nlibrary(parallel)\nlibrary(doParallel)\ncluster <- makeCluster(detectCores() - 1) # convention to leave 1 core for OS\nregisterDoParallel(cluster)",
      "execution_count": null,
      "outputs": []
    },
    {
      "metadata": {
        "trusted": true,
        "_uuid": "b1f15c2d18aebe93c02065c29bce1ceca1f64eb7"
      },
      "cell_type": "code",
      "source": "# Feature Selection - 2\n#** Features ranked by Importance\nset.seed(7)\n# prepare training scheme\ncontrol <- trainControl(method=\"cv\", number=5, allowParallel = TRUE)\n# train the model - Learning Vector Quantization (lvq)\nmodel <- train(TARGET~., data=application_train[,-c(1)], method=\"lvq\", preProcess=\"scale\", trControl=control)\n# estimate variable importance\nimportance <- varImp(model, scale=FALSE)\n# summarize importance\nprint(importance)\n# plot importance\nplot(importance)",
      "execution_count": null,
      "outputs": []
    },
    {
      "metadata": {
        "trusted": true,
        "_uuid": "2bbdd0c2871a0280a194bc4369aff0c77b7b722f"
      },
      "cell_type": "code",
      "source": "# Feature Selection - 3\n#** Recursive Feature Elimination\n#set.seed(7)\n# define the control using a random forest selection function\n#control <- rfeControl(functions=rfFuncs, method=\"cv\", number=5)\n# run the RFE algorithm\n#results <- rfe(application_train[,-c(1,2)], application_train[,c(2)], sizes=c(3:74), rfeControl=control)\n# summarize the results\n#print(results)\n# list the chosen features\n#predictors(results)\n# plot the results\n#plot(results, type=c(\"g\", \"o\"))",
      "execution_count": null,
      "outputs": []
    },
    {
      "metadata": {
        "trusted": true,
        "_uuid": "262e667f42303668f818d3ebef06d95308761611"
      },
      "cell_type": "code",
      "source": "# Feature Selection - 4\n# PCA",
      "execution_count": null,
      "outputs": []
    },
    {
      "metadata": {
        "trusted": true,
        "_uuid": "a4e4dc9d04f40d9a6f305d0f0f5d38057ec746d5"
      },
      "cell_type": "code",
      "source": "stopCluster(cluster)",
      "execution_count": null,
      "outputs": []
    }
  ],
  "metadata": {
    "kernelspec": {
      "display_name": "R",
      "language": "R",
      "name": "ir"
    },
    "language_info": {
      "mimetype": "text/x-r-source",
      "name": "R",
      "pygments_lexer": "r",
      "version": "3.4.2",
      "file_extension": ".r",
      "codemirror_mode": "r"
    }
  },
  "nbformat": 4,
  "nbformat_minor": 1
}