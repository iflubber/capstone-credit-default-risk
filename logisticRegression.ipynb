{
 "cells": [
  {
   "cell_type": "code",
   "execution_count": null,
   "metadata": {
    "_execution_state": "idle",
    "_uuid": "05e72ec7ed39ff49c22907dcd636c0d86fedad04"
   },
   "outputs": [],
   "source": [
    "## Importing packages\n",
    "\n",
    "# This R environment comes with all of CRAN and many other helpful packages preinstalled.\n",
    "# You can see which packages are installed by checking out the kaggle/rstats docker image: \n",
    "# https://github.com/kaggle/docker-rstats\n",
    "\n",
    "library(tidyverse) # metapackage with lots of helpful functions\n",
    "\n",
    "## Running code\n",
    "\n",
    "# In a notebook, you can run a single code cell by clicking in the cell and then hitting \n",
    "# the blue arrow to the left, or by clicking in the cell and pressing Shift+Enter. In a script, \n",
    "# you can run code by highlighting the code you want to run and then clicking the blue arrow\n",
    "# at the bottom of this window.\n",
    "\n",
    "## Reading in files\n",
    "\n",
    "# You can access files from datasets you've added to this kernel in the \"../input/\" directory.\n",
    "# You can see the files added to this kernel by running the code below. \n",
    "\n",
    "list.files(path = \"../input\")\n",
    "\n",
    "## Saving data\n",
    "\n",
    "# If you save any files or images, these will be put in the \"output\" directory. You \n",
    "# can see the output directory by committing and running your kernel (using the \n",
    "# Commit & Run button) and then checking out the compiled version of your kernel."
   ]
  },
  {
   "cell_type": "code",
   "execution_count": null,
   "metadata": {
    "_uuid": "c9db8654c721cc9bda0752c07f878b5b273152a7"
   },
   "outputs": [],
   "source": [
    "application_train <- read.csv('../input/application_train_clean_SMOTEd.csv',1)\n",
    "dim(application_train)"
   ]
  },
  {
   "cell_type": "code",
   "execution_count": null,
   "metadata": {
    "_uuid": "0613ca3dc794edd8c653107fd6a1bc43f1495967"
   },
   "outputs": [],
   "source": [
    "names(application_train)"
   ]
  },
  {
   "cell_type": "code",
   "execution_count": null,
   "metadata": {
    "_uuid": "78a3a436a89fbe8da8f4f640a131c7f9eca9541f"
   },
   "outputs": [],
   "source": [
    "# convert categorical attributes to factor type\n",
    "data_cat <- application_train[,c(1:49)]\n",
    "data_num <- application_train[,-c(1:49)]\n",
    "data_cat <- data.frame(apply(data_cat, 2,function(x){as.factor(x)}))\n",
    "data_num <- data.frame(apply(data_num, 2,function(x){as.numeric(x)}))\n",
    "application_train <- cbind(data_cat,data_num)\n",
    "str(application_train)"
   ]
  },
  {
   "cell_type": "code",
   "execution_count": null,
   "metadata": {
    "_uuid": "736712cd201d214928fdbcc393ddc97a2dd8396e"
   },
   "outputs": [],
   "source": [
    "# class distribution\n",
    "table(application_train$TARGET)"
   ]
  },
  {
   "cell_type": "code",
   "execution_count": null,
   "metadata": {
    "_uuid": "ffd6fbc579031431286994d7f77c787737aa8826",
    "scrolled": false
   },
   "outputs": [],
   "source": [
    "summary(application_train)"
   ]
  },
  {
   "cell_type": "markdown",
   "metadata": {
    "_uuid": "e39dea6628f9f801203fcad871bd35063744f9e5"
   },
   "source": [
    "1. Notice that the following categorical features have all its data in just 1 class. Let's drop them from the model.\n",
    "\n",
    "FLAG_DOCUMENT_12\n",
    "\n",
    "0:322722\n",
    "\n",
    "1:     3\n",
    "\n",
    "FLAG_DOCUMENT_10\n",
    "\n",
    "0:322721\n",
    "\n",
    "1:     4\n",
    "\n",
    "FLAG_MOBIL\n",
    "\n",
    "0:     1\n",
    "\n",
    "1:307510\n",
    "\n",
    "2. AMT_REQ_CREDIT_BUREAU_HOUR & AMT_REQ_CREDIT_BUREAU_DAY are all zero\n",
    "3. CODE_GENDER has got only 6 observations for level 'X'\n",
    "4. NAME_FAMILY_STATUS has got only 1 observation for level 'Unknown'"
   ]
  },
  {
   "cell_type": "code",
   "execution_count": null,
   "metadata": {
    "_uuid": "27ba2ec82c8ba1e6949d673462ea3e45077446cf"
   },
   "outputs": [],
   "source": [
    "application_train <- application_train[,-c(12,38,40,69,70)] # drop insignificant features\n",
    "# drop minority observations\n",
    "application_train <- subset(application_train, !(application_train$CODE_GENDER == \"X\"))\n",
    "application_train$CODE_GENDER<-factor(application_train$CODE_GENDER)\n",
    "application_train <- subset(application_train, !(application_train$NAME_FAMILY_STATUS == \"Unknown\"))\n",
    "application_train$NAME_FAMILY_STATUS<-factor(application_train$NAME_FAMILY_STATUS)"
   ]
  },
  {
   "cell_type": "code",
   "execution_count": null,
   "metadata": {
    "_uuid": "55d892263cf18010a668efdc5be6d31f0c37228f"
   },
   "outputs": [],
   "source": [
    "# Split Data into Train and test - 70:30\n",
    "library(caret)\n",
    "set.seed(7)\n",
    "train_test_split<-createDataPartition(application_train$TARGET, p=0.7, list = FALSE)\n",
    "train_data<-application_train[train_test_split,]\n",
    "test_data<-application_train[-train_test_split,]"
   ]
  },
  {
   "cell_type": "code",
   "execution_count": null,
   "metadata": {
    "_uuid": "f8d80a1e3ba9e6cd5cab7c94491237dde414fee4"
   },
   "outputs": [],
   "source": [
    "# Logistic Regression Model - all features\n",
    "logit_model1<-glm(TARGET~., data = train_data[,-c(1)], family = binomial(link = 'logit'))\n",
    "summary(logit_model1)"
   ]
  },
  {
   "cell_type": "code",
   "execution_count": null,
   "metadata": {
    "_uuid": "b9c33ea98c786d26a81cd0991f68eae495d0e06b"
   },
   "outputs": [],
   "source": [
    "# Feature Selection / Significance\n",
    "library(car)\n",
    "#** Multi-collinearity check\n",
    "vif(logit_model1)"
   ]
  },
  {
   "cell_type": "code",
   "execution_count": null,
   "metadata": {
    "_uuid": "5d93ebe2146af80a670dd2df905e39cb8c69203c"
   },
   "outputs": [],
   "source": [
    "# Feature Selection / Significance\n",
    "#** run anova\n",
    "anova(logit_model1, test = 'Chisq')"
   ]
  },
  {
   "cell_type": "code",
   "execution_count": null,
   "metadata": {
    "_uuid": "9a2ac0d116147cadba689dabdda93448f3a42b99"
   },
   "outputs": [],
   "source": [
    "library(lmtest)\n",
    "# Log Likelihood Test\n",
    "lrtest(logit_model1)"
   ]
  },
  {
   "cell_type": "code",
   "execution_count": null,
   "metadata": {
    "_uuid": "7c06d06f19f896fd311b796420580d5315813e10"
   },
   "outputs": [],
   "source": [
    "library(pscl)\n",
    "# McFadden Pseudo RSquare Test\n",
    "pR2(logit_model1)"
   ]
  },
  {
   "cell_type": "code",
   "execution_count": null,
   "metadata": {
    "_uuid": "80c308829409de8fa6110e3d8c7f166eca9ecf0a"
   },
   "outputs": [],
   "source": [
    "# Odds Ratio\n",
    "odd_model<-exp(coef(logit_model1))\n",
    "odd_model"
   ]
  },
  {
   "cell_type": "code",
   "execution_count": null,
   "metadata": {
    "_uuid": "b6ffc3e5a0b6ae8ab55356d1ae9ec860fd49d703"
   },
   "outputs": [],
   "source": [
    "# Predict the outcome - train\n",
    "predict_prob<-predict(logit_model1,train_data[,-c(1,2)], type=\"response\")\n",
    "predicted_response<-ifelse(predict_prob>0.5,1,0) \n",
    "predicted_response<-as.factor(predicted_response)\n",
    "##Confusion Matrix\n",
    "confusionMatrix(predicted_response,train_data$TARGET)"
   ]
  },
  {
   "cell_type": "code",
   "execution_count": null,
   "metadata": {
    "_uuid": "eecc6be76d8675e752c319e8d33caf43610e0674"
   },
   "outputs": [],
   "source": [
    "library(ROCR)\n",
    "# ROC - training data\n",
    "pred<-predict(logit_model1,train_data[,-c(1,2)], type='response')\n",
    "pred<-prediction(pred, train_data$TARGET)\n",
    "roc<-performance(pred,\"tpr\", \"fpr\")\n",
    "plot(roc)\n",
    "auc<-performance(pred,\"auc\")\n",
    "auc\n",
    "auc<-unlist(slot(auc,\"y.values\"))\n",
    "auc"
   ]
  },
  {
   "cell_type": "code",
   "execution_count": null,
   "metadata": {
    "_uuid": "48a2763b36b52cc057a6af16262131db845dd93b"
   },
   "outputs": [],
   "source": [
    "# Predict the outcome - test\n",
    "predict_prob<-predict(logit_model1,test_data[,-c(1,2)], type=\"response\")\n",
    "predicted_response<-ifelse(predict_prob>0.5,1,0) \n",
    "predicted_response<-as.factor(predicted_response)\n",
    "##Confusion Matrix\n",
    "confusionMatrix(predicted_response,test_data$TARGET)"
   ]
  },
  {
   "cell_type": "code",
   "execution_count": null,
   "metadata": {
    "_uuid": "364fc195411b25809404a1c9a732c85b96a2e969"
   },
   "outputs": [],
   "source": [
    "# ROC - test data\n",
    "pred<-predict(logit_model1,test_data[,-c(1,2)], type='response')\n",
    "pred<-prediction(pred, test_data$TARGET)\n",
    "roc<-performance(pred,\"tpr\", \"fpr\")\n",
    "plot(roc)\n",
    "auc<-performance(pred,\"auc\")\n",
    "auc\n",
    "auc<-unlist(slot(auc,\"y.values\"))\n",
    "auc"
   ]
  }
 ],
 "metadata": {
  "kernelspec": {
   "display_name": "R",
   "language": "R",
   "name": "ir"
  },
  "language_info": {
   "codemirror_mode": "r",
   "file_extension": ".r",
   "mimetype": "text/x-r-source",
   "name": "R",
   "pygments_lexer": "r",
   "version": "3.5.1"
  }
 },
 "nbformat": 4,
 "nbformat_minor": 1
}
